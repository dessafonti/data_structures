{
 "cells": [
  {
   "attachments": {},
   "cell_type": "markdown",
   "metadata": {},
   "source": [
    "Real-World Problem Solving with Algorithms and Data Structures - Book Recommendation Model"
   ]
  },
  {
   "cell_type": "code",
   "execution_count": 4,
   "metadata": {},
   "outputs": [],
   "source": [
    "import pandas as pd\n",
    "import ipytest"
   ]
  },
  {
   "cell_type": "markdown",
   "metadata": {},
   "source": [
    "- Reading dataset from Amazon Books Dataset: Genre, Sub-genre, and Books (available at https://www.kaggle.com/datasets/tanisha1604/amazon-books-dataset-genre-sub-genre-and-books)"
   ]
  },
  {
   "cell_type": "code",
   "execution_count": 5,
   "metadata": {},
   "outputs": [],
   "source": [
    "books_df = pd.read_csv(\"Books_df.csv\")"
   ]
  },
  {
   "cell_type": "code",
   "execution_count": 6,
   "metadata": {
    "scrolled": true
   },
   "outputs": [
    {
     "name": "stdout",
     "output_type": "stream",
     "text": [
      "Books DataFrame:\n"
     ]
    },
    {
     "data": {
      "text/html": [
       "<div>\n",
       "<style scoped>\n",
       "    .dataframe tbody tr th:only-of-type {\n",
       "        vertical-align: middle;\n",
       "    }\n",
       "\n",
       "    .dataframe tbody tr th {\n",
       "        vertical-align: top;\n",
       "    }\n",
       "\n",
       "    .dataframe thead th {\n",
       "        text-align: right;\n",
       "    }\n",
       "</style>\n",
       "<table border=\"1\" class=\"dataframe\">\n",
       "  <thead>\n",
       "    <tr style=\"text-align: right;\">\n",
       "      <th></th>\n",
       "      <th>Unnamed: 0</th>\n",
       "      <th>Title</th>\n",
       "      <th>Author</th>\n",
       "      <th>Main Genre</th>\n",
       "      <th>Sub Genre</th>\n",
       "      <th>Type</th>\n",
       "      <th>Price</th>\n",
       "      <th>Rating</th>\n",
       "      <th>No. of People rated</th>\n",
       "      <th>URLs</th>\n",
       "    </tr>\n",
       "  </thead>\n",
       "  <tbody>\n",
       "    <tr>\n",
       "      <th>0</th>\n",
       "      <td>0</td>\n",
       "      <td>The Complete Novel of Sherlock Holmes</td>\n",
       "      <td>Arthur Conan Doyle</td>\n",
       "      <td>Arts, Film &amp; Photography</td>\n",
       "      <td>Cinema &amp; Broadcast</td>\n",
       "      <td>Paperback</td>\n",
       "      <td>₹169.00</td>\n",
       "      <td>4.4</td>\n",
       "      <td>19923.0</td>\n",
       "      <td>https://www.amazon.in/Complete-Novels-Sherlock...</td>\n",
       "    </tr>\n",
       "    <tr>\n",
       "      <th>1</th>\n",
       "      <td>1</td>\n",
       "      <td>Black Holes (L) : The Reith Lectures [Paperbac...</td>\n",
       "      <td>Stephen Hawking</td>\n",
       "      <td>Arts, Film &amp; Photography</td>\n",
       "      <td>Cinema &amp; Broadcast</td>\n",
       "      <td>Paperback</td>\n",
       "      <td>₹99.00</td>\n",
       "      <td>4.5</td>\n",
       "      <td>7686.0</td>\n",
       "      <td>https://www.amazon.in/Black-Holes-Lectures-Ste...</td>\n",
       "    </tr>\n",
       "    <tr>\n",
       "      <th>2</th>\n",
       "      <td>2</td>\n",
       "      <td>The Kite Runner</td>\n",
       "      <td>Khaled Hosseini</td>\n",
       "      <td>Arts, Film &amp; Photography</td>\n",
       "      <td>Cinema &amp; Broadcast</td>\n",
       "      <td>Kindle Edition</td>\n",
       "      <td>₹175.75</td>\n",
       "      <td>4.6</td>\n",
       "      <td>50016.0</td>\n",
       "      <td>https://www.amazon.in/Kite-Runner-Khaled-Hosse...</td>\n",
       "    </tr>\n",
       "    <tr>\n",
       "      <th>3</th>\n",
       "      <td>3</td>\n",
       "      <td>Greenlights: Raucous stories and outlaw wisdom...</td>\n",
       "      <td>Matthew McConaughey</td>\n",
       "      <td>Arts, Film &amp; Photography</td>\n",
       "      <td>Cinema &amp; Broadcast</td>\n",
       "      <td>Paperback</td>\n",
       "      <td>₹389.00</td>\n",
       "      <td>4.6</td>\n",
       "      <td>32040.0</td>\n",
       "      <td>https://www.amazon.in/Greenlights-Raucous-stor...</td>\n",
       "    </tr>\n",
       "    <tr>\n",
       "      <th>4</th>\n",
       "      <td>4</td>\n",
       "      <td>The Science of Storytelling: Why Stories Make ...</td>\n",
       "      <td>Will Storr</td>\n",
       "      <td>Arts, Film &amp; Photography</td>\n",
       "      <td>Cinema &amp; Broadcast</td>\n",
       "      <td>Paperback</td>\n",
       "      <td>₹348.16</td>\n",
       "      <td>4.5</td>\n",
       "      <td>1707.0</td>\n",
       "      <td>https://www.amazon.in/Science-Storytelling-Wil...</td>\n",
       "    </tr>\n",
       "  </tbody>\n",
       "</table>\n",
       "</div>"
      ],
      "text/plain": [
       "   Unnamed: 0                                              Title  \\\n",
       "0           0              The Complete Novel of Sherlock Holmes   \n",
       "1           1  Black Holes (L) : The Reith Lectures [Paperbac...   \n",
       "2           2                                    The Kite Runner   \n",
       "3           3  Greenlights: Raucous stories and outlaw wisdom...   \n",
       "4           4  The Science of Storytelling: Why Stories Make ...   \n",
       "\n",
       "                Author                Main Genre           Sub Genre  \\\n",
       "0   Arthur Conan Doyle  Arts, Film & Photography  Cinema & Broadcast   \n",
       "1      Stephen Hawking  Arts, Film & Photography  Cinema & Broadcast   \n",
       "2      Khaled Hosseini  Arts, Film & Photography  Cinema & Broadcast   \n",
       "3  Matthew McConaughey  Arts, Film & Photography  Cinema & Broadcast   \n",
       "4           Will Storr  Arts, Film & Photography  Cinema & Broadcast   \n",
       "\n",
       "             Type    Price  Rating  No. of People rated  \\\n",
       "0       Paperback  ₹169.00     4.4              19923.0   \n",
       "1       Paperback   ₹99.00     4.5               7686.0   \n",
       "2  Kindle Edition  ₹175.75     4.6              50016.0   \n",
       "3       Paperback  ₹389.00     4.6              32040.0   \n",
       "4       Paperback  ₹348.16     4.5               1707.0   \n",
       "\n",
       "                                                URLs  \n",
       "0  https://www.amazon.in/Complete-Novels-Sherlock...  \n",
       "1  https://www.amazon.in/Black-Holes-Lectures-Ste...  \n",
       "2  https://www.amazon.in/Kite-Runner-Khaled-Hosse...  \n",
       "3  https://www.amazon.in/Greenlights-Raucous-stor...  \n",
       "4  https://www.amazon.in/Science-Storytelling-Wil...  "
      ]
     },
     "execution_count": 6,
     "metadata": {},
     "output_type": "execute_result"
    }
   ],
   "source": [
    "print(\"Books DataFrame:\")\n",
    "books_df.head()"
   ]
  },
  {
   "cell_type": "markdown",
   "metadata": {},
   "source": [
    "- Converting price to Euro:"
   ]
  },
  {
   "cell_type": "code",
   "execution_count": 7,
   "metadata": {},
   "outputs": [
    {
     "name": "stdout",
     "output_type": "stream",
     "text": [
      "Books DataFrame with Prices in Euros:\n"
     ]
    },
    {
     "data": {
      "text/html": [
       "<div>\n",
       "<style scoped>\n",
       "    .dataframe tbody tr th:only-of-type {\n",
       "        vertical-align: middle;\n",
       "    }\n",
       "\n",
       "    .dataframe tbody tr th {\n",
       "        vertical-align: top;\n",
       "    }\n",
       "\n",
       "    .dataframe thead th {\n",
       "        text-align: right;\n",
       "    }\n",
       "</style>\n",
       "<table border=\"1\" class=\"dataframe\">\n",
       "  <thead>\n",
       "    <tr style=\"text-align: right;\">\n",
       "      <th></th>\n",
       "      <th>Unnamed: 0</th>\n",
       "      <th>Title</th>\n",
       "      <th>Author</th>\n",
       "      <th>Main Genre</th>\n",
       "      <th>Sub Genre</th>\n",
       "      <th>Type</th>\n",
       "      <th>Price</th>\n",
       "      <th>Rating</th>\n",
       "      <th>No. of People rated</th>\n",
       "      <th>URLs</th>\n",
       "      <th>Price_EUR</th>\n",
       "    </tr>\n",
       "  </thead>\n",
       "  <tbody>\n",
       "    <tr>\n",
       "      <th>0</th>\n",
       "      <td>0</td>\n",
       "      <td>The Complete Novel of Sherlock Holmes</td>\n",
       "      <td>Arthur Conan Doyle</td>\n",
       "      <td>Arts, Film &amp; Photography</td>\n",
       "      <td>Cinema &amp; Broadcast</td>\n",
       "      <td>Paperback</td>\n",
       "      <td>169.00</td>\n",
       "      <td>4.4</td>\n",
       "      <td>19923.0</td>\n",
       "      <td>https://www.amazon.in/Complete-Novels-Sherlock...</td>\n",
       "      <td>1.89</td>\n",
       "    </tr>\n",
       "    <tr>\n",
       "      <th>1</th>\n",
       "      <td>1</td>\n",
       "      <td>Black Holes (L) : The Reith Lectures [Paperbac...</td>\n",
       "      <td>Stephen Hawking</td>\n",
       "      <td>Arts, Film &amp; Photography</td>\n",
       "      <td>Cinema &amp; Broadcast</td>\n",
       "      <td>Paperback</td>\n",
       "      <td>99.00</td>\n",
       "      <td>4.5</td>\n",
       "      <td>7686.0</td>\n",
       "      <td>https://www.amazon.in/Black-Holes-Lectures-Ste...</td>\n",
       "      <td>1.11</td>\n",
       "    </tr>\n",
       "    <tr>\n",
       "      <th>2</th>\n",
       "      <td>2</td>\n",
       "      <td>The Kite Runner</td>\n",
       "      <td>Khaled Hosseini</td>\n",
       "      <td>Arts, Film &amp; Photography</td>\n",
       "      <td>Cinema &amp; Broadcast</td>\n",
       "      <td>Kindle Edition</td>\n",
       "      <td>175.75</td>\n",
       "      <td>4.6</td>\n",
       "      <td>50016.0</td>\n",
       "      <td>https://www.amazon.in/Kite-Runner-Khaled-Hosse...</td>\n",
       "      <td>1.97</td>\n",
       "    </tr>\n",
       "    <tr>\n",
       "      <th>3</th>\n",
       "      <td>3</td>\n",
       "      <td>Greenlights: Raucous stories and outlaw wisdom...</td>\n",
       "      <td>Matthew McConaughey</td>\n",
       "      <td>Arts, Film &amp; Photography</td>\n",
       "      <td>Cinema &amp; Broadcast</td>\n",
       "      <td>Paperback</td>\n",
       "      <td>389.00</td>\n",
       "      <td>4.6</td>\n",
       "      <td>32040.0</td>\n",
       "      <td>https://www.amazon.in/Greenlights-Raucous-stor...</td>\n",
       "      <td>4.35</td>\n",
       "    </tr>\n",
       "    <tr>\n",
       "      <th>4</th>\n",
       "      <td>4</td>\n",
       "      <td>The Science of Storytelling: Why Stories Make ...</td>\n",
       "      <td>Will Storr</td>\n",
       "      <td>Arts, Film &amp; Photography</td>\n",
       "      <td>Cinema &amp; Broadcast</td>\n",
       "      <td>Paperback</td>\n",
       "      <td>348.16</td>\n",
       "      <td>4.5</td>\n",
       "      <td>1707.0</td>\n",
       "      <td>https://www.amazon.in/Science-Storytelling-Wil...</td>\n",
       "      <td>3.89</td>\n",
       "    </tr>\n",
       "  </tbody>\n",
       "</table>\n",
       "</div>"
      ],
      "text/plain": [
       "   Unnamed: 0                                              Title  \\\n",
       "0           0              The Complete Novel of Sherlock Holmes   \n",
       "1           1  Black Holes (L) : The Reith Lectures [Paperbac...   \n",
       "2           2                                    The Kite Runner   \n",
       "3           3  Greenlights: Raucous stories and outlaw wisdom...   \n",
       "4           4  The Science of Storytelling: Why Stories Make ...   \n",
       "\n",
       "                Author                Main Genre           Sub Genre  \\\n",
       "0   Arthur Conan Doyle  Arts, Film & Photography  Cinema & Broadcast   \n",
       "1      Stephen Hawking  Arts, Film & Photography  Cinema & Broadcast   \n",
       "2      Khaled Hosseini  Arts, Film & Photography  Cinema & Broadcast   \n",
       "3  Matthew McConaughey  Arts, Film & Photography  Cinema & Broadcast   \n",
       "4           Will Storr  Arts, Film & Photography  Cinema & Broadcast   \n",
       "\n",
       "             Type   Price  Rating  No. of People rated  \\\n",
       "0       Paperback  169.00     4.4              19923.0   \n",
       "1       Paperback   99.00     4.5               7686.0   \n",
       "2  Kindle Edition  175.75     4.6              50016.0   \n",
       "3       Paperback  389.00     4.6              32040.0   \n",
       "4       Paperback  348.16     4.5               1707.0   \n",
       "\n",
       "                                                URLs  Price_EUR  \n",
       "0  https://www.amazon.in/Complete-Novels-Sherlock...       1.89  \n",
       "1  https://www.amazon.in/Black-Holes-Lectures-Ste...       1.11  \n",
       "2  https://www.amazon.in/Kite-Runner-Khaled-Hosse...       1.97  \n",
       "3  https://www.amazon.in/Greenlights-Raucous-stor...       4.35  \n",
       "4  https://www.amazon.in/Science-Storytelling-Wil...       3.89  "
      ]
     },
     "execution_count": 7,
     "metadata": {},
     "output_type": "execute_result"
    }
   ],
   "source": [
    "exchange_rate_inr_to_eur = 1 / 89.43  # 1 Euro = 89.43 INR\n",
    "\n",
    "# Removing commas and currency symbol from the prices and convert to float\n",
    "books_df['Price'] = books_df['Price'].str.replace(',', '').str.replace('₹', '').astype(float)\n",
    "\n",
    "# Calculating the price in Euros\n",
    "books_df['Price_EUR'] = books_df['Price'] * exchange_rate_inr_to_eur\n",
    "\n",
    "# Rounding the price in Euros to two decimal places\n",
    "books_df['Price_EUR'] = books_df['Price_EUR'].apply(lambda x: round(x, 2))\n",
    "\n",
    "print(\"Books DataFrame with Prices in Euros:\")\n",
    "books_df.head()\n"
   ]
  },
  {
   "cell_type": "markdown",
   "metadata": {},
   "source": [
    "UserManager function:\n",
    "\n",
    "- register_user(username, password): Registers a new user with the provided username and password. If the username already exists, it prompts the user to choose a different one. Otherwise, it adds the user to the system and prints a success message;\n",
    "  \n",
    "- login_user(username, password): Authenticates a user by checking if the provided username and password match the stored credentials. If the credentials are correct, it prints a success message and returns True; otherwise, it prints an error message and returns False;\n",
    "  \n",
    "- set_preference(username, preference_key, preference_value): Sets a preference for a user identified by their username. It allows users to customize their experience by storing preferences related to specific keys. It prints a success message upon setting the preference;\n",
    "  \n",
    "- get_preferences(username): Retrieves the preferences associated with a user identified by their username. It returns the preferences dictionary if the user is found and has preferences set; otherwise, it prints an error message and returns None;\n",
    "  \n",
    "- input_credentials(): Prompts the user to enter their username and password and returns them as a tuple;\n",
    "\n",
    "- check_all_users(): Prints a list of all registered users along with their passwords and preferences, if any. If no users are registered, it prints a corresponding message;\n",
    "\n",
    "- get_user_by_username(): Retrieves user information based on a provided username by computing an index and checking for a match in the user list, returning the user information if found, or None otherwise."
   ]
  },
  {
   "cell_type": "code",
   "execution_count": 8,
   "metadata": {},
   "outputs": [],
   "source": [
    "class UserManagement:\n",
    "  def __init__(self):\n",
    "    # Simulate a fixed-size hash table (adjust SIZE as needed)\n",
    "    self.SIZE = 10\n",
    "    self.users = [None] * self.SIZE  # Array to store user information\n",
    "\n",
    "  def _hash(self, username):\n",
    "    # Simple hash function (can be improved for better distribution)\n",
    "    return sum(ord(char) for char in username) % self.SIZE\n",
    "\n",
    "  def _find_slot(self, username):\n",
    "    # Find an empty slot or the slot containing the user\n",
    "    index = self._hash(username)\n",
    "    for i in range(self.SIZE):\n",
    "      probe_index = (index + i) % self.SIZE  # Linear probing for collisions\n",
    "      if self.users[probe_index] is None or self.users[probe_index]['username'] == username:\n",
    "        return probe_index\n",
    "    raise Exception(\"Hash table is full!\")\n",
    "\n",
    "  def register_user(self, username, password):\n",
    "    index = self._find_slot(username)\n",
    "    if self.users[index] is None:\n",
    "      self.users[index] = {'username': username, 'password': password, 'preferences': {}}\n",
    "      print(\"Registration successful!\")\n",
    "    else:\n",
    "      print(\"Username already exists. Please choose a different username.\")\n",
    "\n",
    "  def login_user(self, username, password):\n",
    "    index = self._find_slot(username)\n",
    "    if self.users[index] is not None and self.users[index]['username'] == username and self.users[index]['password'] == password:\n",
    "      print(\"Login successful!\")\n",
    "      return True\n",
    "    else:\n",
    "      print(\"Invalid username or password. Please try again.\")\n",
    "      return False\n",
    "\n",
    "  def set_preference(self, username, preference_key, preference_value):\n",
    "    index = self._find_slot(username)\n",
    "    if self.users[index] is not None:\n",
    "      if 'preferences' not in self.users[index]:\n",
    "        self.users[index]['preferences'] = {}\n",
    "      if preference_key in self.users[index]['preferences']:\n",
    "        self.users[index]['preferences'][preference_key].append(preference_value)\n",
    "      else:\n",
    "        self.users[index]['preferences'][preference_key] = [preference_value]\n",
    "      print(\"Preference set successfully!\")\n",
    "    else:\n",
    "      print(\"User not found. Please login again.\")\n",
    "\n",
    "  def get_preferences(self, username):\n",
    "    index = self._find_slot(username)\n",
    "    if self.users[index] is not None and 'preferences' in self.users[index]:\n",
    "      return self.users[index]['preferences']\n",
    "    else:\n",
    "      print(\"User not found or no preferences set.\")\n",
    "      return None\n",
    "\n",
    "  def input_credentials(self):\n",
    "    username = input(\"Enter your username: \")\n",
    "    password = input(\"Enter your password: \")\n",
    "    return username, password\n",
    "\n",
    "  def input_preferences(self):\n",
    "    favorite_genre = input(\"Enter your favorite genre: \")\n",
    "    favorite_author = input(\"Enter your favorite author: \")\n",
    "    favorite_book_type = input(\"Enter your favorite type of book: \")\n",
    "    return favorite_genre, favorite_author, favorite_book_type\n",
    "\n",
    "  def check_all_users(self):\n",
    "    if self.users:\n",
    "      print(\"List of all users:\")\n",
    "      for i in range(self.SIZE):\n",
    "        if self.users[i] is not None:\n",
    "          print(f\"Username: {self.users[i]['username']}, Password: {self.users[i]['password']}, Preferences: {self.users[i]['preferences']}\")\n",
    "    else:\n",
    "      print(\"No users registered yet.\")\n",
    "\n",
    "  def get_user_by_username(self, username):\n",
    "        index = self._find_slot(username)\n",
    "        if self.users[index] is not None and self.users[index]['username'] == username:\n",
    "            return self.users[index]\n",
    "        else:\n",
    "            return None\n",
    "\n"
   ]
  },
  {
   "cell_type": "markdown",
   "metadata": {},
   "source": [
    "- Testing UserManager methods:"
   ]
  },
  {
   "cell_type": "code",
   "execution_count": null,
   "metadata": {},
   "outputs": [],
   "source": []
  },
  {
   "cell_type": "markdown",
   "metadata": {},
   "source": [
    "- Registering users on the system:"
   ]
  },
  {
   "cell_type": "code",
   "execution_count": 9,
   "metadata": {},
   "outputs": [
    {
     "name": "stdout",
     "output_type": "stream",
     "text": [
      "Registration successful!\n",
      "Registration successful!\n",
      "Registration successful!\n",
      "Registration successful!\n"
     ]
    }
   ],
   "source": [
    "user_manager = UserManagement()\n",
    "\n",
    "# Register users\n",
    "user_manager.register_user('Sean', 'password123')\n",
    "user_manager.register_user('Saoirse', 'password789')\n",
    "user_manager.register_user('Finn', 'password456')\n",
    "user_manager.register_user('Aoife', 'password997')"
   ]
  },
  {
   "cell_type": "markdown",
   "metadata": {},
   "source": [
    "- Please input your registration information:"
   ]
  },
  {
   "cell_type": "code",
   "execution_count": 10,
   "metadata": {},
   "outputs": [
    {
     "name": "stdin",
     "output_type": "stream",
     "text": [
      "Enter your username:  Andressa\n",
      "Enter your password:  1234\n"
     ]
    },
    {
     "name": "stdout",
     "output_type": "stream",
     "text": [
      "Registration successful!\n"
     ]
    }
   ],
   "source": [
    "# Prompt for credentials\n",
    "username, password = user_manager.input_credentials()\n",
    "\n",
    "# Register the user based on the provided credentials\n",
    "user_manager.register_user(username, password)\n"
   ]
  },
  {
   "cell_type": "code",
   "execution_count": 11,
   "metadata": {},
   "outputs": [
    {
     "name": "stdout",
     "output_type": "stream",
     "text": [
      "List of all users:\n",
      "Username: Sean, Password: password123, Preferences: {}\n",
      "Username: Aoife, Password: password997, Preferences: {}\n",
      "Username: Finn, Password: password456, Preferences: {}\n",
      "Username: Saoirse, Password: password789, Preferences: {}\n",
      "Username: Andressa, Password: 1234, Preferences: {}\n"
     ]
    }
   ],
   "source": [
    "# Check all users\n",
    "user_manager.check_all_users()"
   ]
  },
  {
   "cell_type": "markdown",
   "metadata": {},
   "source": [
    "- Users setting preferences:"
   ]
  },
  {
   "cell_type": "markdown",
   "metadata": {},
   "source": [
    "- Sean:"
   ]
  },
  {
   "cell_type": "code",
   "execution_count": 12,
   "metadata": {},
   "outputs": [
    {
     "name": "stdout",
     "output_type": "stream",
     "text": [
      "Preference set successfully!\n",
      "Preference set successfully!\n",
      "Preference set successfully!\n",
      "Preference set successfully!\n"
     ]
    }
   ],
   "source": [
    "user_manager.set_preference('Sean', 'favorite_genre', 'Science Fiction')\n",
    "user_manager.set_preference('Sean', 'favorite_author', 'J.K. Rowling')\n",
    "user_manager.set_preference('Sean', 'favorite_author', 'David Nicholls')\n",
    "user_manager.set_preference('Sean', 'favorite_type', 'Paperback')"
   ]
  },
  {
   "cell_type": "markdown",
   "metadata": {},
   "source": [
    "- Saoirse:"
   ]
  },
  {
   "cell_type": "code",
   "execution_count": 13,
   "metadata": {},
   "outputs": [
    {
     "name": "stdout",
     "output_type": "stream",
     "text": [
      "Preference set successfully!\n",
      "Preference set successfully!\n",
      "Preference set successfully!\n"
     ]
    }
   ],
   "source": [
    "user_manager.set_preference('Saoirse', 'favorite_genre', 'Arts, Film & Photography')\n",
    "user_manager.set_preference('Saoirse', 'favorite_type', 'Kindle Edition')\n",
    "user_manager.set_preference('Sean', 'favorite_author', 'Oscar Wilde')"
   ]
  },
  {
   "cell_type": "markdown",
   "metadata": {},
   "source": [
    "- Finn:"
   ]
  },
  {
   "cell_type": "code",
   "execution_count": 14,
   "metadata": {},
   "outputs": [
    {
     "name": "stdout",
     "output_type": "stream",
     "text": [
      "Preference set successfully!\n",
      "Preference set successfully!\n",
      "Preference set successfully!\n"
     ]
    }
   ],
   "source": [
    "user_manager.set_preference('Finn', 'favorite_genre', 'Cinema & Broadcast')\n",
    "user_manager.set_preference('Finn', 'favorite_author', 'Aristotle')\n",
    "user_manager.set_preference('Finn', 'favorite_type', 'Hardcover')"
   ]
  },
  {
   "cell_type": "markdown",
   "metadata": {},
   "source": [
    "- Aoife:"
   ]
  },
  {
   "cell_type": "code",
   "execution_count": 15,
   "metadata": {},
   "outputs": [
    {
     "name": "stdout",
     "output_type": "stream",
     "text": [
      "Preference set successfully!\n",
      "Preference set successfully!\n",
      "Preference set successfully!\n",
      "Preference set successfully!\n"
     ]
    }
   ],
   "source": [
    "user_manager.set_preference('Aoife', 'favorite_genre', 'Economics')\n",
    "user_manager.set_preference('Aoife', 'favorite_genre', 'Administration & Policy')\n",
    "user_manager.set_preference('Aoife', 'favorite_author', 'Paramahansa Yogananda')\n",
    "user_manager.set_preference('Aoife', 'favorite_type', 'Paperback')"
   ]
  },
  {
   "cell_type": "markdown",
   "metadata": {},
   "source": [
    "- Please insert your preferences:"
   ]
  },
  {
   "cell_type": "code",
   "execution_count": 16,
   "metadata": {},
   "outputs": [
    {
     "name": "stdin",
     "output_type": "stream",
     "text": [
      "Enter your username:  Andressa\n",
      "Enter your favorite author:  Fraz Kafka\n",
      "Enter your favorite genre:  Fantasy\n",
      "Enter your favorite type of book:  Paperback\n"
     ]
    },
    {
     "name": "stdout",
     "output_type": "stream",
     "text": [
      "Preference set successfully!\n",
      "Preference set successfully!\n",
      "Preference set successfully!\n"
     ]
    }
   ],
   "source": [
    "username = input(\"Enter your username: \").strip() \n",
    "\n",
    "user_info = user_manager.get_user_by_username(username)\n",
    "\n",
    "if user_info is not None:\n",
    "\n",
    "    favorite_author = input(\"Enter your favorite author: \")\n",
    "    #In case the dataset doesn't include books from your favorite author, you can select one of those options (for testing purposes):\n",
    "    #[\"Zoey Draven\", \"John Marrs\", \"Victoria Aveline\", \"Ivy Barrett\", \"Talia Rhea\", \"Bella Matthews\", \"C.W. Farnsworth\", \"Bella Matthews\", \"Franz Kafka\"]\n",
    "\n",
    "    favorite_genre = input(\"Enter your favorite genre: \")\n",
    "    #examples of genre in the dataset: [\"Romance\", \"Science & Mathematics\", \"Sports\", \"Fantasy\"]\n",
    "\n",
    "    favorite_book_type = input(\"Enter your favorite type of book: \")\n",
    "     #examples of book type in teh dataset: [\"Paperback\", \"Kindle Edition\", \"Hardcover\"]\n",
    "\n",
    "    user_manager.set_preference(username, 'favorite_author', favorite_author)\n",
    "    user_manager.set_preference(username, 'favorite_genre', favorite_genre)\n",
    "    user_manager.set_preference(username, 'favorite_book_type', favorite_book_type)\n",
    "else:\n",
    "    print(\"User not found. Please register first.\")\n"
   ]
  },
  {
   "cell_type": "code",
   "execution_count": 17,
   "metadata": {},
   "outputs": [
    {
     "name": "stdout",
     "output_type": "stream",
     "text": [
      "List of all users:\n",
      "Username: Sean, Password: password123, Preferences: {'favorite_genre': ['Science Fiction'], 'favorite_author': ['J.K. Rowling', 'David Nicholls', 'Oscar Wilde'], 'favorite_type': ['Paperback']}\n",
      "Username: Aoife, Password: password997, Preferences: {'favorite_genre': ['Economics', 'Administration & Policy'], 'favorite_author': ['Paramahansa Yogananda'], 'favorite_type': ['Paperback']}\n",
      "Username: Finn, Password: password456, Preferences: {'favorite_genre': ['Cinema & Broadcast'], 'favorite_author': ['Aristotle'], 'favorite_type': ['Hardcover']}\n",
      "Username: Saoirse, Password: password789, Preferences: {'favorite_genre': ['Arts, Film & Photography'], 'favorite_type': ['Kindle Edition']}\n",
      "Username: Andressa, Password: 1234, Preferences: {'favorite_author': ['Fraz Kafka'], 'favorite_genre': ['Fantasy'], 'favorite_book_type': ['Paperback']}\n"
     ]
    }
   ],
   "source": [
    "# Check all users\n",
    "user_manager.check_all_users()"
   ]
  },
  {
   "cell_type": "markdown",
   "metadata": {},
   "source": [
    "GenreRecommender function:\n",
    "\n",
    "- recommend_books(): This method recommends books based on a user's favorite genre by retrieving user information, validating login credentials, filtering books by the favorite genre, and returning the top recommended books;\n",
    "  \n",
    "- filter_books_by_genre(): This method filters books by a given favorite genre, converting the genre to a string if it's a list and then filtering the books DataFrame based on the genre match;\n",
    "  \n",
    "- get_top_recommendations(): This method retrieves the top recommended books from a filtered DataFrame based on ratings, selecting specific columns for the recommendations and limiting the number of recommendations to three;\n",
    "  \n",
    "- get_user_info(): This method retrieves user information based on the provided username, calling the get_user_by_username method from the user manager and returning the user information."
   ]
  },
  {
   "cell_type": "code",
   "execution_count": 18,
   "metadata": {},
   "outputs": [],
   "source": [
    "class GenreRecommender:\n",
    "    def __init__(self, user_manager, books_df):\n",
    "        self.user_manager = user_manager\n",
    "        self.books_df = books_df\n",
    "\n",
    "    def recommend_books(self, username):\n",
    "        \"\"\"Recommends books based on user's favorite genre from preferences\"\"\"\n",
    "        user_info = self.user_manager.get_user_by_username(username)\n",
    "        if user_info:\n",
    "            if self.user_manager.login_user(username, user_info['password']):\n",
    "                favorite_genre = user_info['preferences'].get('favorite_genre')\n",
    "                if favorite_genre:\n",
    "                    filtered_books = self.filter_books_by_genre(favorite_genre)\n",
    "                    recommendations = self.get_top_recommendations(filtered_books)\n",
    "                    print(f\"Here are some recommendations for {username} based on favorite genre '{favorite_genre}':\")\n",
    "                    return recommendations\n",
    "                else:\n",
    "                    print(f\"{username} doesn't have a favorite genre set in preferences.\")\n",
    "                    return pd.DataFrame()  # Return an empty DataFrame\n",
    "            else:\n",
    "                print(\"Invalid username or password. Please try again.\")\n",
    "                return pd.DataFrame()  # Return an empty DataFrame\n",
    "        else:\n",
    "            print(f\"User {username} not found.\")\n",
    "            return pd.DataFrame()  # Return an empty DataFrame\n",
    "\n",
    "    def filter_books_by_genre(self, favorite_genre):\n",
    "        if isinstance(favorite_genre, list):\n",
    "            favorite_genre = \", \".join(favorite_genre)\n",
    "        if self.books_df['Main Genre'].dtype != object:\n",
    "            self.books_df['Main Genre'] = self.books_df['Main Genre'].astype(str)\n",
    "        return self.books_df[self.books_df['Main Genre'].str.contains(favorite_genre, case=False)]\n",
    "\n",
    "    def get_top_recommendations(self, filtered_books):\n",
    "        selected_columns = ['Title', 'Author', 'Price_EUR', 'Rating', 'URLs']\n",
    "        sorted_books = filtered_books.sort_values(by='Rating', ascending=False)[selected_columns]\n",
    "        recommendation_count = 3\n",
    "        return sorted_books.head(recommendation_count)\n",
    "\n",
    "    def get_user_info(self, username):\n",
    "        \"\"\"Retrieve user information\"\"\"\n",
    "        user_info = self.user_manager.get_user_by_username(username)\n",
    "        return user_info"
   ]
  },
  {
   "cell_type": "code",
   "execution_count": 19,
   "metadata": {},
   "outputs": [
    {
     "name": "stdout",
     "output_type": "stream",
     "text": [
      "Login successful!\n",
      "Here are some recommendations for Saoirse based on favorite genre '['Arts, Film & Photography']':\n"
     ]
    },
    {
     "data": {
      "text/html": [
       "<style type=\"text/css\">\n",
       "</style>\n",
       "<table id=\"T_6ae32\">\n",
       "  <thead>\n",
       "    <tr>\n",
       "      <th class=\"blank level0\" >&nbsp;</th>\n",
       "      <th id=\"T_6ae32_level0_col0\" class=\"col_heading level0 col0\" >Title</th>\n",
       "      <th id=\"T_6ae32_level0_col1\" class=\"col_heading level0 col1\" >Author</th>\n",
       "      <th id=\"T_6ae32_level0_col2\" class=\"col_heading level0 col2\" >Price_EUR</th>\n",
       "      <th id=\"T_6ae32_level0_col3\" class=\"col_heading level0 col3\" >Rating</th>\n",
       "      <th id=\"T_6ae32_level0_col4\" class=\"col_heading level0 col4\" >URLs</th>\n",
       "    </tr>\n",
       "  </thead>\n",
       "  <tbody>\n",
       "    <tr>\n",
       "      <th id=\"T_6ae32_level0_row0\" class=\"row_heading level0 row0\" >132</th>\n",
       "      <td id=\"T_6ae32_row0_col0\" class=\"data row0 col0\" >Funny Jokes for 15 Year Old Teens: The Ultimate Q&A, One-Liner, Dad, Knock-Knock, Riddle, and Tongue Twister Collection! Hilarious and Silly Humor for Teenagers</td>\n",
       "      <td id=\"T_6ae32_row0_col1\" class=\"data row0 col1\" >Cooper The Pooper</td>\n",
       "      <td id=\"T_6ae32_row0_col2\" class=\"data row0 col2\" >1.850000</td>\n",
       "      <td id=\"T_6ae32_row0_col3\" class=\"data row0 col3\" >5.000000</td>\n",
       "      <td id=\"T_6ae32_row0_col4\" class=\"data row0 col4\" >https://www.amazon.in/Funny-Jokes-Year-Old-Teens-ebook/dp/B0CVFKC999/ref=zg_bs_g_1318063031_d_sccl_3/000-0000000-0000000?psc=1</td>\n",
       "    </tr>\n",
       "    <tr>\n",
       "      <th id=\"T_6ae32_level0_row1\" class=\"row_heading level0 row1\" >135</th>\n",
       "      <td id=\"T_6ae32_row1_col0\" class=\"data row1 col0\" >अभिनेता जीवन-एक संघर्ष: Evaluate yourself before you enter in the industry! (Hindi Edition)</td>\n",
       "      <td id=\"T_6ae32_row1_col1\" class=\"data row1 col1\" >Pankaj Gupta</td>\n",
       "      <td id=\"T_6ae32_row1_col2\" class=\"data row1 col2\" >1.110000</td>\n",
       "      <td id=\"T_6ae32_row1_col3\" class=\"data row1 col3\" >5.000000</td>\n",
       "      <td id=\"T_6ae32_row1_col4\" class=\"data row1 col4\" >https://www.amazon.in/%E0%A4%85%E0%A4%AD%E0%A4%BF%E0%A4%A8%E0%A5%87%E0%A4%A4%E0%A4%BE-%E0%A4%9C%E0%A5%80%E0%A4%B5%E0%A4%A8-%E0%A4%8F%E0%A4%95-%E0%A4%B8%E0%A4%82%E0%A4%98%E0%A4%B0%E0%A5%8D%E0%A4%B7-aspiring-actors-ebook/dp/B092TB1XJ4/ref=zg_bs_g_1318063031_d_sccl_6/000-0000000-0000000?psc=1</td>\n",
       "    </tr>\n",
       "    <tr>\n",
       "      <th id=\"T_6ae32_level0_row2\" class=\"row_heading level0 row2\" >120</th>\n",
       "      <td id=\"T_6ae32_row2_col0\" class=\"data row2 col0\" >அசுரனின் காதல் (Tamil Edition)</td>\n",
       "      <td id=\"T_6ae32_row2_col1\" class=\"data row2 col1\" >Ebin Rider</td>\n",
       "      <td id=\"T_6ae32_row2_col2\" class=\"data row2 col2\" >4.470000</td>\n",
       "      <td id=\"T_6ae32_row2_col3\" class=\"data row2 col3\" >5.000000</td>\n",
       "      <td id=\"T_6ae32_row2_col4\" class=\"data row2 col4\" >https://www.amazon.in/%E0%AE%85%E0%AE%9A%E0%AF%81%E0%AE%B0%E0%AE%A9%E0%AE%BF%E0%AE%A9%E0%AF%8D-%E0%AE%95%E0%AE%BE%E0%AE%A4%E0%AE%B2%E0%AF%8D-Tamil-Ebin-Rider-ebook/dp/B0CTFRN16B/ref=zg_bs_g_1318063031_d_sccl_21/000-0000000-0000000?psc=1</td>\n",
       "    </tr>\n",
       "  </tbody>\n",
       "</table>\n"
      ],
      "text/plain": [
       "<pandas.io.formats.style.Styler at 0x11734bc50>"
      ]
     },
     "execution_count": 19,
     "metadata": {},
     "output_type": "execute_result"
    }
   ],
   "source": [
    "# Create an instance of GenreRecommender\n",
    "genre_recommender = GenreRecommender(user_manager, books_df)\n",
    "\n",
    "recommendations = genre_recommender.recommend_books('Saoirse')\n",
    "styled_recommendations = recommendations.style\n",
    "styled_recommendations\n"
   ]
  },
  {
   "cell_type": "code",
   "execution_count": 21,
   "metadata": {},
   "outputs": [
    {
     "name": "stdin",
     "output_type": "stream",
     "text": [
      "Enter your username:  Andressa\n"
     ]
    },
    {
     "name": "stdout",
     "output_type": "stream",
     "text": [
      "Login successful!\n",
      "Here are some recommendations for Andressa based on favorite genre '['Fantasy']':\n"
     ]
    },
    {
     "data": {
      "text/html": [
       "<style type=\"text/css\">\n",
       "</style>\n",
       "<table id=\"T_0d4dc\">\n",
       "  <thead>\n",
       "    <tr>\n",
       "      <th class=\"blank level0\" >&nbsp;</th>\n",
       "      <th id=\"T_0d4dc_level0_col0\" class=\"col_heading level0 col0\" >Title</th>\n",
       "      <th id=\"T_0d4dc_level0_col1\" class=\"col_heading level0 col1\" >Author</th>\n",
       "      <th id=\"T_0d4dc_level0_col2\" class=\"col_heading level0 col2\" >Price_EUR</th>\n",
       "      <th id=\"T_0d4dc_level0_col3\" class=\"col_heading level0 col3\" >Rating</th>\n",
       "      <th id=\"T_0d4dc_level0_col4\" class=\"col_heading level0 col4\" >URLs</th>\n",
       "    </tr>\n",
       "  </thead>\n",
       "  <tbody>\n",
       "    <tr>\n",
       "      <th id=\"T_0d4dc_level0_row0\" class=\"row_heading level0 row0\" >3046</th>\n",
       "      <td id=\"T_0d4dc_row0_col0\" class=\"data row0 col0\" >Metamorphosis (Pocket Classics)</td>\n",
       "      <td id=\"T_0d4dc_row0_col1\" class=\"data row0 col1\" >Franz Kafka</td>\n",
       "      <td id=\"T_0d4dc_row0_col2\" class=\"data row0 col2\" >0.890000</td>\n",
       "      <td id=\"T_0d4dc_row0_col3\" class=\"data row0 col3\" >5.000000</td>\n",
       "      <td id=\"T_0d4dc_row0_col4\" class=\"data row0 col4\" >https://www.amazon.in/Metamorphosis-Pocket-Classics-Franz-Kafka/dp/8119623037/ref=zg_bs_g_1318165031_d_sccl_17/000-0000000-0000000?psc=1</td>\n",
       "    </tr>\n",
       "    <tr>\n",
       "      <th id=\"T_0d4dc_level0_row1\" class=\"row_heading level0 row1\" >2997</th>\n",
       "      <td id=\"T_0d4dc_row1_col0\" class=\"data row1 col0\" >Rogue Ascension: Book 5: First Ascension: A Progression LitRPG</td>\n",
       "      <td id=\"T_0d4dc_row1_col1\" class=\"data row1 col1\" >Hunter Mythos</td>\n",
       "      <td id=\"T_0d4dc_row1_col2\" class=\"data row1 col2\" >4.630000</td>\n",
       "      <td id=\"T_0d4dc_row1_col3\" class=\"data row1 col3\" >5.000000</td>\n",
       "      <td id=\"T_0d4dc_row1_col4\" class=\"data row1 col4\" >https://www.amazon.in/Rogue-Ascension-First-Progression-LitRPG-ebook/dp/B0CRHVNTBX/ref=zg_bs_g_1318163031_d_sccl_18/000-0000000-0000000?psc=1</td>\n",
       "    </tr>\n",
       "    <tr>\n",
       "      <th id=\"T_0d4dc_level0_row2\" class=\"row_heading level0 row2\" >3016</th>\n",
       "      <td id=\"T_0d4dc_row2_col0\" class=\"data row2 col0\" >JUJUTSU KAISEN, VOL. 20</td>\n",
       "      <td id=\"T_0d4dc_row2_col1\" class=\"data row2 col1\" >Gege Akutami</td>\n",
       "      <td id=\"T_0d4dc_row2_col2\" class=\"data row2 col2\" >7.020000</td>\n",
       "      <td id=\"T_0d4dc_row2_col3\" class=\"data row2 col3\" >4.900000</td>\n",
       "      <td id=\"T_0d4dc_row2_col4\" class=\"data row2 col4\" >https://www.amazon.in/JUJUTSU-KAISEN-VOL-Gege-Akutami/dp/1974738744/ref=zg_bs_g_1318165031_d_sccl_17/000-0000000-0000000?psc=1</td>\n",
       "    </tr>\n",
       "  </tbody>\n",
       "</table>\n"
      ],
      "text/plain": [
       "<pandas.io.formats.style.Styler at 0x116e5f150>"
      ]
     },
     "execution_count": 21,
     "metadata": {},
     "output_type": "execute_result"
    }
   ],
   "source": [
    "# Instantiate GenreRecommender\n",
    "genre_recommender = GenreRecommender(user_manager, books_df)\n",
    "\n",
    "# Prompt the user to enter their username\n",
    "username = input(\"Enter your username: \").strip()\n",
    "\n",
    "# Retrieve user information and recommendations\n",
    "user_info = genre_recommender.recommend_books(username)\n",
    "styled_recommendations = user_info.style\n",
    "styled_recommendations\n"
   ]
  },
  {
   "cell_type": "markdown",
   "metadata": {},
   "source": [
    "GetBooksByFavoriteAuthors function:\n",
    "\n",
    "- get_books_by_favorite_authors(): This function recommends books based on a user's favorite authors. It takes the username, user manager instance, a DataFrame containing book information, and optional desired columns as input. It first retrieves the user information using the provided username and checks if the user exists and has preferences set. Then, it retrieves the user's favorite authors from the preferences. For each favorite author, it filters the books DataFrame to select only the books authored by that author. If books are found, they are sorted by rating in descending order, and only the top 3 books per author are selected. Finally, it concatenates the recommended books into a single DataFrame and returns it, or returns an empty DataFrame if no books are found."
   ]
  },
  {
   "cell_type": "code",
   "execution_count": 28,
   "metadata": {},
   "outputs": [],
   "source": [
    "def GetBooksByFavoriteAuthors(username, user_manager, books_df, desired_columns=['Title', 'Author', 'Rating', 'Price_EUR', 'URLs']):\n",
    "    \"\"\"\n",
    "    This function recommends books based on a user's favorite authors, selecting\n",
    "    specified columns for the recommendations and ensuring unique book recommendations.\n",
    "\n",
    "    Args:\n",
    "        username: The username of the user.\n",
    "        user_manager: An instance of UserManagement containing user information.\n",
    "        books_df: A Pandas DataFrame containing book information.\n",
    "        desired_columns (list, optional): A list of column names to select\n",
    "            from the recommended books. Defaults to ['Title', 'Author',\n",
    "            'Rating', 'Price_EUR', 'URLs'].\n",
    "\n",
    "    Returns:\n",
    "        A Pandas DataFrame containing recommended books (empty if none found).\n",
    "    \"\"\"\n",
    "\n",
    "    user_info = user_manager.get_user_by_username(username)\n",
    "\n",
    "    if user_info is None:\n",
    "        print(\"User not found.\")\n",
    "        return pd.DataFrame()\n",
    "\n",
    "    if 'preferences' not in user_info:\n",
    "        print(f\"User '{username}' has no preferences set.\")\n",
    "        return pd.DataFrame()\n",
    "\n",
    "    favorite_authors = user_info['preferences'].get('favorite_author', [])\n",
    "\n",
    "    if not favorite_authors:\n",
    "        print(f\"User '{username}' has no favorite authors set.\")\n",
    "        return pd.DataFrame()\n",
    "\n",
    "    recommended_books = []\n",
    "\n",
    "    for author in favorite_authors:\n",
    "        author_books = books_df[books_df['Author'] == author]\n",
    "        if not author_books.empty:\n",
    "            # Sort the books by rating in descending order\n",
    "            sorted_books = author_books.sort_values(by='Rating', ascending=False)\n",
    "            # Select only the top 3 books per author\n",
    "            top_3_books = sorted_books.head(3)[desired_columns]\n",
    "            recommended_books.append(top_3_books)\n",
    "        else:\n",
    "            print(f\"No books found for author {author}.\")\n",
    "\n",
    "    if recommended_books:\n",
    "        # Concatenate the list of DataFrames into a single DataFrame\n",
    "        df = pd.concat(recommended_books)\n",
    "        return df\n",
    "    else:\n",
    "        print(\"No books found matching the criteria.\")\n",
    "        return pd.DataFrame()\n",
    "\n",
    "  #insert method here for the user input!\n"
   ]
  },
  {
   "cell_type": "code",
   "execution_count": 27,
   "metadata": {},
   "outputs": [
    {
     "data": {
      "text/html": [
       "<style type=\"text/css\">\n",
       "</style>\n",
       "<table id=\"T_b39cc\">\n",
       "  <thead>\n",
       "    <tr>\n",
       "      <th class=\"blank level0\" >&nbsp;</th>\n",
       "      <th id=\"T_b39cc_level0_col0\" class=\"col_heading level0 col0\" >Title</th>\n",
       "      <th id=\"T_b39cc_level0_col1\" class=\"col_heading level0 col1\" >Author</th>\n",
       "      <th id=\"T_b39cc_level0_col2\" class=\"col_heading level0 col2\" >Rating</th>\n",
       "      <th id=\"T_b39cc_level0_col3\" class=\"col_heading level0 col3\" >Price_EUR</th>\n",
       "      <th id=\"T_b39cc_level0_col4\" class=\"col_heading level0 col4\" >URLs</th>\n",
       "    </tr>\n",
       "  </thead>\n",
       "  <tbody>\n",
       "    <tr>\n",
       "      <th id=\"T_b39cc_level0_row0\" class=\"row_heading level0 row0\" >7742</th>\n",
       "      <td id=\"T_b39cc_row0_col0\" class=\"data row0 col0\" >Harry Potter and the Prisoner of Azkaban: MinaLima Edition</td>\n",
       "      <td id=\"T_b39cc_row0_col1\" class=\"data row0 col1\" >J.K. Rowling</td>\n",
       "      <td id=\"T_b39cc_row0_col2\" class=\"data row0 col2\" >4.900000</td>\n",
       "      <td id=\"T_b39cc_row0_col3\" class=\"data row0 col3\" >28.650000</td>\n",
       "      <td id=\"T_b39cc_row0_col4\" class=\"data row0 col4\" >https://www.amazon.in/Harry-Potter-Prisoner-Azkaban-MinaLima/dp/1526666324/ref=zg_bs_g_67803449031_d_sccl_15/000-0000000-0000000?psc=1</td>\n",
       "    </tr>\n",
       "    <tr>\n",
       "      <th id=\"T_b39cc_level0_row1\" class=\"row_heading level0 row1\" >932</th>\n",
       "      <td id=\"T_b39cc_row1_col0\" class=\"data row1 col0\" >Harry Potter and the Prisoner of Azkaban: MinaLima Edition</td>\n",
       "      <td id=\"T_b39cc_row1_col1\" class=\"data row1 col1\" >J.K. Rowling</td>\n",
       "      <td id=\"T_b39cc_row1_col2\" class=\"data row1 col2\" >4.900000</td>\n",
       "      <td id=\"T_b39cc_row1_col3\" class=\"data row1 col3\" >28.650000</td>\n",
       "      <td id=\"T_b39cc_row1_col4\" class=\"data row1 col4\" >https://www.amazon.in/Harry-Potter-Prisoner-Azkaban-MinaLima/dp/1526666324/ref=zg_bs_g_67803457031_d_sccl_3/000-0000000-0000000?psc=1</td>\n",
       "    </tr>\n",
       "    <tr>\n",
       "      <th id=\"T_b39cc_level0_row2\" class=\"row_heading level0 row2\" >2956</th>\n",
       "      <td id=\"T_b39cc_row2_col0\" class=\"data row2 col0\" >Harry Potter and the Half-Blood Prince</td>\n",
       "      <td id=\"T_b39cc_row2_col1\" class=\"data row2 col1\" >J.K. Rowling</td>\n",
       "      <td id=\"T_b39cc_row2_col2\" class=\"data row2 col2\" >4.800000</td>\n",
       "      <td id=\"T_b39cc_row2_col3\" class=\"data row2 col3\" >3.510000</td>\n",
       "      <td id=\"T_b39cc_row2_col4\" class=\"data row2 col4\" >https://www.amazon.in/Harry-Potter-Half-Blood-Prince-Rowling-ebook/dp/B019PIOJZE/ref=zg_bs_g_1318163031_d_sccl_7/000-0000000-0000000?psc=1</td>\n",
       "    </tr>\n",
       "    <tr>\n",
       "      <th id=\"T_b39cc_level0_row3\" class=\"row_heading level0 row3\" >10</th>\n",
       "      <td id=\"T_b39cc_row3_col0\" class=\"data row3 col0\" >One Day</td>\n",
       "      <td id=\"T_b39cc_row3_col1\" class=\"data row3 col1\" >David Nicholls</td>\n",
       "      <td id=\"T_b39cc_row3_col2\" class=\"data row3 col2\" >4.200000</td>\n",
       "      <td id=\"T_b39cc_row3_col3\" class=\"data row3 col3\" >9.970000</td>\n",
       "      <td id=\"T_b39cc_row3_col4\" class=\"data row3 col4\" >https://www.amazon.in/One-Day/dp/B079P515NK/ref=zg_bs_g_1318054031_d_sccl_11/000-0000000-0000000?psc=1</td>\n",
       "    </tr>\n",
       "    <tr>\n",
       "      <th id=\"T_b39cc_level0_row4\" class=\"row_heading level0 row4\" >4499</th>\n",
       "      <td id=\"T_b39cc_row4_col0\" class=\"data row4 col0\" >US (REISSUE)</td>\n",
       "      <td id=\"T_b39cc_row4_col1\" class=\"data row4 col1\" >David Nicholls</td>\n",
       "      <td id=\"T_b39cc_row4_col2\" class=\"data row4 col2\" >4.000000</td>\n",
       "      <td id=\"T_b39cc_row4_col3\" class=\"data row4 col3\" >9.720000</td>\n",
       "      <td id=\"T_b39cc_row4_col4\" class=\"data row4 col4\" >https://www.amazon.in/Us-David-Nicholls/dp/0340897015/ref=zg_bs_g_1318187031_d_sccl_20/000-0000000-0000000?psc=1</td>\n",
       "    </tr>\n",
       "    <tr>\n",
       "      <th id=\"T_b39cc_level0_row5\" class=\"row_heading level0 row5\" >5377</th>\n",
       "      <td id=\"T_b39cc_row5_col0\" class=\"data row5 col0\" >Us: The Booker Prize-longlisted novel from the author of ONE DAY</td>\n",
       "      <td id=\"T_b39cc_row5_col1\" class=\"data row5 col1\" >David Nicholls</td>\n",
       "      <td id=\"T_b39cc_row5_col2\" class=\"data row5 col2\" >4.000000</td>\n",
       "      <td id=\"T_b39cc_row5_col3\" class=\"data row5 col3\" >3.130000</td>\n",
       "      <td id=\"T_b39cc_row5_col4\" class=\"data row5 col4\" >https://www.amazon.in/Us-David-Nicholls-ebook/dp/B00IWZNYTE/ref=zg_bs_g_89265414031_d_sccl_1/000-0000000-0000000?psc=1</td>\n",
       "    </tr>\n",
       "    <tr>\n",
       "      <th id=\"T_b39cc_level0_row6\" class=\"row_heading level0 row6\" >3002</th>\n",
       "      <td id=\"T_b39cc_row6_col0\" class=\"data row6 col0\" >The Picture of Dorian Gray (Deluxe Hardbound Edition)</td>\n",
       "      <td id=\"T_b39cc_row6_col1\" class=\"data row6 col1\" >Oscar Wilde</td>\n",
       "      <td id=\"T_b39cc_row6_col2\" class=\"data row6 col2\" >4.700000</td>\n",
       "      <td id=\"T_b39cc_row6_col3\" class=\"data row6 col3\" >3.620000</td>\n",
       "      <td id=\"T_b39cc_row6_col4\" class=\"data row6 col4\" >https://www.amazon.in/Picture-Dorian-Gray-Deluxe-Hardbound/dp/9354402178/ref=zg_bs_g_1318165031_d_sccl_3/000-0000000-0000000?psc=1</td>\n",
       "    </tr>\n",
       "    <tr>\n",
       "      <th id=\"T_b39cc_level0_row7\" class=\"row_heading level0 row7\" >3571</th>\n",
       "      <td id=\"T_b39cc_row7_col0\" class=\"data row7 col0\" >The Picture of Dorian Gray (Deluxe Hardbound Edition)</td>\n",
       "      <td id=\"T_b39cc_row7_col1\" class=\"data row7 col1\" >Oscar Wilde</td>\n",
       "      <td id=\"T_b39cc_row7_col2\" class=\"data row7 col2\" >4.700000</td>\n",
       "      <td id=\"T_b39cc_row7_col3\" class=\"data row7 col3\" >3.620000</td>\n",
       "      <td id=\"T_b39cc_row7_col4\" class=\"data row7 col4\" >https://www.amazon.in/Picture-Dorian-Gray-Deluxe-Hardbound/dp/9354402178/ref=zg_bs_g_1318159031_d_sccl_22/000-0000000-0000000?psc=1</td>\n",
       "    </tr>\n",
       "    <tr>\n",
       "      <th id=\"T_b39cc_level0_row8\" class=\"row_heading level0 row8\" >3629</th>\n",
       "      <td id=\"T_b39cc_row8_col0\" class=\"data row8 col0\" >The Picture of Dorian Gray (Deluxe Hardbound Edition)</td>\n",
       "      <td id=\"T_b39cc_row8_col1\" class=\"data row8 col1\" >Oscar Wilde</td>\n",
       "      <td id=\"T_b39cc_row8_col2\" class=\"data row8 col2\" >4.700000</td>\n",
       "      <td id=\"T_b39cc_row8_col3\" class=\"data row8 col3\" >3.620000</td>\n",
       "      <td id=\"T_b39cc_row8_col4\" class=\"data row8 col4\" >https://www.amazon.in/Picture-Dorian-Gray-Deluxe-Hardbound/dp/9354402178/ref=zg_bs_g_1318161031_d_sccl_30/000-0000000-0000000?psc=1</td>\n",
       "    </tr>\n",
       "  </tbody>\n",
       "</table>\n"
      ],
      "text/plain": [
       "<pandas.io.formats.style.Styler at 0x117632c50>"
      ]
     },
     "execution_count": 27,
     "metadata": {},
     "output_type": "execute_result"
    }
   ],
   "source": [
    "# Call the function with the appropriate arguments\n",
    "recommendations = GetBooksByFavoriteAuthors('Sean', user_manager, books_df)\n",
    "styled_recommended_books_by_author = recommendations.style\n",
    "styled_recommended_books_by_author\n"
   ]
  },
  {
   "cell_type": "code",
   "execution_count": null,
   "metadata": {},
   "outputs": [],
   "source": [
    "  #insert method  call here for the user input!"
   ]
  },
  {
   "cell_type": "markdown",
   "metadata": {},
   "source": [
    "PriceSort function:\n",
    "\n",
    "- PriceSort class: This class is designed to sort a DataFrame containing book information by price in ascending order and provides a method to find the book closest to a target price with a minimum rating requirement;\n",
    "  \n",
    "- __init__ method: Initialises the PriceSort object by sorting the input DataFrame (books_df) by price in ascending order. It first converts the 'Price_EUR' column to numeric type, removes rows with NaN values in the 'Price_EUR' column, and then sorts the DataFrame by price;\n",
    "  \n",
    "- find_closest_book method(): Utilises binary search to find the book closest to the target price with a rating of at least min_rating. It takes the target price and an optional minimum rating as input. The method initializes low and high indices for binary search, sets closest_book to None, and iterates through the sorted DataFrame using binary search. It calculates the current price and rating at the midpoint and checks if the rating meets the minimum criteria. If the price matches the target price, it returns the book. Otherwise, it updates the closest_book if the current book is closer to the target price. Finally, it adjusts the search range based on the price and returns the closest book found."
   ]
  },
  {
   "cell_type": "code",
   "execution_count": 24,
   "metadata": {},
   "outputs": [],
   "source": [
    "class PriceSort:\n",
    "  def __init__(self, books_df):\n",
    "        \"\"\"\n",
    "        Sorts the book dataframe by price in ascending order.\n",
    "        \"\"\"\n",
    "        # Convert Price_EUR column to numeric type\n",
    "        books_df['Price_EUR'] = pd.to_numeric(books_df['Price_EUR'], errors='coerce')\n",
    "        # Remove rows with NaN values in Price_EUR column\n",
    "        books_df = books_df.dropna(subset=['Price_EUR'])\n",
    "        \n",
    "        # Sort the dataframe by price in ascending order\n",
    "        self.sorted_books_df = books_df.sort_values(by='Price_EUR')\n",
    "\n",
    "  def find_closest_book(self, target_price, min_rating=4):\n",
    "    \"\"\"\n",
    "    Uses binary search to find the book closest to the target price with a rating of min_rating or over.\n",
    "    \"\"\"\n",
    "    low = 0\n",
    "    high = len(self.sorted_books_df) - 1\n",
    "    closest_book = None  # Initialize closest book to None\n",
    "\n",
    "    while low <= high:\n",
    "        mid = (low + high) // 2\n",
    "        current_price = self.sorted_books_df.iloc[mid]['Price_EUR']\n",
    "        current_rating = self.sorted_books_df.iloc[mid]['Rating']\n",
    "\n",
    "        # Check if current book meets rating criteria\n",
    "        if current_rating >= min_rating:\n",
    "            # If price matches, return the book\n",
    "            if current_price == target_price:\n",
    "                return self.sorted_books_df.iloc[mid]\n",
    "            # Update closest_book if closer to the target price\n",
    "            elif closest_book is None or abs(current_price - target_price) < abs(closest_book['Price_EUR'] - target_price):\n",
    "                closest_book = self.sorted_books_df.iloc[mid]\n",
    "\n",
    "        # Adjust search range based on price\n",
    "        if current_price < target_price:\n",
    "            low = mid + 1\n",
    "        else:\n",
    "            high = mid - 1\n",
    "\n",
    "    return closest_book  # Return the closest book found\n"
   ]
  },
  {
   "cell_type": "code",
   "execution_count": 25,
   "metadata": {},
   "outputs": [
    {
     "name": "stdin",
     "output_type": "stream",
     "text": [
      "Enter your target price in Euros:  100\n",
      "Enter minimum rating (optional, defaults to 4):  3\n"
     ]
    },
    {
     "name": "stdout",
     "output_type": "stream",
     "text": [
      "The book closest to your target price of €100.0 with a rating of 3 or over is:\n"
     ]
    },
    {
     "data": {
      "text/html": [
       "<style type=\"text/css\">\n",
       "</style>\n",
       "<table id=\"T_ba98a\">\n",
       "  <thead>\n",
       "    <tr>\n",
       "      <th class=\"blank level0\" >&nbsp;</th>\n",
       "      <th id=\"T_ba98a_level0_col0\" class=\"col_heading level0 col0\" >4165</th>\n",
       "    </tr>\n",
       "  </thead>\n",
       "  <tbody>\n",
       "    <tr>\n",
       "      <th id=\"T_ba98a_level0_row0\" class=\"row_heading level0 row0\" >Title</th>\n",
       "      <td id=\"T_ba98a_row0_col0\" class=\"data row0 col0\" >Kaplan & Sadock's Concise Textbook of Clinical Psychiatry</td>\n",
       "    </tr>\n",
       "    <tr>\n",
       "      <th id=\"T_ba98a_level0_row1\" class=\"row_heading level0 row1\" >Author</th>\n",
       "      <td id=\"T_ba98a_row1_col0\" class=\"data row1 col0\" >Marcia Verduin</td>\n",
       "    </tr>\n",
       "    <tr>\n",
       "      <th id=\"T_ba98a_level0_row2\" class=\"row_heading level0 row2\" >Price_EUR</th>\n",
       "      <td id=\"T_ba98a_row2_col0\" class=\"data row2 col0\" >98.350000</td>\n",
       "    </tr>\n",
       "    <tr>\n",
       "      <th id=\"T_ba98a_level0_row3\" class=\"row_heading level0 row3\" >Rating</th>\n",
       "      <td id=\"T_ba98a_row3_col0\" class=\"data row3 col0\" >4.600000</td>\n",
       "    </tr>\n",
       "    <tr>\n",
       "      <th id=\"T_ba98a_level0_row4\" class=\"row_heading level0 row4\" >URLs</th>\n",
       "      <td id=\"T_ba98a_row4_col0\" class=\"data row4 col0\" >https://www.amazon.in/Sadocks-Concise-Textbook-Clinical-Psychiatry/dp/1975167481/ref=zg_bs_g_4149702031_d_sccl_16/000-0000000-0000000?psc=1</td>\n",
       "    </tr>\n",
       "  </tbody>\n",
       "</table>\n"
      ],
      "text/plain": [
       "<pandas.io.formats.style.Styler at 0x10980f6d0>"
      ]
     },
     "metadata": {},
     "output_type": "display_data"
    }
   ],
   "source": [
    "# Ensure the user enters the target price in Euros\n",
    "target_price_eur = float(input(\"Enter your target price in Euros: \"))\n",
    "min_rating = int(input(\"Enter minimum rating (optional, defaults to 4): \") or 4)\n",
    "\n",
    "# Create an instance of PriceSort\n",
    "price_sort = PriceSort(books_df.copy()) \n",
    "\n",
    "# Find the closest book\n",
    "closest_book = price_sort.find_closest_book(target_price_eur, min_rating)\n",
    "\n",
    "if closest_book is not None:\n",
    "    print(f\"The book closest to your target price of €{target_price_eur} with a rating of {min_rating} or over is:\")\n",
    "    display(pd.DataFrame(closest_book[['Title', 'Author', 'Price_EUR', 'Rating','URLs']]).style)\n",
    "else:\n",
    "    print(f\"No book found within your budget (€{target_price_eur}) and minimum rating of {min_rating}.\")\n"
   ]
  },
  {
   "cell_type": "code",
   "execution_count": null,
   "metadata": {},
   "outputs": [],
   "source": []
  }
 ],
 "metadata": {
  "kernelspec": {
   "display_name": "Python 3 (ipykernel)",
   "language": "python",
   "name": "python3"
  },
  "language_info": {
   "codemirror_mode": {
    "name": "ipython",
    "version": 3
   },
   "file_extension": ".py",
   "mimetype": "text/x-python",
   "name": "python",
   "nbconvert_exporter": "python",
   "pygments_lexer": "ipython3",
   "version": "3.11.7"
  }
 },
 "nbformat": 4,
 "nbformat_minor": 4
}
