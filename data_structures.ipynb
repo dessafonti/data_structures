{
 "cells": [
  {
   "attachments": {},
   "cell_type": "markdown",
   "metadata": {},
   "source": [
    "Real-World Problem Solving with Algorithms and Data Structures"
   ]
  },
  {
   "cell_type": "code",
   "execution_count": 58,
   "metadata": {},
   "outputs": [],
   "source": [
    "import pandas as pd\n",
    "import ipytest"
   ]
  },
  {
   "cell_type": "code",
   "execution_count": 55,
   "metadata": {},
   "outputs": [],
   "source": [
    "books_df = pd.read_csv(\"Books_df.csv\")"
   ]
  },
  {
   "cell_type": "code",
   "execution_count": 5,
   "metadata": {
    "scrolled": true
   },
   "outputs": [
    {
     "name": "stdout",
     "output_type": "stream",
     "text": [
      "Books DataFrame:\n"
     ]
    },
    {
     "data": {
      "text/html": [
       "<div>\n",
       "<style scoped>\n",
       "    .dataframe tbody tr th:only-of-type {\n",
       "        vertical-align: middle;\n",
       "    }\n",
       "\n",
       "    .dataframe tbody tr th {\n",
       "        vertical-align: top;\n",
       "    }\n",
       "\n",
       "    .dataframe thead th {\n",
       "        text-align: right;\n",
       "    }\n",
       "</style>\n",
       "<table border=\"1\" class=\"dataframe\">\n",
       "  <thead>\n",
       "    <tr style=\"text-align: right;\">\n",
       "      <th></th>\n",
       "      <th>Unnamed: 0</th>\n",
       "      <th>Title</th>\n",
       "      <th>Author</th>\n",
       "      <th>Main Genre</th>\n",
       "      <th>Sub Genre</th>\n",
       "      <th>Type</th>\n",
       "      <th>Price</th>\n",
       "      <th>Rating</th>\n",
       "      <th>No. of People rated</th>\n",
       "      <th>URLs</th>\n",
       "    </tr>\n",
       "  </thead>\n",
       "  <tbody>\n",
       "    <tr>\n",
       "      <th>0</th>\n",
       "      <td>0</td>\n",
       "      <td>The Complete Novel of Sherlock Holmes</td>\n",
       "      <td>Arthur Conan Doyle</td>\n",
       "      <td>Arts, Film &amp; Photography</td>\n",
       "      <td>Cinema &amp; Broadcast</td>\n",
       "      <td>Paperback</td>\n",
       "      <td>₹169.00</td>\n",
       "      <td>4.4</td>\n",
       "      <td>19923.0</td>\n",
       "      <td>https://www.amazon.in/Complete-Novels-Sherlock...</td>\n",
       "    </tr>\n",
       "    <tr>\n",
       "      <th>1</th>\n",
       "      <td>1</td>\n",
       "      <td>Black Holes (L) : The Reith Lectures [Paperbac...</td>\n",
       "      <td>Stephen Hawking</td>\n",
       "      <td>Arts, Film &amp; Photography</td>\n",
       "      <td>Cinema &amp; Broadcast</td>\n",
       "      <td>Paperback</td>\n",
       "      <td>₹99.00</td>\n",
       "      <td>4.5</td>\n",
       "      <td>7686.0</td>\n",
       "      <td>https://www.amazon.in/Black-Holes-Lectures-Ste...</td>\n",
       "    </tr>\n",
       "    <tr>\n",
       "      <th>2</th>\n",
       "      <td>2</td>\n",
       "      <td>The Kite Runner</td>\n",
       "      <td>Khaled Hosseini</td>\n",
       "      <td>Arts, Film &amp; Photography</td>\n",
       "      <td>Cinema &amp; Broadcast</td>\n",
       "      <td>Kindle Edition</td>\n",
       "      <td>₹175.75</td>\n",
       "      <td>4.6</td>\n",
       "      <td>50016.0</td>\n",
       "      <td>https://www.amazon.in/Kite-Runner-Khaled-Hosse...</td>\n",
       "    </tr>\n",
       "    <tr>\n",
       "      <th>3</th>\n",
       "      <td>3</td>\n",
       "      <td>Greenlights: Raucous stories and outlaw wisdom...</td>\n",
       "      <td>Matthew McConaughey</td>\n",
       "      <td>Arts, Film &amp; Photography</td>\n",
       "      <td>Cinema &amp; Broadcast</td>\n",
       "      <td>Paperback</td>\n",
       "      <td>₹389.00</td>\n",
       "      <td>4.6</td>\n",
       "      <td>32040.0</td>\n",
       "      <td>https://www.amazon.in/Greenlights-Raucous-stor...</td>\n",
       "    </tr>\n",
       "    <tr>\n",
       "      <th>4</th>\n",
       "      <td>4</td>\n",
       "      <td>The Science of Storytelling: Why Stories Make ...</td>\n",
       "      <td>Will Storr</td>\n",
       "      <td>Arts, Film &amp; Photography</td>\n",
       "      <td>Cinema &amp; Broadcast</td>\n",
       "      <td>Paperback</td>\n",
       "      <td>₹348.16</td>\n",
       "      <td>4.5</td>\n",
       "      <td>1707.0</td>\n",
       "      <td>https://www.amazon.in/Science-Storytelling-Wil...</td>\n",
       "    </tr>\n",
       "  </tbody>\n",
       "</table>\n",
       "</div>"
      ],
      "text/plain": [
       "   Unnamed: 0                                              Title  \\\n",
       "0           0              The Complete Novel of Sherlock Holmes   \n",
       "1           1  Black Holes (L) : The Reith Lectures [Paperbac...   \n",
       "2           2                                    The Kite Runner   \n",
       "3           3  Greenlights: Raucous stories and outlaw wisdom...   \n",
       "4           4  The Science of Storytelling: Why Stories Make ...   \n",
       "\n",
       "                Author                Main Genre           Sub Genre  \\\n",
       "0   Arthur Conan Doyle  Arts, Film & Photography  Cinema & Broadcast   \n",
       "1      Stephen Hawking  Arts, Film & Photography  Cinema & Broadcast   \n",
       "2      Khaled Hosseini  Arts, Film & Photography  Cinema & Broadcast   \n",
       "3  Matthew McConaughey  Arts, Film & Photography  Cinema & Broadcast   \n",
       "4           Will Storr  Arts, Film & Photography  Cinema & Broadcast   \n",
       "\n",
       "             Type    Price  Rating  No. of People rated  \\\n",
       "0       Paperback  ₹169.00     4.4              19923.0   \n",
       "1       Paperback   ₹99.00     4.5               7686.0   \n",
       "2  Kindle Edition  ₹175.75     4.6              50016.0   \n",
       "3       Paperback  ₹389.00     4.6              32040.0   \n",
       "4       Paperback  ₹348.16     4.5               1707.0   \n",
       "\n",
       "                                                URLs  \n",
       "0  https://www.amazon.in/Complete-Novels-Sherlock...  \n",
       "1  https://www.amazon.in/Black-Holes-Lectures-Ste...  \n",
       "2  https://www.amazon.in/Kite-Runner-Khaled-Hosse...  \n",
       "3  https://www.amazon.in/Greenlights-Raucous-stor...  \n",
       "4  https://www.amazon.in/Science-Storytelling-Wil...  "
      ]
     },
     "execution_count": 5,
     "metadata": {},
     "output_type": "execute_result"
    }
   ],
   "source": [
    "print(\"Books DataFrame:\")\n",
    "books_df.head()"
   ]
  },
  {
   "cell_type": "code",
   "execution_count": 3,
   "metadata": {},
   "outputs": [
    {
     "name": "stdout",
     "output_type": "stream",
     "text": [
      "Books DataFrame with Prices in Euros:\n"
     ]
    },
    {
     "data": {
      "text/html": [
       "<div>\n",
       "<style scoped>\n",
       "    .dataframe tbody tr th:only-of-type {\n",
       "        vertical-align: middle;\n",
       "    }\n",
       "\n",
       "    .dataframe tbody tr th {\n",
       "        vertical-align: top;\n",
       "    }\n",
       "\n",
       "    .dataframe thead th {\n",
       "        text-align: right;\n",
       "    }\n",
       "</style>\n",
       "<table border=\"1\" class=\"dataframe\">\n",
       "  <thead>\n",
       "    <tr style=\"text-align: right;\">\n",
       "      <th></th>\n",
       "      <th>Unnamed: 0</th>\n",
       "      <th>Title</th>\n",
       "      <th>Author</th>\n",
       "      <th>Main Genre</th>\n",
       "      <th>Sub Genre</th>\n",
       "      <th>Type</th>\n",
       "      <th>Price</th>\n",
       "      <th>Rating</th>\n",
       "      <th>No. of People rated</th>\n",
       "      <th>URLs</th>\n",
       "      <th>Price_EUR</th>\n",
       "    </tr>\n",
       "  </thead>\n",
       "  <tbody>\n",
       "    <tr>\n",
       "      <th>0</th>\n",
       "      <td>0</td>\n",
       "      <td>The Complete Novel of Sherlock Holmes</td>\n",
       "      <td>Arthur Conan Doyle</td>\n",
       "      <td>Arts, Film &amp; Photography</td>\n",
       "      <td>Cinema &amp; Broadcast</td>\n",
       "      <td>Paperback</td>\n",
       "      <td>169.00</td>\n",
       "      <td>4.4</td>\n",
       "      <td>19923.0</td>\n",
       "      <td>https://www.amazon.in/Complete-Novels-Sherlock...</td>\n",
       "      <td>1.89</td>\n",
       "    </tr>\n",
       "    <tr>\n",
       "      <th>1</th>\n",
       "      <td>1</td>\n",
       "      <td>Black Holes (L) : The Reith Lectures [Paperbac...</td>\n",
       "      <td>Stephen Hawking</td>\n",
       "      <td>Arts, Film &amp; Photography</td>\n",
       "      <td>Cinema &amp; Broadcast</td>\n",
       "      <td>Paperback</td>\n",
       "      <td>99.00</td>\n",
       "      <td>4.5</td>\n",
       "      <td>7686.0</td>\n",
       "      <td>https://www.amazon.in/Black-Holes-Lectures-Ste...</td>\n",
       "      <td>1.11</td>\n",
       "    </tr>\n",
       "    <tr>\n",
       "      <th>2</th>\n",
       "      <td>2</td>\n",
       "      <td>The Kite Runner</td>\n",
       "      <td>Khaled Hosseini</td>\n",
       "      <td>Arts, Film &amp; Photography</td>\n",
       "      <td>Cinema &amp; Broadcast</td>\n",
       "      <td>Kindle Edition</td>\n",
       "      <td>175.75</td>\n",
       "      <td>4.6</td>\n",
       "      <td>50016.0</td>\n",
       "      <td>https://www.amazon.in/Kite-Runner-Khaled-Hosse...</td>\n",
       "      <td>1.97</td>\n",
       "    </tr>\n",
       "    <tr>\n",
       "      <th>3</th>\n",
       "      <td>3</td>\n",
       "      <td>Greenlights: Raucous stories and outlaw wisdom...</td>\n",
       "      <td>Matthew McConaughey</td>\n",
       "      <td>Arts, Film &amp; Photography</td>\n",
       "      <td>Cinema &amp; Broadcast</td>\n",
       "      <td>Paperback</td>\n",
       "      <td>389.00</td>\n",
       "      <td>4.6</td>\n",
       "      <td>32040.0</td>\n",
       "      <td>https://www.amazon.in/Greenlights-Raucous-stor...</td>\n",
       "      <td>4.35</td>\n",
       "    </tr>\n",
       "    <tr>\n",
       "      <th>4</th>\n",
       "      <td>4</td>\n",
       "      <td>The Science of Storytelling: Why Stories Make ...</td>\n",
       "      <td>Will Storr</td>\n",
       "      <td>Arts, Film &amp; Photography</td>\n",
       "      <td>Cinema &amp; Broadcast</td>\n",
       "      <td>Paperback</td>\n",
       "      <td>348.16</td>\n",
       "      <td>4.5</td>\n",
       "      <td>1707.0</td>\n",
       "      <td>https://www.amazon.in/Science-Storytelling-Wil...</td>\n",
       "      <td>3.89</td>\n",
       "    </tr>\n",
       "  </tbody>\n",
       "</table>\n",
       "</div>"
      ],
      "text/plain": [
       "   Unnamed: 0                                              Title  \\\n",
       "0           0              The Complete Novel of Sherlock Holmes   \n",
       "1           1  Black Holes (L) : The Reith Lectures [Paperbac...   \n",
       "2           2                                    The Kite Runner   \n",
       "3           3  Greenlights: Raucous stories and outlaw wisdom...   \n",
       "4           4  The Science of Storytelling: Why Stories Make ...   \n",
       "\n",
       "                Author                Main Genre           Sub Genre  \\\n",
       "0   Arthur Conan Doyle  Arts, Film & Photography  Cinema & Broadcast   \n",
       "1      Stephen Hawking  Arts, Film & Photography  Cinema & Broadcast   \n",
       "2      Khaled Hosseini  Arts, Film & Photography  Cinema & Broadcast   \n",
       "3  Matthew McConaughey  Arts, Film & Photography  Cinema & Broadcast   \n",
       "4           Will Storr  Arts, Film & Photography  Cinema & Broadcast   \n",
       "\n",
       "             Type   Price  Rating  No. of People rated  \\\n",
       "0       Paperback  169.00     4.4              19923.0   \n",
       "1       Paperback   99.00     4.5               7686.0   \n",
       "2  Kindle Edition  175.75     4.6              50016.0   \n",
       "3       Paperback  389.00     4.6              32040.0   \n",
       "4       Paperback  348.16     4.5               1707.0   \n",
       "\n",
       "                                                URLs  Price_EUR  \n",
       "0  https://www.amazon.in/Complete-Novels-Sherlock...       1.89  \n",
       "1  https://www.amazon.in/Black-Holes-Lectures-Ste...       1.11  \n",
       "2  https://www.amazon.in/Kite-Runner-Khaled-Hosse...       1.97  \n",
       "3  https://www.amazon.in/Greenlights-Raucous-stor...       4.35  \n",
       "4  https://www.amazon.in/Science-Storytelling-Wil...       3.89  "
      ]
     },
     "execution_count": 3,
     "metadata": {},
     "output_type": "execute_result"
    }
   ],
   "source": [
    "exchange_rate_inr_to_eur = 1 / 89.43  # 1 Euro = 89.43 INR\n",
    "\n",
    "# Removing commas and currency symbol from the prices and convert to float\n",
    "books_df['Price'] = books_df['Price'].str.replace(',', '').str.replace('₹', '').astype(float)\n",
    "\n",
    "# Calculating the price in Euros\n",
    "books_df['Price_EUR'] = books_df['Price'] * exchange_rate_inr_to_eur\n",
    "\n",
    "# Rounding the price in Euros to two decimal places\n",
    "books_df['Price_EUR'] = books_df['Price_EUR'].apply(lambda x: round(x, 2))\n",
    "\n",
    "print(\"Books DataFrame with Prices in Euros:\")\n",
    "books_df.head()\n"
   ]
  },
  {
   "cell_type": "markdown",
   "metadata": {},
   "source": [
    "UserManager function:\n",
    "\n",
    "- User registration: register_user method to allow users to register with unique usernames and passwords;\n",
    "- User Login: login_user method verifies user credentials and allows them to log in;\n",
    "- Preference Setting: set_preference method enables users to set their preferences by providing a key-value pair;\n",
    "- Preference Retrieval: get_preferences method retrieves the preferences of a logged-in user;\n",
    "- Testing: testing the registration, login, preference setting, and preference retrieval functionalities with sample users."
   ]
  },
  {
   "cell_type": "code",
   "execution_count": 56,
   "metadata": {},
   "outputs": [],
   "source": [
    "class UserManagement:\n",
    "    def __init__(self):\n",
    "        self.users = {}  # Dictionary to store user information\n",
    "\n",
    "    def register_user(self, username, password):\n",
    "        if username in self.users:\n",
    "            print(\"Username already exists. Please choose a different username.\")\n",
    "        else:\n",
    "            self.users[username] = {'password': password, 'preferences': {}}\n",
    "            print(\"Registration successful!\")\n",
    "\n",
    "    def login_user(self, username, password):\n",
    "        if username in self.users and self.users[username]['password'] == password:\n",
    "            print(\"Login successful!\")\n",
    "            return True\n",
    "        else:\n",
    "            print(\"Invalid username or password. Please try again.\")\n",
    "            return False\n",
    "\n",
    "    def set_preference(self, username, preference_key, preference_value):\n",
    "        if username in self.users:\n",
    "            if 'preferences' not in self.users[username]:\n",
    "                self.users[username]['preferences'] = {}  # Initializing preferences dictionary if it doesn't exist\n",
    "            if preference_key in self.users[username]['preferences']:\n",
    "            # Appending the new preference to the existing list of preferences\n",
    "                self.users[username]['preferences'][preference_key].append(preference_value)\n",
    "            else:\n",
    "            # Creating a new list with the preference value if the preference key doesn't exist\n",
    "                self.users[username]['preferences'][preference_key] = [preference_value]\n",
    "            print(\"Preference set successfully!\")\n",
    "        else:\n",
    "            print(\"User not found. Please login again.\")\n",
    "\n",
    "    def get_preferences(self, username):\n",
    "        if username in self.users and 'preferences' in self.users[username]:\n",
    "            return self.users[username]['preferences']\n",
    "        else:\n",
    "            print(\"User not found or no preferences set.\")\n",
    "            return None"
   ]
  },
  {
   "cell_type": "markdown",
   "metadata": {},
   "source": [
    "Testing UserManager methods:"
   ]
  },
  {
   "cell_type": "code",
   "execution_count": 57,
   "metadata": {},
   "outputs": [
    {
     "name": "stdout",
     "output_type": "stream",
     "text": [
      "\u001b[1m======================================= test session starts ========================================\u001b[0m\n",
      "platform darwin -- Python 3.11.7, pytest-8.1.1, pluggy-1.4.0 -- /Users/andressafont/miniconda3/envs/comp47350py311/bin/python\n",
      "cachedir: .pytest_cache\n",
      "rootdir: /Users/andressafont/Desktop/data structures\n",
      "plugins: cov-5.0.0, nbval-0.11.0, anyio-4.2.0\n",
      "\u001b[1mcollecting ... \u001b[0mcollected 6 items\n",
      "\n",
      "t_2cb8c440cc9447778c4333a7bcf042fc.py::TestUserManagement::test_login_user <- ../../../../var/folders/6j/tmdg_xx172xb1xtgxd35y2400000gn/T/ipykernel_3668/2549956736.py \u001b[32mPASSED\u001b[0m\u001b[33m [ 16%]\u001b[0m\n",
      "t_2cb8c440cc9447778c4333a7bcf042fc.py::TestUserManagement::test_register_user <- ../../../../var/folders/6j/tmdg_xx172xb1xtgxd35y2400000gn/T/ipykernel_3668/2549956736.py \u001b[32mPASSED\u001b[0m\u001b[33m [ 33%]\u001b[0m\n",
      "t_2cb8c440cc9447778c4333a7bcf042fc.py::TestUserManagement::test_set_preference <- ../../../../var/folders/6j/tmdg_xx172xb1xtgxd35y2400000gn/T/ipykernel_3668/2549956736.py \u001b[32mPASSED\u001b[0m\u001b[33m [ 50%]\u001b[0m\n",
      "t_2cb8c440cc9447778c4333a7bcf042fc.py::test_register_user <- ../../../../var/folders/6j/tmdg_xx172xb1xtgxd35y2400000gn/T/ipykernel_3668/3353770732.py \u001b[32mPASSED\u001b[0m\u001b[33m [ 66%]\u001b[0m\n",
      "t_2cb8c440cc9447778c4333a7bcf042fc.py::test_login_user <- ../../../../var/folders/6j/tmdg_xx172xb1xtgxd35y2400000gn/T/ipykernel_3668/3353770732.py \u001b[32mPASSED\u001b[0m\u001b[33m [ 83%]\u001b[0m\n",
      "t_2cb8c440cc9447778c4333a7bcf042fc.py::test_set_preference <- ../../../../var/folders/6j/tmdg_xx172xb1xtgxd35y2400000gn/T/ipykernel_3668/3353770732.py \u001b[32mPASSED\u001b[0m\u001b[33m [100%]\u001b[0m\n",
      "\n",
      "\u001b[33m========================================= warnings summary =========================================\u001b[0m\n",
      "../../miniconda3/envs/comp47350py311/lib/python3.11/unittest/suite.py:83\n",
      "  /Users/andressafont/miniconda3/envs/comp47350py311/lib/python3.11/unittest/suite.py:83: PytestCollectionWarning: cannot collect 'test_suite' because it is not a function.\n",
      "    def __call__(self, *args, **kwds):\n",
      "\n",
      "-- Docs: https://docs.pytest.org/en/stable/how-to/capture-warnings.html\n",
      "\u001b[33m=================================== \u001b[32m6 passed\u001b[0m, \u001b[33m\u001b[1m1 warning\u001b[0m\u001b[33m in 0.05s\u001b[0m\u001b[33m ===================================\u001b[0m\n"
     ]
    },
    {
     "data": {
      "text/plain": [
       "<ExitCode.OK: 0>"
      ]
     },
     "execution_count": 57,
     "metadata": {},
     "output_type": "execute_result"
    }
   ],
   "source": [
    "def test_register_user():\n",
    "    user_manager = UserManagement()\n",
    "    user_manager.register_user('test_user', 'test_password')\n",
    "    assert 'test_user' in user_manager.users\n",
    "\n",
    "def test_login_user():\n",
    "    user_manager = UserManagement()\n",
    "    user_manager.register_user('test_user', 'test_password')\n",
    "    assert user_manager.login_user('test_user', 'test_password') == True\n",
    "\n",
    "def test_set_preference():\n",
    "    user_manager = UserManagement()\n",
    "    user_manager.register_user('test_user', 'test_password')\n",
    "    user_manager.set_preference('test_user', 'preference_key', 'preference_value')\n",
    "    assert 'preference_key' in user_manager.get_preferences('test_user')\n",
    "\n",
    "ipytest.run('-vv')\n"
   ]
  },
  {
   "cell_type": "markdown",
   "metadata": {},
   "source": [
    "Creating users:"
   ]
  },
  {
   "cell_type": "code",
   "execution_count": 33,
   "metadata": {},
   "outputs": [
    {
     "name": "stdout",
     "output_type": "stream",
     "text": [
      "Registration successful!\n",
      "Registration successful!\n",
      "Registration successful!\n",
      "Registration successful!\n"
     ]
    }
   ],
   "source": [
    "# Creating an instance of UserManagement class\n",
    "user_manager = UserManagement()\n",
    "\n",
    "user_manager.register_user('Sean', 'password123')\n",
    "user_manager.register_user('Saoirse', 'password789')\n",
    "user_manager.register_user('Finn', 'password456')\n",
    "user_manager.register_user('Aoife', 'password997')\n"
   ]
  },
  {
   "cell_type": "markdown",
   "metadata": {},
   "source": [
    "Setting some preferences"
   ]
  },
  {
   "cell_type": "code",
   "execution_count": 34,
   "metadata": {},
   "outputs": [
    {
     "name": "stdout",
     "output_type": "stream",
     "text": [
      "Login successful!\n",
      "Preference set successfully!\n"
     ]
    }
   ],
   "source": [
    "if user_manager.login_user('Sean', 'password123'):\n",
    "    # Set preference for the logged-in user\n",
    "    user_manager.set_preference('Sean', 'favorite_genre', 'Science Fiction')"
   ]
  },
  {
   "cell_type": "code",
   "execution_count": 35,
   "metadata": {},
   "outputs": [
    {
     "name": "stdout",
     "output_type": "stream",
     "text": [
      "Login successful!\n",
      "Preference set successfully!\n"
     ]
    }
   ],
   "source": [
    "if user_manager.login_user('Saoirse', 'password789'):\n",
    "    # Set preference for the logged-in user\n",
    "    user_manager.set_preference('Sean', 'favorite_genre', 'Arts, Film & Photography')"
   ]
  },
  {
   "cell_type": "code",
   "execution_count": 36,
   "metadata": {},
   "outputs": [
    {
     "name": "stdout",
     "output_type": "stream",
     "text": [
      "Login successful!\n",
      "Preference set successfully!\n"
     ]
    }
   ],
   "source": [
    "if user_manager.login_user('Finn', 'password456'):\n",
    "    # Set preference for the logged-in user\n",
    "    user_manager.set_preference('Sean', 'favorite_genre', 'Cinema & Broadcast')"
   ]
  },
  {
   "cell_type": "code",
   "execution_count": 39,
   "metadata": {},
   "outputs": [
    {
     "name": "stdout",
     "output_type": "stream",
     "text": [
      "Login successful!\n",
      "Preference set successfully!\n"
     ]
    }
   ],
   "source": [
    "if user_manager.login_user('Aoife', 'password997'):\n",
    "    # Set preference for the logged-in user\n",
    "    user_manager.set_preference('Aoife', 'favorite_genre', 'Economics')"
   ]
  },
  {
   "cell_type": "code",
   "execution_count": 43,
   "metadata": {},
   "outputs": [
    {
     "name": "stdout",
     "output_type": "stream",
     "text": [
      "Login successful!\n",
      "Preference set successfully!\n"
     ]
    }
   ],
   "source": [
    "if user_manager.login_user('Aoife', 'password997'):\n",
    "    # Set preference for the logged-in user\n",
    "    user_manager.set_preference('Aoife', 'favorite_genre', 'Cinema & Broadcast')"
   ]
  },
  {
   "cell_type": "markdown",
   "metadata": {},
   "source": [
    "Getting preferences:"
   ]
  },
  {
   "cell_type": "code",
   "execution_count": 44,
   "metadata": {},
   "outputs": [
    {
     "name": "stdout",
     "output_type": "stream",
     "text": [
      "Login successful!\n",
      "Aoife's preferences: {'favorite_genre': ['Economics', 'Cinema & Broadcast']}\n"
     ]
    }
   ],
   "source": [
    "if user_manager.login_user('Aoife', 'password997'):\n",
    "    # Get preferences for the logged-in user\n",
    "    aoife_preferences = user_manager.get_preferences('Aoife')\n",
    "    if aoife_preferences:\n",
    "        print(\"Aoife's preferences:\", aoife_preferences)\n",
    "    else:\n",
    "        print(\"No preferences found for Aoife.\")\n"
   ]
  },
  {
   "cell_type": "code",
   "execution_count": null,
   "metadata": {},
   "outputs": [],
   "source": []
  },
  {
   "cell_type": "code",
   "execution_count": null,
   "metadata": {},
   "outputs": [],
   "source": []
  },
  {
   "cell_type": "code",
   "execution_count": null,
   "metadata": {},
   "outputs": [],
   "source": []
  }
 ],
 "metadata": {
  "kernelspec": {
   "display_name": "Python 3 (ipykernel)",
   "language": "python",
   "name": "python3"
  },
  "language_info": {
   "codemirror_mode": {
    "name": "ipython",
    "version": 3
   },
   "file_extension": ".py",
   "mimetype": "text/x-python",
   "name": "python",
   "nbconvert_exporter": "python",
   "pygments_lexer": "ipython3",
   "version": "3.11.7"
  }
 },
 "nbformat": 4,
 "nbformat_minor": 4
}
