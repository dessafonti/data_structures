{
 "cells": [
  {
   "attachments": {},
   "cell_type": "markdown",
   "metadata": {},
   "source": [
    "Real-World Problem Solving with Algorithms and Data Structures"
   ]
  },
  {
   "cell_type": "code",
   "execution_count": 152,
   "metadata": {},
   "outputs": [],
   "source": [
    "import pandas as pd\n",
    "import ipytest\n",
    "from tabulate import tabulate"
   ]
  },
  {
   "cell_type": "code",
   "execution_count": 153,
   "metadata": {},
   "outputs": [],
   "source": [
    "books_df = pd.read_csv(\"Books_df.csv\")"
   ]
  },
  {
   "cell_type": "code",
   "execution_count": 154,
   "metadata": {},
   "outputs": [
    {
     "name": "stdout",
     "output_type": "stream",
     "text": [
      "Books DataFrame:\n"
     ]
    },
    {
     "data": {
      "text/html": [
       "<div>\n",
       "<style scoped>\n",
       "    .dataframe tbody tr th:only-of-type {\n",
       "        vertical-align: middle;\n",
       "    }\n",
       "\n",
       "    .dataframe tbody tr th {\n",
       "        vertical-align: top;\n",
       "    }\n",
       "\n",
       "    .dataframe thead th {\n",
       "        text-align: right;\n",
       "    }\n",
       "</style>\n",
       "<table border=\"1\" class=\"dataframe\">\n",
       "  <thead>\n",
       "    <tr style=\"text-align: right;\">\n",
       "      <th></th>\n",
       "      <th>Unnamed: 0</th>\n",
       "      <th>Title</th>\n",
       "      <th>Author</th>\n",
       "      <th>Main Genre</th>\n",
       "      <th>Sub Genre</th>\n",
       "      <th>Type</th>\n",
       "      <th>Price</th>\n",
       "      <th>Rating</th>\n",
       "      <th>No. of People rated</th>\n",
       "      <th>URLs</th>\n",
       "    </tr>\n",
       "  </thead>\n",
       "  <tbody>\n",
       "    <tr>\n",
       "      <th>0</th>\n",
       "      <td>0</td>\n",
       "      <td>The Complete Novel of Sherlock Holmes</td>\n",
       "      <td>Arthur Conan Doyle</td>\n",
       "      <td>Arts, Film &amp; Photography</td>\n",
       "      <td>Cinema &amp; Broadcast</td>\n",
       "      <td>Paperback</td>\n",
       "      <td>₹169.00</td>\n",
       "      <td>4.4</td>\n",
       "      <td>19923.0</td>\n",
       "      <td>https://www.amazon.in/Complete-Novels-Sherlock...</td>\n",
       "    </tr>\n",
       "    <tr>\n",
       "      <th>1</th>\n",
       "      <td>1</td>\n",
       "      <td>Black Holes (L) : The Reith Lectures [Paperbac...</td>\n",
       "      <td>Stephen Hawking</td>\n",
       "      <td>Arts, Film &amp; Photography</td>\n",
       "      <td>Cinema &amp; Broadcast</td>\n",
       "      <td>Paperback</td>\n",
       "      <td>₹99.00</td>\n",
       "      <td>4.5</td>\n",
       "      <td>7686.0</td>\n",
       "      <td>https://www.amazon.in/Black-Holes-Lectures-Ste...</td>\n",
       "    </tr>\n",
       "    <tr>\n",
       "      <th>2</th>\n",
       "      <td>2</td>\n",
       "      <td>The Kite Runner</td>\n",
       "      <td>Khaled Hosseini</td>\n",
       "      <td>Arts, Film &amp; Photography</td>\n",
       "      <td>Cinema &amp; Broadcast</td>\n",
       "      <td>Kindle Edition</td>\n",
       "      <td>₹175.75</td>\n",
       "      <td>4.6</td>\n",
       "      <td>50016.0</td>\n",
       "      <td>https://www.amazon.in/Kite-Runner-Khaled-Hosse...</td>\n",
       "    </tr>\n",
       "    <tr>\n",
       "      <th>3</th>\n",
       "      <td>3</td>\n",
       "      <td>Greenlights: Raucous stories and outlaw wisdom...</td>\n",
       "      <td>Matthew McConaughey</td>\n",
       "      <td>Arts, Film &amp; Photography</td>\n",
       "      <td>Cinema &amp; Broadcast</td>\n",
       "      <td>Paperback</td>\n",
       "      <td>₹389.00</td>\n",
       "      <td>4.6</td>\n",
       "      <td>32040.0</td>\n",
       "      <td>https://www.amazon.in/Greenlights-Raucous-stor...</td>\n",
       "    </tr>\n",
       "    <tr>\n",
       "      <th>4</th>\n",
       "      <td>4</td>\n",
       "      <td>The Science of Storytelling: Why Stories Make ...</td>\n",
       "      <td>Will Storr</td>\n",
       "      <td>Arts, Film &amp; Photography</td>\n",
       "      <td>Cinema &amp; Broadcast</td>\n",
       "      <td>Paperback</td>\n",
       "      <td>₹348.16</td>\n",
       "      <td>4.5</td>\n",
       "      <td>1707.0</td>\n",
       "      <td>https://www.amazon.in/Science-Storytelling-Wil...</td>\n",
       "    </tr>\n",
       "  </tbody>\n",
       "</table>\n",
       "</div>"
      ],
      "text/plain": [
       "   Unnamed: 0                                              Title  \\\n",
       "0           0              The Complete Novel of Sherlock Holmes   \n",
       "1           1  Black Holes (L) : The Reith Lectures [Paperbac...   \n",
       "2           2                                    The Kite Runner   \n",
       "3           3  Greenlights: Raucous stories and outlaw wisdom...   \n",
       "4           4  The Science of Storytelling: Why Stories Make ...   \n",
       "\n",
       "                Author                Main Genre           Sub Genre  \\\n",
       "0   Arthur Conan Doyle  Arts, Film & Photography  Cinema & Broadcast   \n",
       "1      Stephen Hawking  Arts, Film & Photography  Cinema & Broadcast   \n",
       "2      Khaled Hosseini  Arts, Film & Photography  Cinema & Broadcast   \n",
       "3  Matthew McConaughey  Arts, Film & Photography  Cinema & Broadcast   \n",
       "4           Will Storr  Arts, Film & Photography  Cinema & Broadcast   \n",
       "\n",
       "             Type    Price  Rating  No. of People rated  \\\n",
       "0       Paperback  ₹169.00     4.4              19923.0   \n",
       "1       Paperback   ₹99.00     4.5               7686.0   \n",
       "2  Kindle Edition  ₹175.75     4.6              50016.0   \n",
       "3       Paperback  ₹389.00     4.6              32040.0   \n",
       "4       Paperback  ₹348.16     4.5               1707.0   \n",
       "\n",
       "                                                URLs  \n",
       "0  https://www.amazon.in/Complete-Novels-Sherlock...  \n",
       "1  https://www.amazon.in/Black-Holes-Lectures-Ste...  \n",
       "2  https://www.amazon.in/Kite-Runner-Khaled-Hosse...  \n",
       "3  https://www.amazon.in/Greenlights-Raucous-stor...  \n",
       "4  https://www.amazon.in/Science-Storytelling-Wil...  "
      ]
     },
     "execution_count": 154,
     "metadata": {},
     "output_type": "execute_result"
    }
   ],
   "source": [
    "print(\"Books DataFrame:\")\n",
    "books_df.head()"
   ]
  },
  {
   "cell_type": "code",
   "execution_count": 155,
   "metadata": {},
   "outputs": [
    {
     "name": "stdout",
     "output_type": "stream",
     "text": [
      "Books DataFrame with Prices in Euros:\n"
     ]
    },
    {
     "data": {
      "text/html": [
       "<div>\n",
       "<style scoped>\n",
       "    .dataframe tbody tr th:only-of-type {\n",
       "        vertical-align: middle;\n",
       "    }\n",
       "\n",
       "    .dataframe tbody tr th {\n",
       "        vertical-align: top;\n",
       "    }\n",
       "\n",
       "    .dataframe thead th {\n",
       "        text-align: right;\n",
       "    }\n",
       "</style>\n",
       "<table border=\"1\" class=\"dataframe\">\n",
       "  <thead>\n",
       "    <tr style=\"text-align: right;\">\n",
       "      <th></th>\n",
       "      <th>Unnamed: 0</th>\n",
       "      <th>Title</th>\n",
       "      <th>Author</th>\n",
       "      <th>Main Genre</th>\n",
       "      <th>Sub Genre</th>\n",
       "      <th>Type</th>\n",
       "      <th>Price</th>\n",
       "      <th>Rating</th>\n",
       "      <th>No. of People rated</th>\n",
       "      <th>URLs</th>\n",
       "      <th>Price_EUR</th>\n",
       "    </tr>\n",
       "  </thead>\n",
       "  <tbody>\n",
       "    <tr>\n",
       "      <th>0</th>\n",
       "      <td>0</td>\n",
       "      <td>The Complete Novel of Sherlock Holmes</td>\n",
       "      <td>Arthur Conan Doyle</td>\n",
       "      <td>Arts, Film &amp; Photography</td>\n",
       "      <td>Cinema &amp; Broadcast</td>\n",
       "      <td>Paperback</td>\n",
       "      <td>169.00</td>\n",
       "      <td>4.4</td>\n",
       "      <td>19923.0</td>\n",
       "      <td>https://www.amazon.in/Complete-Novels-Sherlock...</td>\n",
       "      <td>1.89</td>\n",
       "    </tr>\n",
       "    <tr>\n",
       "      <th>1</th>\n",
       "      <td>1</td>\n",
       "      <td>Black Holes (L) : The Reith Lectures [Paperbac...</td>\n",
       "      <td>Stephen Hawking</td>\n",
       "      <td>Arts, Film &amp; Photography</td>\n",
       "      <td>Cinema &amp; Broadcast</td>\n",
       "      <td>Paperback</td>\n",
       "      <td>99.00</td>\n",
       "      <td>4.5</td>\n",
       "      <td>7686.0</td>\n",
       "      <td>https://www.amazon.in/Black-Holes-Lectures-Ste...</td>\n",
       "      <td>1.11</td>\n",
       "    </tr>\n",
       "    <tr>\n",
       "      <th>2</th>\n",
       "      <td>2</td>\n",
       "      <td>The Kite Runner</td>\n",
       "      <td>Khaled Hosseini</td>\n",
       "      <td>Arts, Film &amp; Photography</td>\n",
       "      <td>Cinema &amp; Broadcast</td>\n",
       "      <td>Kindle Edition</td>\n",
       "      <td>175.75</td>\n",
       "      <td>4.6</td>\n",
       "      <td>50016.0</td>\n",
       "      <td>https://www.amazon.in/Kite-Runner-Khaled-Hosse...</td>\n",
       "      <td>1.97</td>\n",
       "    </tr>\n",
       "    <tr>\n",
       "      <th>3</th>\n",
       "      <td>3</td>\n",
       "      <td>Greenlights: Raucous stories and outlaw wisdom...</td>\n",
       "      <td>Matthew McConaughey</td>\n",
       "      <td>Arts, Film &amp; Photography</td>\n",
       "      <td>Cinema &amp; Broadcast</td>\n",
       "      <td>Paperback</td>\n",
       "      <td>389.00</td>\n",
       "      <td>4.6</td>\n",
       "      <td>32040.0</td>\n",
       "      <td>https://www.amazon.in/Greenlights-Raucous-stor...</td>\n",
       "      <td>4.35</td>\n",
       "    </tr>\n",
       "    <tr>\n",
       "      <th>4</th>\n",
       "      <td>4</td>\n",
       "      <td>The Science of Storytelling: Why Stories Make ...</td>\n",
       "      <td>Will Storr</td>\n",
       "      <td>Arts, Film &amp; Photography</td>\n",
       "      <td>Cinema &amp; Broadcast</td>\n",
       "      <td>Paperback</td>\n",
       "      <td>348.16</td>\n",
       "      <td>4.5</td>\n",
       "      <td>1707.0</td>\n",
       "      <td>https://www.amazon.in/Science-Storytelling-Wil...</td>\n",
       "      <td>3.89</td>\n",
       "    </tr>\n",
       "  </tbody>\n",
       "</table>\n",
       "</div>"
      ],
      "text/plain": [
       "   Unnamed: 0                                              Title  \\\n",
       "0           0              The Complete Novel of Sherlock Holmes   \n",
       "1           1  Black Holes (L) : The Reith Lectures [Paperbac...   \n",
       "2           2                                    The Kite Runner   \n",
       "3           3  Greenlights: Raucous stories and outlaw wisdom...   \n",
       "4           4  The Science of Storytelling: Why Stories Make ...   \n",
       "\n",
       "                Author                Main Genre           Sub Genre  \\\n",
       "0   Arthur Conan Doyle  Arts, Film & Photography  Cinema & Broadcast   \n",
       "1      Stephen Hawking  Arts, Film & Photography  Cinema & Broadcast   \n",
       "2      Khaled Hosseini  Arts, Film & Photography  Cinema & Broadcast   \n",
       "3  Matthew McConaughey  Arts, Film & Photography  Cinema & Broadcast   \n",
       "4           Will Storr  Arts, Film & Photography  Cinema & Broadcast   \n",
       "\n",
       "             Type   Price  Rating  No. of People rated  \\\n",
       "0       Paperback  169.00     4.4              19923.0   \n",
       "1       Paperback   99.00     4.5               7686.0   \n",
       "2  Kindle Edition  175.75     4.6              50016.0   \n",
       "3       Paperback  389.00     4.6              32040.0   \n",
       "4       Paperback  348.16     4.5               1707.0   \n",
       "\n",
       "                                                URLs  Price_EUR  \n",
       "0  https://www.amazon.in/Complete-Novels-Sherlock...       1.89  \n",
       "1  https://www.amazon.in/Black-Holes-Lectures-Ste...       1.11  \n",
       "2  https://www.amazon.in/Kite-Runner-Khaled-Hosse...       1.97  \n",
       "3  https://www.amazon.in/Greenlights-Raucous-stor...       4.35  \n",
       "4  https://www.amazon.in/Science-Storytelling-Wil...       3.89  "
      ]
     },
     "execution_count": 155,
     "metadata": {},
     "output_type": "execute_result"
    }
   ],
   "source": [
    "exchange_rate_inr_to_eur = 1 / 89.43  # 1 Euro = 89.43 INR\n",
    "\n",
    "# Removing commas and currency symbol from the prices and convert to float\n",
    "books_df['Price'] = books_df['Price'].str.replace(',', '').str.replace('₹', '').astype(float)\n",
    "\n",
    "# Calculating the price in Euros\n",
    "books_df['Price_EUR'] = books_df['Price'] * exchange_rate_inr_to_eur\n",
    "\n",
    "# Rounding the price in Euros to two decimal places\n",
    "books_df['Price_EUR'] = books_df['Price_EUR'].apply(lambda x: round(x, 2))\n",
    "\n",
    "print(\"Books DataFrame with Prices in Euros:\")\n",
    "books_df.head()\n"
   ]
  },
  {
   "cell_type": "markdown",
   "metadata": {},
   "source": [
    "UserManager function:\n",
    "\n",
    "- User registration: register_user method to allow users to register with unique usernames and passwords;\n",
    "- User Login: login_user method verifies user credentials and allows them to log in;\n",
    "- Preference Setting: set_preference method enables users to set their preferences by providing a key-value pair;\n",
    "- Preference Retrieval: get_preferences method retrieves the preferences of a logged-in user;\n",
    "- Testing: testing the registration, login, preference setting, and preference retrieval functionalities with sample users."
   ]
  },
  {
   "cell_type": "code",
   "execution_count": 156,
   "metadata": {},
   "outputs": [],
   "source": [
    "class UserManagement:\n",
    "    def __init__(self):\n",
    "        self.users = {}  # Dictionary to store user information\n",
    "\n",
    "    def register_user(self, username, password):\n",
    "        if username in self.users:\n",
    "            print(\"Username already exists. Please choose a different username.\")\n",
    "        else:\n",
    "            self.users[username] = {'password': password, 'preferences': {}}\n",
    "            print(\"Registration successful!\")\n",
    "\n",
    "    def login_user(self, username, password):\n",
    "        if username in self.users and self.users[username]['password'] == password:\n",
    "            print(\"Login successful!\")\n",
    "            return True\n",
    "        else:\n",
    "            print(\"Invalid username or password. Please try again.\")\n",
    "            return False\n",
    "\n",
    "    def set_preference(self, username, preference_key, preference_value):\n",
    "        if username in self.users:\n",
    "            if 'preferences' not in self.users[username]:\n",
    "                self.users[username]['preferences'] = {}  # Initializing preferences dictionary if it doesn't exist\n",
    "            if preference_key in self.users[username]['preferences']:\n",
    "                # Check if preference_value already exists, if not, add it\n",
    "                if preference_value not in self.users[username]['preferences'][preference_key]:\n",
    "                    self.users[username]['preferences'][preference_key].append(preference_value)\n",
    "                    print(\"Preference added successfully!\")\n",
    "                else:\n",
    "                    print(\"Preference already exists.\")\n",
    "            else:\n",
    "                # Creating a new list with the preference value if the preference key doesn't exist\n",
    "                self.users[username]['preferences'][preference_key] = [preference_value]\n",
    "                print(\"Preference set successfully!\")\n",
    "        else:\n",
    "            print(\"User not found. Please login again.\")\n",
    "\n",
    "    def get_preferences(self, username):\n",
    "        if username in self.users and 'preferences' in self.users[username]:\n",
    "            return self.users[username]['preferences']\n",
    "        else:\n",
    "            print(\"User not found or no preferences set.\")\n",
    "            return None\n"
   ]
  },
  {
   "cell_type": "markdown",
   "metadata": {},
   "source": [
    "Testing UserManager methods:"
   ]
  },
  {
   "cell_type": "code",
   "execution_count": 157,
   "metadata": {},
   "outputs": [
    {
     "name": "stdout",
     "output_type": "stream",
     "text": [
      "\u001b[1m======================================= test session starts ========================================\u001b[0m\n",
      "platform darwin -- Python 3.11.7, pytest-8.1.1, pluggy-1.4.0 -- /Users/andressafont/miniconda3/envs/comp47350py311/bin/python\n",
      "cachedir: .pytest_cache\n",
      "rootdir: /Users/andressafont/Desktop/data structures\n",
      "plugins: cov-5.0.0, nbval-0.11.0, anyio-4.2.0\n",
      "\u001b[1mcollecting ... \u001b[0mcollected 3 items\n",
      "\n",
      "t_e29f7fddf22747a1b430bc4e65d7d8ac.py::test_register_user <- ../../../../var/folders/6j/tmdg_xx172xb1xtgxd35y2400000gn/T/ipykernel_4737/3846880177.py \u001b[32mPASSED\u001b[0m\u001b[32m [ 33%]\u001b[0m\n",
      "t_e29f7fddf22747a1b430bc4e65d7d8ac.py::test_login_user <- ../../../../var/folders/6j/tmdg_xx172xb1xtgxd35y2400000gn/T/ipykernel_4737/3846880177.py \u001b[32mPASSED\u001b[0m\u001b[32m [ 66%]\u001b[0m\n",
      "t_e29f7fddf22747a1b430bc4e65d7d8ac.py::test_set_preference <- ../../../../var/folders/6j/tmdg_xx172xb1xtgxd35y2400000gn/T/ipykernel_4737/3846880177.py \u001b[32mPASSED\u001b[0m\u001b[32m [100%]\u001b[0m\n",
      "\n",
      "\u001b[32m======================================== \u001b[32m\u001b[1m3 passed\u001b[0m\u001b[32m in 0.20s\u001b[0m\u001b[32m =========================================\u001b[0m\n"
     ]
    },
    {
     "data": {
      "text/plain": [
       "<ExitCode.OK: 0>"
      ]
     },
     "execution_count": 157,
     "metadata": {},
     "output_type": "execute_result"
    }
   ],
   "source": [
    "def test_register_user():\n",
    "    user_manager = UserManagement()\n",
    "    user_manager.register_user('test_user', 'test_password')\n",
    "    assert 'test_user' in user_manager.users\n",
    "\n",
    "def test_login_user():\n",
    "    user_manager = UserManagement()\n",
    "    user_manager.register_user('test_user', 'test_password')\n",
    "    assert user_manager.login_user('test_user', 'test_password') == True\n",
    "\n",
    "def test_set_preference():\n",
    "    user_manager = UserManagement()\n",
    "    user_manager.register_user('test_user', 'test_password')\n",
    "    user_manager.set_preference('test_user', 'preference_key', 'preference_value')\n",
    "    assert 'preference_key' in user_manager.get_preferences('test_user')\n",
    "\n",
    "ipytest.run('-vv')\n"
   ]
  },
  {
   "cell_type": "markdown",
   "metadata": {},
   "source": []
  },
  {
   "cell_type": "markdown",
   "metadata": {},
   "source": []
  },
  {
   "cell_type": "markdown",
   "metadata": {},
   "source": []
  },
  {
   "cell_type": "markdown",
   "metadata": {},
   "source": [
    "Creating users:"
   ]
  },
  {
   "cell_type": "code",
   "execution_count": 158,
   "metadata": {},
   "outputs": [
    {
     "name": "stdout",
     "output_type": "stream",
     "text": [
      "Registration successful!\n",
      "Registration successful!\n",
      "Registration successful!\n",
      "Registration successful!\n"
     ]
    }
   ],
   "source": [
    "# Creating an instance of UserManagement class\n",
    "user_manager = UserManagement()\n",
    "\n",
    "user_manager.register_user('Sean', 'password123')\n",
    "user_manager.register_user('Saoirse', 'password789')\n",
    "user_manager.register_user('Finn', 'password456')\n",
    "user_manager.register_user('Aoife', 'password997')\n"
   ]
  },
  {
   "cell_type": "markdown",
   "metadata": {},
   "source": [
    "Testing users and their preferences:"
   ]
  },
  {
   "cell_type": "code",
   "execution_count": 159,
   "metadata": {},
   "outputs": [
    {
     "name": "stdout",
     "output_type": "stream",
     "text": [
      "Login successful!\n",
      "Preference set successfully!\n"
     ]
    }
   ],
   "source": [
    "if user_manager.login_user('Sean', 'password123'):\n",
    "  \n",
    "    user_manager.set_preference('Sean', 'favorite_genre', 'Science Fiction')"
   ]
  },
  {
   "cell_type": "code",
   "execution_count": 160,
   "metadata": {},
   "outputs": [
    {
     "name": "stdout",
     "output_type": "stream",
     "text": [
      "Login successful!\n",
      "Preference set successfully!\n",
      "Preference set successfully!\n"
     ]
    }
   ],
   "source": [
    "if user_manager.login_user('Sean', 'password123'):\n",
    "\n",
    "    user_manager.set_preference('Sean', 'favorite_author', 'J.K. Rowling')\n",
    "    user_manager.set_preference('Sean', 'favorite_rating', '5')\n"
   ]
  },
  {
   "cell_type": "code",
   "execution_count": 161,
   "metadata": {},
   "outputs": [
    {
     "name": "stdout",
     "output_type": "stream",
     "text": [
      "Login successful!\n",
      "Preference added successfully!\n"
     ]
    }
   ],
   "source": [
    "if user_manager.login_user('Sean', 'password123'):\n",
    "\n",
    "    user_manager.set_preference('Sean', 'favorite_author', 'Satyajit Ray')"
   ]
  },
  {
   "cell_type": "code",
   "execution_count": 162,
   "metadata": {},
   "outputs": [
    {
     "name": "stdout",
     "output_type": "stream",
     "text": [
      "Login successful!\n",
      "Sean's preferences: {'favorite_genre': ['Science Fiction'], 'favorite_author': ['J.K. Rowling', 'Satyajit Ray'], 'favorite_rating': ['5']}\n"
     ]
    }
   ],
   "source": [
    "if user_manager.login_user('Sean', 'password123'):\n",
    "\n",
    "    sean_preferences = user_manager.get_preferences('Sean')\n",
    "    if sean_preferences:\n",
    "        print(\"Sean's preferences:\", sean_preferences)\n",
    "    else:\n",
    "        print(\"No preferences found for Sean.\")\n"
   ]
  },
  {
   "cell_type": "code",
   "execution_count": 163,
   "metadata": {},
   "outputs": [
    {
     "name": "stdout",
     "output_type": "stream",
     "text": [
      "Login successful!\n",
      "Preference set successfully!\n"
     ]
    }
   ],
   "source": [
    "if user_manager.login_user('Aoife', 'password997'):\n",
    "    \n",
    "    user_manager.set_preference('Aoife', 'favorite_genre', 'Economics')"
   ]
  },
  {
   "cell_type": "code",
   "execution_count": 164,
   "metadata": {},
   "outputs": [
    {
     "name": "stdout",
     "output_type": "stream",
     "text": [
      "Login successful!\n",
      "Preference added successfully!\n"
     ]
    }
   ],
   "source": [
    "if user_manager.login_user('Aoife', 'password997'):\n",
    "\n",
    "    user_manager.set_preference('Aoife', 'favorite_genre', 'Cinema & Broadcast')"
   ]
  },
  {
   "cell_type": "code",
   "execution_count": 165,
   "metadata": {},
   "outputs": [
    {
     "name": "stdout",
     "output_type": "stream",
     "text": [
      "Login successful!\n",
      "Preference set successfully!\n"
     ]
    }
   ],
   "source": [
    "if user_manager.login_user('Aoife', 'password997'):\n",
    " \n",
    "    user_manager.set_preference('Aoife', 'favorite_type', 'Paperback')"
   ]
  },
  {
   "cell_type": "code",
   "execution_count": 166,
   "metadata": {},
   "outputs": [
    {
     "name": "stdout",
     "output_type": "stream",
     "text": [
      "Login successful!\n",
      "Aoife's preferences: {'favorite_genre': ['Economics', 'Cinema & Broadcast'], 'favorite_type': ['Paperback']}\n"
     ]
    }
   ],
   "source": [
    "if user_manager.login_user('Aoife', 'password997'):\n",
    "    # Get preferences for the logged-in user\n",
    "    aoife_preferences = user_manager.get_preferences('Aoife')\n",
    "    if aoife_preferences:\n",
    "        print(\"Aoife's preferences:\", aoife_preferences)\n",
    "    else:\n",
    "        print(\"No preferences found for Aoife.\")\n"
   ]
  },
  {
   "cell_type": "markdown",
   "metadata": {},
   "source": []
  },
  {
   "cell_type": "markdown",
   "metadata": {},
   "source": []
  },
  {
   "cell_type": "markdown",
   "metadata": {},
   "source": []
  },
  {
   "cell_type": "markdown",
   "metadata": {},
   "source": [
    "Recommending books by author:"
   ]
  },
  {
   "cell_type": "code",
   "execution_count": 181,
   "metadata": {},
   "outputs": [],
   "source": [
    "import pandas as pd\n",
    "\n",
    "def get_books_by_favorite_authors(username, users, books_database, desired_columns=['Title', 'Author', 'Rating', 'Price_EUR', 'URLs']):\n",
    "  \"\"\"\n",
    "  This function recommends books based on a user's favorite authors, selecting\n",
    "  specified columns for the recommendations and ensuring unique book recommendations.\n",
    "\n",
    "  Args:\n",
    "      username: The username of the user.\n",
    "      users: A dictionary containing user information.\n",
    "      books_database: A Pandas DataFrame containing book information.\n",
    "      desired_columns (list, optional): A list of column names to select\n",
    "          from the recommended books. Defaults to ['Title', 'Author',\n",
    "          'Rating', 'Price_EUR', 'URLs'].\n",
    "\n",
    "  Returns:\n",
    "      A Pandas DataFrame containing recommended books (empty if none found).\n",
    "  \"\"\"\n",
    "\n",
    "  if username not in users:\n",
    "    print(\"User not found.\")\n",
    "    return pd.DataFrame()\n",
    "\n",
    "  if 'preferences' not in users[username]:\n",
    "    print(f\"User '{username}' has no preferences set.\")\n",
    "    return pd.DataFrame()\n",
    "\n",
    "  favorite_authors = users[username]['preferences'].get('favorite_author', [])\n",
    "\n",
    "  if not favorite_authors:\n",
    "    print(f\"User '{username}' has no favorite authors set.\")\n",
    "    return pd.DataFrame()\n",
    "\n",
    "  recommended_books = []\n",
    "  seen_books = set()  # Keep track of already recommended books\n",
    "\n",
    "  for author in favorite_authors:\n",
    "    author_books = books_database[books_database['Author'] == author]\n",
    "    if not author_books.empty:\n",
    "      # Sort the books by rating in descending order\n",
    "      sorted_books = author_books.sort_values(by='Rating', ascending=False)\n",
    "\n",
    "      for index, row in sorted_books.iterrows():\n",
    "        # Check if book is already recommended and skip if yes\n",
    "        if row['Title'] not in seen_books:\n",
    "          seen_books.add(row['Title'])\n",
    "          top_3_books = row[desired_columns]\n",
    "          recommended_books.append(top_3_books)\n",
    "          if len(recommended_books) == 3:  # Limit to top 3 per author (total 6)\n",
    "            break\n",
    "\n",
    "    else:\n",
    "      print(f\"No books found for author {author}.\")\n",
    "\n",
    "  if recommended_books:\n",
    "    # Concatenate the list of DataFrames into a single DataFrame\n",
    "    df = pd.concat(recommended_books)\n",
    "    return df\n",
    "  else:\n",
    "    print(\"No books found matching the criteria.\")\n",
    "    return pd.DataFrame()\n"
   ]
  },
  {
   "cell_type": "code",
   "execution_count": 185,
   "metadata": {},
   "outputs": [],
   "source": [
    "recommended_books_by_author = get_books_by_favorite_authors('Sean', user_manager.users, books_df)"
   ]
  },
  {
   "cell_type": "code",
   "execution_count": 187,
   "metadata": {},
   "outputs": [
    {
     "data": {
      "text/html": [
       "<style type=\"text/css\">\n",
       "</style>\n",
       "<table id=\"T_eee0c\">\n",
       "  <thead>\n",
       "    <tr>\n",
       "      <th class=\"blank level0\" >&nbsp;</th>\n",
       "      <th id=\"T_eee0c_level0_col0\" class=\"col_heading level0 col0\" >0</th>\n",
       "    </tr>\n",
       "  </thead>\n",
       "  <tbody>\n",
       "    <tr>\n",
       "      <th id=\"T_eee0c_level0_row0\" class=\"row_heading level0 row0\" >Title</th>\n",
       "      <td id=\"T_eee0c_row0_col0\" class=\"data row0 col0\" >Harry Potter and the Prisoner of Azkaban: MinaLima Edition</td>\n",
       "    </tr>\n",
       "    <tr>\n",
       "      <th id=\"T_eee0c_level0_row1\" class=\"row_heading level0 row1\" >Author</th>\n",
       "      <td id=\"T_eee0c_row1_col0\" class=\"data row1 col0\" >J.K. Rowling</td>\n",
       "    </tr>\n",
       "    <tr>\n",
       "      <th id=\"T_eee0c_level0_row2\" class=\"row_heading level0 row2\" >Rating</th>\n",
       "      <td id=\"T_eee0c_row2_col0\" class=\"data row2 col0\" >4.900000</td>\n",
       "    </tr>\n",
       "    <tr>\n",
       "      <th id=\"T_eee0c_level0_row3\" class=\"row_heading level0 row3\" >Price_EUR</th>\n",
       "      <td id=\"T_eee0c_row3_col0\" class=\"data row3 col0\" >28.650000</td>\n",
       "    </tr>\n",
       "    <tr>\n",
       "      <th id=\"T_eee0c_level0_row4\" class=\"row_heading level0 row4\" >URLs</th>\n",
       "      <td id=\"T_eee0c_row4_col0\" class=\"data row4 col0\" >https://www.amazon.in/Harry-Potter-Prisoner-Azkaban-MinaLima/dp/1526666324/ref=zg_bs_g_67803449031_d_sccl_15/000-0000000-0000000?psc=1</td>\n",
       "    </tr>\n",
       "    <tr>\n",
       "      <th id=\"T_eee0c_level0_row5\" class=\"row_heading level0 row5\" >Title</th>\n",
       "      <td id=\"T_eee0c_row5_col0\" class=\"data row5 col0\" >Harry Potter and the Half-Blood Prince</td>\n",
       "    </tr>\n",
       "    <tr>\n",
       "      <th id=\"T_eee0c_level0_row6\" class=\"row_heading level0 row6\" >Author</th>\n",
       "      <td id=\"T_eee0c_row6_col0\" class=\"data row6 col0\" >J.K. Rowling</td>\n",
       "    </tr>\n",
       "    <tr>\n",
       "      <th id=\"T_eee0c_level0_row7\" class=\"row_heading level0 row7\" >Rating</th>\n",
       "      <td id=\"T_eee0c_row7_col0\" class=\"data row7 col0\" >4.800000</td>\n",
       "    </tr>\n",
       "    <tr>\n",
       "      <th id=\"T_eee0c_level0_row8\" class=\"row_heading level0 row8\" >Price_EUR</th>\n",
       "      <td id=\"T_eee0c_row8_col0\" class=\"data row8 col0\" >3.510000</td>\n",
       "    </tr>\n",
       "    <tr>\n",
       "      <th id=\"T_eee0c_level0_row9\" class=\"row_heading level0 row9\" >URLs</th>\n",
       "      <td id=\"T_eee0c_row9_col0\" class=\"data row9 col0\" >https://www.amazon.in/Harry-Potter-Half-Blood-Prince-Rowling-ebook/dp/B019PIOJZE/ref=zg_bs_g_1318163031_d_sccl_7/000-0000000-0000000?psc=1</td>\n",
       "    </tr>\n",
       "    <tr>\n",
       "      <th id=\"T_eee0c_level0_row10\" class=\"row_heading level0 row10\" >Title</th>\n",
       "      <td id=\"T_eee0c_row10_col0\" class=\"data row10 col0\" >Harry Potter and the Goblet of Fire, Book 4</td>\n",
       "    </tr>\n",
       "    <tr>\n",
       "      <th id=\"T_eee0c_level0_row11\" class=\"row_heading level0 row11\" >Author</th>\n",
       "      <td id=\"T_eee0c_row11_col0\" class=\"data row11 col0\" >J.K. Rowling</td>\n",
       "    </tr>\n",
       "    <tr>\n",
       "      <th id=\"T_eee0c_level0_row12\" class=\"row_heading level0 row12\" >Rating</th>\n",
       "      <td id=\"T_eee0c_row12_col0\" class=\"data row12 col0\" >4.800000</td>\n",
       "    </tr>\n",
       "    <tr>\n",
       "      <th id=\"T_eee0c_level0_row13\" class=\"row_heading level0 row13\" >Price_EUR</th>\n",
       "      <td id=\"T_eee0c_row13_col0\" class=\"data row13 col0\" >17.880000</td>\n",
       "    </tr>\n",
       "    <tr>\n",
       "      <th id=\"T_eee0c_level0_row14\" class=\"row_heading level0 row14\" >URLs</th>\n",
       "      <td id=\"T_eee0c_row14_col0\" class=\"data row14 col0\" >https://www.amazon.in/Harry-Potter-Goblet-Fire-Book/dp/B079TLCMQT/ref=zg_bs_g_67803458031_d_sccl_18/000-0000000-0000000?psc=1</td>\n",
       "    </tr>\n",
       "    <tr>\n",
       "      <th id=\"T_eee0c_level0_row15\" class=\"row_heading level0 row15\" >Title</th>\n",
       "      <td id=\"T_eee0c_row15_col0\" class=\"data row15 col0\" >Speaking Of Films (The Penguin Ray Library)</td>\n",
       "    </tr>\n",
       "    <tr>\n",
       "      <th id=\"T_eee0c_level0_row16\" class=\"row_heading level0 row16\" >Author</th>\n",
       "      <td id=\"T_eee0c_row16_col0\" class=\"data row16 col0\" >Satyajit Ray</td>\n",
       "    </tr>\n",
       "    <tr>\n",
       "      <th id=\"T_eee0c_level0_row17\" class=\"row_heading level0 row17\" >Rating</th>\n",
       "      <td id=\"T_eee0c_row17_col0\" class=\"data row17 col0\" >4.600000</td>\n",
       "    </tr>\n",
       "    <tr>\n",
       "      <th id=\"T_eee0c_level0_row18\" class=\"row_heading level0 row18\" >Price_EUR</th>\n",
       "      <td id=\"T_eee0c_row18_col0\" class=\"data row18 col0\" >2.310000</td>\n",
       "    </tr>\n",
       "    <tr>\n",
       "      <th id=\"T_eee0c_level0_row19\" class=\"row_heading level0 row19\" >URLs</th>\n",
       "      <td id=\"T_eee0c_row19_col0\" class=\"data row19 col0\" >https://www.amazon.in/Speaking-Films-Satyajit-Ray/dp/0144000261/ref=zg_bs_g_1318054031_d_sccl_20/000-0000000-0000000?psc=1</td>\n",
       "    </tr>\n",
       "    <tr>\n",
       "      <th id=\"T_eee0c_level0_row20\" class=\"row_heading level0 row20\" >Title</th>\n",
       "      <td id=\"T_eee0c_row20_col0\" class=\"data row20 col0\" >Satyajit Ray Miscellany: On Life, Cinema</td>\n",
       "    </tr>\n",
       "    <tr>\n",
       "      <th id=\"T_eee0c_level0_row21\" class=\"row_heading level0 row21\" >Author</th>\n",
       "      <td id=\"T_eee0c_row21_col0\" class=\"data row21 col0\" >Satyajit Ray</td>\n",
       "    </tr>\n",
       "    <tr>\n",
       "      <th id=\"T_eee0c_level0_row22\" class=\"row_heading level0 row22\" >Rating</th>\n",
       "      <td id=\"T_eee0c_row22_col0\" class=\"data row22 col0\" >4.600000</td>\n",
       "    </tr>\n",
       "    <tr>\n",
       "      <th id=\"T_eee0c_level0_row23\" class=\"row_heading level0 row23\" >Price_EUR</th>\n",
       "      <td id=\"T_eee0c_row23_col0\" class=\"data row23 col0\" >4.480000</td>\n",
       "    </tr>\n",
       "    <tr>\n",
       "      <th id=\"T_eee0c_level0_row24\" class=\"row_heading level0 row24\" >URLs</th>\n",
       "      <td id=\"T_eee0c_row24_col0\" class=\"data row24 col0\" >https://www.amazon.in/Satyajit-Ray-Miscellany-Penguin-Library/dp/0143448994/ref=zg_bs_g_1318054031_d_sccl_22/000-0000000-0000000?psc=1</td>\n",
       "    </tr>\n",
       "  </tbody>\n",
       "</table>\n"
      ],
      "text/plain": [
       "<pandas.io.formats.style.Styler at 0x115d323d0>"
      ]
     },
     "execution_count": 187,
     "metadata": {},
     "output_type": "execute_result"
    }
   ],
   "source": [
    "recommended_books_df = recommended_books_by_author.to_frame()\n",
    "\n",
    "styled_recommended_books_by_author = recommended_books_df.style\n",
    "\n",
    "styled_recommended_books_by_author\n"
   ]
  },
  {
   "cell_type": "code",
   "execution_count": null,
   "metadata": {},
   "outputs": [],
   "source": []
  },
  {
   "cell_type": "code",
   "execution_count": null,
   "metadata": {},
   "outputs": [],
   "source": []
  },
  {
   "cell_type": "code",
   "execution_count": null,
   "metadata": {},
   "outputs": [],
   "source": []
  }
 ],
 "metadata": {
  "kernelspec": {
   "display_name": "Python 3 (ipykernel)",
   "language": "python",
   "name": "python3"
  },
  "language_info": {
   "codemirror_mode": {
    "name": "ipython",
    "version": 3
   },
   "file_extension": ".py",
   "mimetype": "text/x-python",
   "name": "python",
   "nbconvert_exporter": "python",
   "pygments_lexer": "ipython3",
   "version": "3.11.7"
  }
 },
 "nbformat": 4,
 "nbformat_minor": 4
}
