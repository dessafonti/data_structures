{
 "cells": [
  {
   "attachments": {},
   "cell_type": "markdown",
   "metadata": {},
   "source": [
    "Real-World Problem Solving with Algorithms and Data Structures - Book Recommendation Model"
   ]
  },
  {
   "cell_type": "code",
   "execution_count": 1,
   "metadata": {},
   "outputs": [
    {
     "name": "stderr",
     "output_type": "stream",
     "text": [
      "/var/folders/6j/tmdg_xx172xb1xtgxd35y2400000gn/T/ipykernel_13753/1548254316.py:1: DeprecationWarning: \n",
      "Pyarrow will become a required dependency of pandas in the next major release of pandas (pandas 3.0),\n",
      "(to allow more performant data types, such as the Arrow string type, and better interoperability with other libraries)\n",
      "but was not found to be installed on your system.\n",
      "If this would cause problems for you,\n",
      "please provide us feedback at https://github.com/pandas-dev/pandas/issues/54466\n",
      "        \n",
      "  import pandas as pd\n"
     ]
    }
   ],
   "source": [
    "import pandas as pd\n",
    "from sklearn.metrics import precision_score, recall_score"
   ]
  },
  {
   "cell_type": "markdown",
   "metadata": {},
   "source": [
    "- Reading dataset from Amazon Books Dataset: Genre, Sub-genre, and Books (available at https://www.kaggle.com/datasets/tanisha1604/amazon-books-dataset-genre-sub-genre-and-books)"
   ]
  },
  {
   "cell_type": "code",
   "execution_count": 2,
   "metadata": {},
   "outputs": [],
   "source": [
    "books_df = pd.read_csv(\"Books_df.csv\")"
   ]
  },
  {
   "cell_type": "code",
   "execution_count": 3,
   "metadata": {
    "scrolled": true
   },
   "outputs": [
    {
     "name": "stdout",
     "output_type": "stream",
     "text": [
      "Books DataFrame:\n"
     ]
    },
    {
     "data": {
      "text/html": [
       "<div>\n",
       "<style scoped>\n",
       "    .dataframe tbody tr th:only-of-type {\n",
       "        vertical-align: middle;\n",
       "    }\n",
       "\n",
       "    .dataframe tbody tr th {\n",
       "        vertical-align: top;\n",
       "    }\n",
       "\n",
       "    .dataframe thead th {\n",
       "        text-align: right;\n",
       "    }\n",
       "</style>\n",
       "<table border=\"1\" class=\"dataframe\">\n",
       "  <thead>\n",
       "    <tr style=\"text-align: right;\">\n",
       "      <th></th>\n",
       "      <th>Unnamed: 0</th>\n",
       "      <th>Title</th>\n",
       "      <th>Author</th>\n",
       "      <th>Main Genre</th>\n",
       "      <th>Sub Genre</th>\n",
       "      <th>Type</th>\n",
       "      <th>Price</th>\n",
       "      <th>Rating</th>\n",
       "      <th>No. of People rated</th>\n",
       "      <th>URLs</th>\n",
       "      <th>Price_EUR</th>\n",
       "    </tr>\n",
       "  </thead>\n",
       "  <tbody>\n",
       "    <tr>\n",
       "      <th>0</th>\n",
       "      <td>0</td>\n",
       "      <td>The Complete Novel of Sherlock Holmes</td>\n",
       "      <td>Arthur Conan Doyle</td>\n",
       "      <td>Arts, Film &amp; Photography</td>\n",
       "      <td>Cinema &amp; Broadcast</td>\n",
       "      <td>Paperback</td>\n",
       "      <td>169.00</td>\n",
       "      <td>4.4</td>\n",
       "      <td>19923.0</td>\n",
       "      <td>https://www.amazon.in/Complete-Novels-Sherlock...</td>\n",
       "      <td>1.89</td>\n",
       "    </tr>\n",
       "    <tr>\n",
       "      <th>1</th>\n",
       "      <td>1</td>\n",
       "      <td>Black Holes (L) : The Reith Lectures [Paperbac...</td>\n",
       "      <td>Stephen Hawking</td>\n",
       "      <td>Arts, Film &amp; Photography</td>\n",
       "      <td>Cinema &amp; Broadcast</td>\n",
       "      <td>Paperback</td>\n",
       "      <td>99.00</td>\n",
       "      <td>4.5</td>\n",
       "      <td>7686.0</td>\n",
       "      <td>https://www.amazon.in/Black-Holes-Lectures-Ste...</td>\n",
       "      <td>1.11</td>\n",
       "    </tr>\n",
       "    <tr>\n",
       "      <th>2</th>\n",
       "      <td>2</td>\n",
       "      <td>The Kite Runner</td>\n",
       "      <td>Khaled Hosseini</td>\n",
       "      <td>Arts, Film &amp; Photography</td>\n",
       "      <td>Cinema &amp; Broadcast</td>\n",
       "      <td>Kindle Edition</td>\n",
       "      <td>175.75</td>\n",
       "      <td>4.6</td>\n",
       "      <td>50016.0</td>\n",
       "      <td>https://www.amazon.in/Kite-Runner-Khaled-Hosse...</td>\n",
       "      <td>1.97</td>\n",
       "    </tr>\n",
       "    <tr>\n",
       "      <th>3</th>\n",
       "      <td>3</td>\n",
       "      <td>Greenlights: Raucous stories and outlaw wisdom...</td>\n",
       "      <td>Matthew McConaughey</td>\n",
       "      <td>Arts, Film &amp; Photography</td>\n",
       "      <td>Cinema &amp; Broadcast</td>\n",
       "      <td>Paperback</td>\n",
       "      <td>389.00</td>\n",
       "      <td>4.6</td>\n",
       "      <td>32040.0</td>\n",
       "      <td>https://www.amazon.in/Greenlights-Raucous-stor...</td>\n",
       "      <td>4.35</td>\n",
       "    </tr>\n",
       "    <tr>\n",
       "      <th>4</th>\n",
       "      <td>4</td>\n",
       "      <td>The Science of Storytelling: Why Stories Make ...</td>\n",
       "      <td>Will Storr</td>\n",
       "      <td>Arts, Film &amp; Photography</td>\n",
       "      <td>Cinema &amp; Broadcast</td>\n",
       "      <td>Paperback</td>\n",
       "      <td>348.16</td>\n",
       "      <td>4.5</td>\n",
       "      <td>1707.0</td>\n",
       "      <td>https://www.amazon.in/Science-Storytelling-Wil...</td>\n",
       "      <td>3.89</td>\n",
       "    </tr>\n",
       "  </tbody>\n",
       "</table>\n",
       "</div>"
      ],
      "text/plain": [
       "   Unnamed: 0                                              Title  \\\n",
       "0           0              The Complete Novel of Sherlock Holmes   \n",
       "1           1  Black Holes (L) : The Reith Lectures [Paperbac...   \n",
       "2           2                                    The Kite Runner   \n",
       "3           3  Greenlights: Raucous stories and outlaw wisdom...   \n",
       "4           4  The Science of Storytelling: Why Stories Make ...   \n",
       "\n",
       "                Author                Main Genre           Sub Genre  \\\n",
       "0   Arthur Conan Doyle  Arts, Film & Photography  Cinema & Broadcast   \n",
       "1      Stephen Hawking  Arts, Film & Photography  Cinema & Broadcast   \n",
       "2      Khaled Hosseini  Arts, Film & Photography  Cinema & Broadcast   \n",
       "3  Matthew McConaughey  Arts, Film & Photography  Cinema & Broadcast   \n",
       "4           Will Storr  Arts, Film & Photography  Cinema & Broadcast   \n",
       "\n",
       "             Type   Price  Rating  No. of People rated  \\\n",
       "0       Paperback  169.00     4.4              19923.0   \n",
       "1       Paperback   99.00     4.5               7686.0   \n",
       "2  Kindle Edition  175.75     4.6              50016.0   \n",
       "3       Paperback  389.00     4.6              32040.0   \n",
       "4       Paperback  348.16     4.5               1707.0   \n",
       "\n",
       "                                                URLs  Price_EUR  \n",
       "0  https://www.amazon.in/Complete-Novels-Sherlock...       1.89  \n",
       "1  https://www.amazon.in/Black-Holes-Lectures-Ste...       1.11  \n",
       "2  https://www.amazon.in/Kite-Runner-Khaled-Hosse...       1.97  \n",
       "3  https://www.amazon.in/Greenlights-Raucous-stor...       4.35  \n",
       "4  https://www.amazon.in/Science-Storytelling-Wil...       3.89  "
      ]
     },
     "execution_count": 3,
     "metadata": {},
     "output_type": "execute_result"
    }
   ],
   "source": [
    "print(\"Books DataFrame:\")\n",
    "books_df.head()"
   ]
  },
  {
   "cell_type": "markdown",
   "metadata": {},
   "source": [
    "UserManager function:\n",
    "\n",
    "-  init(self): Initializes the UserManagement class by creating a fixed-size hash table to store user information;\n",
    "\n",
    "- _hash(self, username): Generates a hash value for a given username using a simple hash function;\n",
    "  \n",
    "- _find_slot(self, username): Finds an empty slot in the hash table for a new user or the slot containing the user with the given username, using linear probing for collision resolution;\n",
    "  \n",
    "- register_user(self, username, password): Registers a new user by storing their username, password, and an empty preferences dictionary in the hash table. Checks for username availability;\n",
    "  \n",
    "- login_user(self, username, password): Logs in a user by verifying the provided username and password against the stored credentials in the hash table;\n",
    "  \n",
    "- set_preference(self, username, preference_key, preference_value): Sets a preference for a user by adding it to their preferences dictionary in the hash table. Handles preference key conflicts by appending values to existing keys;\n",
    "  \n",
    "- get_preferences(self, username): Retrieves the preferences of a user by returning their preferences dictionary from the hash table;\n",
    "  \n",
    "- input_credentials(self): Prompts the user to input their username and password and returns them;\n",
    "  \n",
    "- input_preferences(self): Prompts the user to input their favorite genre, author, and type of book, and returns these preferences;\n",
    "  \n",
    "- check_all_users(self): Prints a list of all registered users along with their usernames, passwords, and preferences;\n",
    "  \n",
    "- get_user_by_username(self, username): Retrieves a user's information by searching for their username in the hash table and returning the corresponding user dictionary."
   ]
  },
  {
   "cell_type": "code",
   "execution_count": 4,
   "metadata": {},
   "outputs": [],
   "source": [
    "class UserManagement:\n",
    "  def __init__(self):\n",
    "  \n",
    "    self.SIZE = 20\n",
    "    self.users = [None] * self.SIZE \n",
    "\n",
    "  def _hash(self, username):\n",
    "   \n",
    "    return sum(ord(char) for char in username) % self.SIZE\n",
    "\n",
    "  def _find_slot(self, username):\n",
    "\n",
    "    index = self._hash(username)\n",
    "    for i in range(self.SIZE):\n",
    "      probe_index = (index + i) % self.SIZE  # Linear probing for collisions\n",
    "      if self.users[probe_index] is None or self.users[probe_index]['username'] == username:\n",
    "        return probe_index\n",
    "    raise Exception(\"Hash table is full!\")\n",
    "\n",
    "  def register_user(self, username, password):\n",
    "    index = self._find_slot(username)\n",
    "    if self.users[index] is None:\n",
    "      self.users[index] = {'username': username, 'password': password, 'preferences': {}}\n",
    "      print(\"Registration successful!\")\n",
    "    else:\n",
    "      print(\"Username already exists. Please choose a different username.\")\n",
    "\n",
    "  def login_user(self, username, password):\n",
    "    index = self._find_slot(username)\n",
    "    if self.users[index] is not None and self.users[index]['username'] == username and self.users[index]['password'] == password:\n",
    "      print(\"Login successful!\")\n",
    "      return True\n",
    "    else:\n",
    "      print(\"Invalid username or password. Please try again.\")\n",
    "      return False\n",
    "\n",
    "  def set_preference(self, username, preference_key, preference_value):\n",
    "    index = self._find_slot(username)\n",
    "    if self.users[index] is not None:\n",
    "      if 'preferences' not in self.users[index]:\n",
    "        self.users[index]['preferences'] = {}\n",
    "      if preference_key in self.users[index]['preferences']:\n",
    "        self.users[index]['preferences'][preference_key].append(preference_value)\n",
    "      else:\n",
    "        self.users[index]['preferences'][preference_key] = [preference_value]\n",
    "      print(\"Preference set successfully!\")\n",
    "    else:\n",
    "      print(\"User not found. Please login again.\")\n",
    "\n",
    "  def get_preferences(self, username):\n",
    "    index = self._find_slot(username)\n",
    "    if self.users[index] is not None and 'preferences' in self.users[index]:\n",
    "      return self.users[index]['preferences']\n",
    "    else:\n",
    "      print(\"User not found or no preferences set.\")\n",
    "      return None\n",
    "\n",
    "  def input_credentials(self):\n",
    "    username = input(\"Enter your username: \")\n",
    "    password = input(\"Enter your password: \")\n",
    "    return username, password\n",
    "\n",
    "  def input_preferences(self):\n",
    "    favorite_genre = input(\"Enter your favorite genre: \")\n",
    "    favorite_author = input(\"Enter your favorite author: \")\n",
    "    favorite_book_type = input(\"Enter your favorite type of book: \")\n",
    "    return favorite_genre, favorite_author, favorite_book_type\n",
    "\n",
    "  def check_all_users(self):\n",
    "    if self.users:\n",
    "      print(\"List of all users:\")\n",
    "      for i in range(self.SIZE):\n",
    "        if self.users[i] is not None:\n",
    "          print(f\"Username: {self.users[i]['username']}, Password: {self.users[i]['password']}, Preferences: {self.users[i]['preferences']}\")\n",
    "    else:\n",
    "      print(\"No users registered yet.\")\n",
    "\n",
    "  def get_user_by_username(self, username):\n",
    "        index = self._find_slot(username)\n",
    "        if self.users[index] is not None and self.users[index]['username'] == username:\n",
    "            return self.users[index]\n",
    "        else:\n",
    "            return None"
   ]
  },
  {
   "cell_type": "markdown",
   "metadata": {},
   "source": [
    "- Registering users on the system:"
   ]
  },
  {
   "cell_type": "code",
   "execution_count": 5,
   "metadata": {},
   "outputs": [
    {
     "name": "stdout",
     "output_type": "stream",
     "text": [
      "Registration successful!\n",
      "Registration successful!\n",
      "Registration successful!\n",
      "Registration successful!\n"
     ]
    }
   ],
   "source": [
    "user_manager = UserManagement()\n",
    "\n",
    "user_manager.register_user('Sean', 'password123')\n",
    "user_manager.register_user('Saoirse', 'password789')\n",
    "user_manager.register_user('Finn', 'password456')\n",
    "user_manager.register_user('Aoife', 'password997')"
   ]
  },
  {
   "cell_type": "markdown",
   "metadata": {},
   "source": [
    "- Please input your registration information:"
   ]
  },
  {
   "cell_type": "code",
   "execution_count": 6,
   "metadata": {},
   "outputs": [
    {
     "name": "stdin",
     "output_type": "stream",
     "text": [
      "Enter your username:  Andressa\n",
      "Enter your password:  1234\n"
     ]
    },
    {
     "name": "stdout",
     "output_type": "stream",
     "text": [
      "Registration successful!\n"
     ]
    }
   ],
   "source": [
    "username, password = user_manager.input_credentials()\n",
    "\n",
    "user_manager.register_user(username, password)\n"
   ]
  },
  {
   "cell_type": "markdown",
   "metadata": {},
   "source": [
    "- Checking all users registered:"
   ]
  },
  {
   "cell_type": "code",
   "execution_count": 7,
   "metadata": {},
   "outputs": [
    {
     "name": "stdout",
     "output_type": "stream",
     "text": [
      "List of all users:\n",
      "Username: Aoife, Password: password997, Preferences: {}\n",
      "Username: Saoirse, Password: password789, Preferences: {}\n",
      "Username: Sean, Password: password123, Preferences: {}\n",
      "Username: Finn, Password: password456, Preferences: {}\n",
      "Username: Andressa, Password: 1234, Preferences: {}\n"
     ]
    }
   ],
   "source": [
    "user_manager.check_all_users()"
   ]
  },
  {
   "cell_type": "markdown",
   "metadata": {},
   "source": [
    "- Users setting preferences:"
   ]
  },
  {
   "cell_type": "markdown",
   "metadata": {},
   "source": [
    "- Sean:"
   ]
  },
  {
   "cell_type": "code",
   "execution_count": 8,
   "metadata": {},
   "outputs": [
    {
     "name": "stdout",
     "output_type": "stream",
     "text": [
      "Preference set successfully!\n",
      "Preference set successfully!\n",
      "Preference set successfully!\n",
      "Preference set successfully!\n",
      "Preference set successfully!\n"
     ]
    }
   ],
   "source": [
    "user_manager.set_preference('Sean', 'favorite_genre', 'Science Fiction')\n",
    "user_manager.set_preference('Sean', 'favorite_genre', 'Arts, Film & Photography')\n",
    "\n",
    "user_manager.set_preference('Sean', 'favorite_author', 'J.K. Rowling')\n",
    "user_manager.set_preference('Sean', 'favorite_author', 'Oscar Wilde')\n",
    "\n",
    "user_manager.set_preference('Sean', 'favorite_type', 'Paperback')"
   ]
  },
  {
   "cell_type": "markdown",
   "metadata": {},
   "source": [
    "- Saoirse:"
   ]
  },
  {
   "cell_type": "code",
   "execution_count": 9,
   "metadata": {},
   "outputs": [
    {
     "name": "stdout",
     "output_type": "stream",
     "text": [
      "Preference set successfully!\n",
      "Preference set successfully!\n",
      "Preference set successfully!\n",
      "Preference set successfully!\n",
      "Preference set successfully!\n"
     ]
    }
   ],
   "source": [
    "user_manager.set_preference('Saoirse', 'favorite_genre', 'Arts, Film & Photography')\n",
    "user_manager.set_preference('Saoirse', 'favorite_genre', 'Literature & Fiction')\n",
    "\n",
    "user_manager.set_preference('Saoirse', 'favorite_author', 'Oscar Wilde')\n",
    "user_manager.set_preference('Saoirse', 'favorite_author', 'Victoria Aveline')\n",
    "\n",
    "user_manager.set_preference('Saoirse', 'favorite_type', 'Kindle Edition')"
   ]
  },
  {
   "cell_type": "markdown",
   "metadata": {},
   "source": [
    "- Finn:"
   ]
  },
  {
   "cell_type": "code",
   "execution_count": 10,
   "metadata": {},
   "outputs": [
    {
     "name": "stdout",
     "output_type": "stream",
     "text": [
      "Preference set successfully!\n",
      "Preference set successfully!\n",
      "Preference set successfully!\n",
      "Preference set successfully!\n",
      "Preference set successfully!\n"
     ]
    }
   ],
   "source": [
    "user_manager.set_preference('Finn', 'favorite_genre', 'Travel')\n",
    "user_manager.set_preference('Finn', 'favorite_genre', 'Fantasy, Horror & Science Fiction')\n",
    "\n",
    "user_manager.set_preference('Finn', 'favorite_author', 'Aristotle')\n",
    "user_manager.set_preference('Finn', 'favorite_author', 'C.W. Farnsworth')\n",
    "\n",
    "user_manager.set_preference('Finn', 'favorite_type', 'Hardcover')"
   ]
  },
  {
   "cell_type": "markdown",
   "metadata": {},
   "source": [
    "- Aoife:"
   ]
  },
  {
   "cell_type": "code",
   "execution_count": 11,
   "metadata": {},
   "outputs": [
    {
     "name": "stdout",
     "output_type": "stream",
     "text": [
      "Preference set successfully!\n",
      "Preference set successfully!\n",
      "Preference set successfully!\n",
      "Preference set successfully!\n",
      "Preference set successfully!\n"
     ]
    }
   ],
   "source": [
    "user_manager.set_preference('Aoife', 'favorite_genre', 'Economics')\n",
    "user_manager.set_preference('Aoife', 'favorite_genre', 'Science & Mathematics')\n",
    "\n",
    "user_manager.set_preference('Aoife', 'favorite_author', 'Paramahansa Yogananda')\n",
    "user_manager.set_preference('Aoife', 'favorite_author', 'John Marrs')\n",
    "\n",
    "user_manager.set_preference('Aoife', 'favorite_type', 'Paperback')"
   ]
  },
  {
   "cell_type": "markdown",
   "metadata": {},
   "source": [
    "- Please insert your preferences:"
   ]
  },
  {
   "cell_type": "code",
   "execution_count": 12,
   "metadata": {},
   "outputs": [
    {
     "name": "stdin",
     "output_type": "stream",
     "text": [
      "Enter your username:  Andressa\n",
      "Enter your favorite genre:  Romance\n",
      "Enter your favorite author:  Oscar Wilde\n",
      "Enter your favorite type of book:  Paperback\n"
     ]
    },
    {
     "name": "stdout",
     "output_type": "stream",
     "text": [
      "Preference set successfully!\n",
      "Preference set successfully!\n",
      "Preference set successfully!\n"
     ]
    }
   ],
   "source": [
    "username = input(\"Enter your username: \").strip() \n",
    "\n",
    "user_info = user_manager.get_user_by_username(username)\n",
    "\n",
    "if user_info is not None:\n",
    "    \n",
    "    favorite_genre = input(\"Enter your favorite genre: \")\n",
    "    #Examples of genre in the dataset: [\"Romance\", \"Science & Mathematics\", \"Sports\", \"Fantasy\", \"Literature & Fiction\", \"Travel\", \"Fantasy, Horror & Science Fiction\"]\n",
    "\n",
    "    favorite_author = input(\"Enter your favorite author: \")\n",
    "    #In case the dataset doesn't include books from your favorite author, you can select one of those options (for testing purposes):\n",
    "    #[\"Zoey Draven\", \"John Marrs\", \"Victoria Aveline\", \"Ivy Barrett\", \"Talia Rhea\", \"Bella Matthews\", \"C.W. Farnsworth\", \"Franz Kafka\"]\n",
    "\n",
    "    favorite_book_type = input(\"Enter your favorite type of book: \")\n",
    "     #Examples of book type in the dataset: [\"Paperback\", \"Kindle Edition\", \"Hardcover\"]\n",
    "\n",
    "    \n",
    "    user_manager.set_preference(username, 'favorite_genre', favorite_genre)\n",
    "    user_manager.set_preference(username, 'favorite_author', favorite_author)\n",
    "    user_manager.set_preference(username, 'favorite_book_type', favorite_book_type)\n",
    "else:\n",
    "    print(\"User not found. Please register first.\")\n"
   ]
  },
  {
   "cell_type": "markdown",
   "metadata": {},
   "source": [
    "- Checking all users:"
   ]
  },
  {
   "cell_type": "code",
   "execution_count": 13,
   "metadata": {},
   "outputs": [
    {
     "name": "stdout",
     "output_type": "stream",
     "text": [
      "List of all users:\n",
      "Username: Aoife, Password: password997, Preferences: {'favorite_genre': ['Economics', 'Science & Mathematics'], 'favorite_author': ['Paramahansa Yogananda', 'John Marrs'], 'favorite_type': ['Paperback']}\n",
      "Username: Saoirse, Password: password789, Preferences: {'favorite_genre': ['Arts, Film & Photography', 'Literature & Fiction'], 'favorite_author': ['Oscar Wilde', 'Victoria Aveline'], 'favorite_type': ['Kindle Edition']}\n",
      "Username: Sean, Password: password123, Preferences: {'favorite_genre': ['Science Fiction', 'Arts, Film & Photography'], 'favorite_author': ['J.K. Rowling', 'Oscar Wilde'], 'favorite_type': ['Paperback']}\n",
      "Username: Finn, Password: password456, Preferences: {'favorite_genre': ['Travel', 'Fantasy, Horror & Science Fiction'], 'favorite_author': ['Aristotle', 'C.W. Farnsworth'], 'favorite_type': ['Hardcover']}\n",
      "Username: Andressa, Password: 1234, Preferences: {'favorite_genre': ['Romance'], 'favorite_author': ['Oscar Wilde'], 'favorite_book_type': ['Paperback']}\n"
     ]
    }
   ],
   "source": [
    "user_manager.check_all_users()"
   ]
  },
  {
   "cell_type": "markdown",
   "metadata": {},
   "source": [
    "GenreRecommender function:\n",
    "\n",
    "- init(self, user_manager, books_df): Initializes the GenreRecommender class with instances of UserManagement and a DataFrame containing book information;\n",
    "  \n",
    "- recommend_books(self, username): Recommends books to a user based on their favorite genre. Retrieves the user's favorite genre from their preferences, filters books in the DataFrame by this genre, and returns the top recommendations;\n",
    "  \n",
    "- filter_books_by_genre(self, favorite_genre): Filters the DataFrame of books by the given favorite genre(s);\n",
    "  \n",
    "- get_top_recommendations(self, filtered_books): Retrieves the top recommendations from the filtered books DataFrame based on ratings;\n",
    "  \n",
    "- get_user_info(self, username): Retrieves information about a user by their username from the UserManagement instance;\n",
    "\n",
    "- calculate_precision: Calculates the precision score for recommendations based on how many of the recommended books match the user's preferences. It compares the recommended titles to the user's positive interactions and computes the precision score using the precision_score function;\n",
    "\n",
    "- calculate_recall_completeness: Computes the recall completeness score for recommendations by counting how many of the expected recommendations are included in the actual recommendations. It divides this count by the total number of expected recommendations to determine the recall completeness score."
   ]
  },
  {
   "cell_type": "code",
   "execution_count": 14,
   "metadata": {},
   "outputs": [],
   "source": [
    "class GenreRecommender:\n",
    "    \n",
    "    def __init__(self, user_manager, books_df):\n",
    "        self.user_manager = user_manager\n",
    "        self.books_df = books_df\n",
    "\n",
    "    def recommend_books(self, username):\n",
    "        \n",
    "        user_info = self.user_manager.get_user_by_username(username)\n",
    "        if user_info:\n",
    "            if self.user_manager.login_user(username, user_info['password']):\n",
    "                favorite_genres = user_info['preferences'].get('favorite_genre')\n",
    "                if favorite_genres:\n",
    "                    if isinstance(favorite_genres, str):\n",
    "                        favorite_genres = [favorite_genres]  \n",
    "                    \n",
    "                    recommendations = pd.DataFrame() \n",
    "                    \n",
    "                    for genre in favorite_genres:\n",
    "                        filtered_books = self.filter_books_by_genre(genre)\n",
    "                        recommendations = pd.concat([recommendations, self.get_top_recommendations(filtered_books)])\n",
    "                    \n",
    "                    recommendations = recommendations.drop_duplicates()\n",
    "                    \n",
    "                    print(f\"Here are some recommendations for {username} based on favorite genres: {', '.join(favorite_genres)}:\")\n",
    "                    return recommendations\n",
    "                else:\n",
    "                    print(f\"{username} doesn't have any favorite genres set in preferences.\")\n",
    "                    return pd.DataFrame() \n",
    "            else:\n",
    "                print(\"Invalid username or password. Please try again.\")\n",
    "                return pd.DataFrame() \n",
    "        else:\n",
    "            print(f\"User {username} not found.\")\n",
    "            return pd.DataFrame() \n",
    "\n",
    "    def filter_books_by_genre(self, favorite_genre):\n",
    "        if isinstance(favorite_genre, list):\n",
    "            favorite_genre = \", \".join(favorite_genre)\n",
    "        if self.books_df['Main Genre'].dtype != object:\n",
    "            self.books_df['Main Genre'] = self.books_df['Main Genre'].astype(str)\n",
    "        return self.books_df[self.books_df['Main Genre'].str.contains(favorite_genre, case=False)]\n",
    "\n",
    "    def get_top_recommendations(self, filtered_books):\n",
    "        selected_columns = ['Title', 'Author', 'Price_EUR', 'Rating', 'URLs']\n",
    "        # Sorting by rating using quicksort algorithm\n",
    "        sorted_books = filtered_books.sort_values(by='Rating', ascending=False, kind='quicksort')[selected_columns]\n",
    "        recommendation_count = 3\n",
    "        return sorted_books.head(recommendation_count)\n",
    "\n",
    "    def get_user_info(self, username):\n",
    "        \n",
    "        user_info = self.user_manager.get_user_by_username(username)\n",
    "        return user_info\n",
    "\n",
    "    def calculate_precision(self, recommendations, user_info):\n",
    "        \n",
    "        recommended_titles = recommendations['Title'].tolist()\n",
    "    \n",
    "        # Getting the list of books the user has interacted with positively (based on their preferences)\n",
    "        positive_interactions = []\n",
    "        for key in ['favorite_genre', 'favorite_author', 'favorite_type']:\n",
    "            if key in user_info['preferences']:\n",
    "                positive_interactions.extend(user_info['preferences'][key])\n",
    "        \n",
    "        # If there are no positive interactions, return a default precision of 0.0\n",
    "        if not positive_interactions:\n",
    "            return 0.0\n",
    "       \n",
    "        recommended_titles = recommended_titles[:len(positive_interactions)]\n",
    "    \n",
    "        precision = precision_score(y_true=positive_interactions, y_pred=recommended_titles, average='micro')\n",
    "        return precision\n",
    "\n",
    "    def calculate_recall_completeness(self, recommendations, expected_recommendations):\n",
    "        \n",
    "        recommended_titles = recommendations['Title'].tolist()\n",
    "    \n",
    "        # Counting how many of the expected recommendations are included in the actual recommendations\n",
    "        included_recommendations = sum(1 for title in expected_recommendations if title in recommended_titles)\n",
    "    \n",
    "        recall_completeness = included_recommendations / len(expected_recommendations) if expected_recommendations else 0.0\n",
    "        return recall_completeness"
   ]
  },
  {
   "cell_type": "markdown",
   "metadata": {},
   "source": [
    "- Retrieving personalised book recommendations for registered users based on their favorite genre:"
   ]
  },
  {
   "cell_type": "code",
   "execution_count": 15,
   "metadata": {},
   "outputs": [
    {
     "name": "stdout",
     "output_type": "stream",
     "text": [
      "Login successful!\n",
      "Here are some recommendations for Saoirse based on favorite genres: Arts, Film & Photography, Literature & Fiction:\n"
     ]
    },
    {
     "data": {
      "text/html": [
       "<style type=\"text/css\">\n",
       "</style>\n",
       "<table id=\"T_974c6\">\n",
       "  <thead>\n",
       "    <tr>\n",
       "      <th class=\"blank level0\" >&nbsp;</th>\n",
       "      <th id=\"T_974c6_level0_col0\" class=\"col_heading level0 col0\" >Title</th>\n",
       "      <th id=\"T_974c6_level0_col1\" class=\"col_heading level0 col1\" >Author</th>\n",
       "      <th id=\"T_974c6_level0_col2\" class=\"col_heading level0 col2\" >Price_EUR</th>\n",
       "      <th id=\"T_974c6_level0_col3\" class=\"col_heading level0 col3\" >Rating</th>\n",
       "      <th id=\"T_974c6_level0_col4\" class=\"col_heading level0 col4\" >URLs</th>\n",
       "    </tr>\n",
       "  </thead>\n",
       "  <tbody>\n",
       "    <tr>\n",
       "      <th id=\"T_974c6_level0_row0\" class=\"row_heading level0 row0\" >132</th>\n",
       "      <td id=\"T_974c6_row0_col0\" class=\"data row0 col0\" >Funny Jokes for 15 Year Old Teens: The Ultimate Q&A, One-Liner, Dad, Knock-Knock, Riddle, and Tongue Twister Collection! Hilarious and Silly Humor for Teenagers</td>\n",
       "      <td id=\"T_974c6_row0_col1\" class=\"data row0 col1\" >Cooper The Pooper</td>\n",
       "      <td id=\"T_974c6_row0_col2\" class=\"data row0 col2\" >1.850000</td>\n",
       "      <td id=\"T_974c6_row0_col3\" class=\"data row0 col3\" >5.000000</td>\n",
       "      <td id=\"T_974c6_row0_col4\" class=\"data row0 col4\" >https://www.amazon.in/Funny-Jokes-Year-Old-Teens-ebook/dp/B0CVFKC999/ref=zg_bs_g_1318063031_d_sccl_3/000-0000000-0000000?psc=1</td>\n",
       "    </tr>\n",
       "    <tr>\n",
       "      <th id=\"T_974c6_level0_row1\" class=\"row_heading level0 row1\" >135</th>\n",
       "      <td id=\"T_974c6_row1_col0\" class=\"data row1 col0\" >अभिनेता जीवन-एक संघर्ष: Evaluate yourself before you enter in the industry! (Hindi Edition)</td>\n",
       "      <td id=\"T_974c6_row1_col1\" class=\"data row1 col1\" >Pankaj Gupta</td>\n",
       "      <td id=\"T_974c6_row1_col2\" class=\"data row1 col2\" >1.110000</td>\n",
       "      <td id=\"T_974c6_row1_col3\" class=\"data row1 col3\" >5.000000</td>\n",
       "      <td id=\"T_974c6_row1_col4\" class=\"data row1 col4\" >https://www.amazon.in/%E0%A4%85%E0%A4%AD%E0%A4%BF%E0%A4%A8%E0%A5%87%E0%A4%A4%E0%A4%BE-%E0%A4%9C%E0%A5%80%E0%A4%B5%E0%A4%A8-%E0%A4%8F%E0%A4%95-%E0%A4%B8%E0%A4%82%E0%A4%98%E0%A4%B0%E0%A5%8D%E0%A4%B7-aspiring-actors-ebook/dp/B092TB1XJ4/ref=zg_bs_g_1318063031_d_sccl_6/000-0000000-0000000?psc=1</td>\n",
       "    </tr>\n",
       "    <tr>\n",
       "      <th id=\"T_974c6_level0_row2\" class=\"row_heading level0 row2\" >120</th>\n",
       "      <td id=\"T_974c6_row2_col0\" class=\"data row2 col0\" >அசுரனின் காதல் (Tamil Edition)</td>\n",
       "      <td id=\"T_974c6_row2_col1\" class=\"data row2 col1\" >Ebin Rider</td>\n",
       "      <td id=\"T_974c6_row2_col2\" class=\"data row2 col2\" >4.470000</td>\n",
       "      <td id=\"T_974c6_row2_col3\" class=\"data row2 col3\" >5.000000</td>\n",
       "      <td id=\"T_974c6_row2_col4\" class=\"data row2 col4\" >https://www.amazon.in/%E0%AE%85%E0%AE%9A%E0%AF%81%E0%AE%B0%E0%AE%A9%E0%AE%BF%E0%AE%A9%E0%AF%8D-%E0%AE%95%E0%AE%BE%E0%AE%A4%E0%AE%B2%E0%AF%8D-Tamil-Ebin-Rider-ebook/dp/B0CTFRN16B/ref=zg_bs_g_1318063031_d_sccl_21/000-0000000-0000000?psc=1</td>\n",
       "    </tr>\n",
       "    <tr>\n",
       "      <th id=\"T_974c6_level0_row3\" class=\"row_heading level0 row3\" >3646</th>\n",
       "      <td id=\"T_974c6_row3_col0\" class=\"data row3 col0\" >INTERFAITH - 2</td>\n",
       "      <td id=\"T_974c6_row3_col1\" class=\"data row3 col1\" >VIDHYA SOOD</td>\n",
       "      <td id=\"T_974c6_row3_col2\" class=\"data row3 col2\" >5.020000</td>\n",
       "      <td id=\"T_974c6_row3_col3\" class=\"data row3 col3\" >5.000000</td>\n",
       "      <td id=\"T_974c6_row3_col4\" class=\"data row3 col4\" >https://www.amazon.in/INTERFAITH-2-VIDHYA-SOOD-ebook/dp/B0CPD6XBRD/ref=zg_bs_g_1318161031_d_sccl_17/000-0000000-0000000?psc=1</td>\n",
       "    </tr>\n",
       "    <tr>\n",
       "      <th id=\"T_974c6_level0_row4\" class=\"row_heading level0 row4\" >3891</th>\n",
       "      <td id=\"T_974c6_row4_col0\" class=\"data row4 col0\" >Musings of the Uninitiated</td>\n",
       "      <td id=\"T_974c6_row4_col1\" class=\"data row4 col1\" >Aimi Hodiwala Rale</td>\n",
       "      <td id=\"T_974c6_row4_col2\" class=\"data row4 col2\" >1.680000</td>\n",
       "      <td id=\"T_974c6_row4_col3\" class=\"data row4 col3\" >5.000000</td>\n",
       "      <td id=\"T_974c6_row4_col4\" class=\"data row4 col4\" >https://www.amazon.in/Musings-Uninitiated-Aimi-Hodiwala-Rale/dp/9358319658/ref=zg_bs_g_1318175031_d_sccl_12/000-0000000-0000000?psc=1</td>\n",
       "    </tr>\n",
       "    <tr>\n",
       "      <th id=\"T_974c6_level0_row5\" class=\"row_heading level0 row5\" >3869</th>\n",
       "      <td id=\"T_974c6_row5_col0\" class=\"data row5 col0\" >Faaslay: A collection of nazms</td>\n",
       "      <td id=\"T_974c6_row5_col1\" class=\"data row5 col1\" >Tauseef Ali</td>\n",
       "      <td id=\"T_974c6_row5_col2\" class=\"data row5 col2\" >2.680000</td>\n",
       "      <td id=\"T_974c6_row5_col3\" class=\"data row5 col3\" >5.000000</td>\n",
       "      <td id=\"T_974c6_row5_col4\" class=\"data row5 col4\" >https://www.amazon.in/Faaslay-collection-nazms-Tauseef-Ali/dp/B0CVQDMP68/ref=zg_bs_g_1318175031_d_sccl_20/000-0000000-0000000?psc=1</td>\n",
       "    </tr>\n",
       "  </tbody>\n",
       "</table>\n"
      ],
      "text/plain": [
       "<pandas.io.formats.style.Styler at 0x11b9e1a10>"
      ]
     },
     "execution_count": 15,
     "metadata": {},
     "output_type": "execute_result"
    }
   ],
   "source": [
    "genre_recommender = GenreRecommender(user_manager, books_df)\n",
    "\n",
    "recommendations = genre_recommender.recommend_books('Saoirse')\n",
    "styled_recommendations = recommendations.style\n",
    "styled_recommendations"
   ]
  },
  {
   "cell_type": "code",
   "execution_count": 16,
   "metadata": {},
   "outputs": [
    {
     "name": "stdin",
     "output_type": "stream",
     "text": [
      "Enter your username:  Andressa\n"
     ]
    },
    {
     "name": "stdout",
     "output_type": "stream",
     "text": [
      "Login successful!\n",
      "Here are some recommendations for Andressa based on favorite genres: Romance:\n"
     ]
    },
    {
     "data": {
      "text/html": [
       "<style type=\"text/css\">\n",
       "</style>\n",
       "<table id=\"T_bb4c8\">\n",
       "  <thead>\n",
       "    <tr>\n",
       "      <th class=\"blank level0\" >&nbsp;</th>\n",
       "      <th id=\"T_bb4c8_level0_col0\" class=\"col_heading level0 col0\" >Title</th>\n",
       "      <th id=\"T_bb4c8_level0_col1\" class=\"col_heading level0 col1\" >Author</th>\n",
       "      <th id=\"T_bb4c8_level0_col2\" class=\"col_heading level0 col2\" >Price_EUR</th>\n",
       "      <th id=\"T_bb4c8_level0_col3\" class=\"col_heading level0 col3\" >Rating</th>\n",
       "      <th id=\"T_bb4c8_level0_col4\" class=\"col_heading level0 col4\" >URLs</th>\n",
       "    </tr>\n",
       "  </thead>\n",
       "  <tbody>\n",
       "    <tr>\n",
       "      <th id=\"T_bb4c8_level0_row0\" class=\"row_heading level0 row0\" >5151</th>\n",
       "      <td id=\"T_bb4c8_row0_col0\" class=\"data row0 col0\" >Swappana Sparisangal: ஸ்வப்பன ஸ்பரிசங்கள் (Tamil Edition)</td>\n",
       "      <td id=\"T_bb4c8_row0_col1\" class=\"data row0 col1\" >Saranya Hema</td>\n",
       "      <td id=\"T_bb4c8_row0_col2\" class=\"data row0 col2\" >6.490000</td>\n",
       "      <td id=\"T_bb4c8_row0_col3\" class=\"data row0 col3\" >5.000000</td>\n",
       "      <td id=\"T_bb4c8_row0_col4\" class=\"data row0 col4\" >https://www.amazon.in/Swappana-Sparisangal-%E0%AE%B8%E0%AF%8D%E0%AE%B5%E0%AE%AA%E0%AF%8D%E0%AE%AA%E0%AE%A9-%E0%AE%B8%E0%AF%8D%E0%AE%AA%E0%AE%B0%E0%AE%BF%E0%AE%9A%E0%AE%99%E0%AF%8D%E0%AE%95%E0%AE%B3%E0%AF%8D-Tamil-ebook/dp/B0CVRDH2XB/ref=zg_bs_g_2590357031_d_sccl_5/000-0000000-0000000?psc=1</td>\n",
       "    </tr>\n",
       "    <tr>\n",
       "      <th id=\"T_bb4c8_level0_row1\" class=\"row_heading level0 row1\" >4868</th>\n",
       "      <td id=\"T_bb4c8_row1_col0\" class=\"data row1 col0\" >புல்லாங்குழல் பூவையே (Tamil Edition)</td>\n",
       "      <td id=\"T_bb4c8_row1_col1\" class=\"data row1 col1\" >தேன் நிலா  J</td>\n",
       "      <td id=\"T_bb4c8_row1_col2\" class=\"data row1 col2\" >2.800000</td>\n",
       "      <td id=\"T_bb4c8_row1_col3\" class=\"data row1 col3\" >5.000000</td>\n",
       "      <td id=\"T_bb4c8_row1_col4\" class=\"data row1 col4\" >https://www.amazon.in/%E0%AE%AA%E0%AF%81%E0%AE%B2%E0%AF%8D%E0%AE%B2%E0%AE%BE%E0%AE%99%E0%AF%8D%E0%AE%95%E0%AF%81%E0%AE%B4%E0%AE%B2%E0%AF%8D-%E0%AE%AA%E0%AF%82%E0%AE%B5%E0%AF%88%E0%AE%AF%E0%AF%87-Tamil-%E0%AE%A4%E0%AF%87%E0%AE%A9%E0%AF%8D-%E0%AE%A8%E0%AE%BF%E0%AE%B2%E0%AE%BE-ebook/dp/B0CTKT1J25/ref=zg_bs_g_86208349031_d_sccl_19/000-0000000-0000000?psc=1</td>\n",
       "    </tr>\n",
       "    <tr>\n",
       "      <th id=\"T_bb4c8_level0_row2\" class=\"row_heading level0 row2\" >5674</th>\n",
       "      <td id=\"T_bb4c8_row2_col0\" class=\"data row2 col0\" >உள்ளம் கொண்டது ஓர் மயக்கம் (Tamil Edition)</td>\n",
       "      <td id=\"T_bb4c8_row2_col1\" class=\"data row2 col1\" >Ruthi Venkat</td>\n",
       "      <td id=\"T_bb4c8_row2_col2\" class=\"data row2 col2\" >4.930000</td>\n",
       "      <td id=\"T_bb4c8_row2_col3\" class=\"data row2 col3\" >5.000000</td>\n",
       "      <td id=\"T_bb4c8_row2_col4\" class=\"data row2 col4\" >https://www.amazon.in/%E0%AE%89%E0%AE%B3%E0%AF%8D%E0%AE%B3%E0%AE%AE%E0%AF%8D-%E0%AE%95%E0%AF%8A%E0%AE%A3%E0%AF%8D%E0%AE%9F%E0%AE%A4%E0%AF%81-%E0%AE%93%E0%AE%B0%E0%AF%8D-%E0%AE%AE%E0%AE%AF%E0%AE%95%E0%AF%8D%E0%AE%95%E0%AE%AE%E0%AF%8D-Tamil-ebook/dp/B0CVLKRKLF/ref=zg_bs_g_2590360031_d_sccl_1/000-0000000-0000000?psc=1</td>\n",
       "    </tr>\n",
       "  </tbody>\n",
       "</table>\n"
      ],
      "text/plain": [
       "<pandas.io.formats.style.Styler at 0x128043010>"
      ]
     },
     "execution_count": 16,
     "metadata": {},
     "output_type": "execute_result"
    }
   ],
   "source": [
    "genre_recommender = GenreRecommender(user_manager, books_df)\n",
    "\n",
    "username = input(\"Enter your username: \").strip()\n",
    "\n",
    "user_info = genre_recommender.recommend_books(username)\n",
    "\n",
    "styled_recommendations = user_info.style\n",
    "\n",
    "styled_recommendations"
   ]
  },
  {
   "cell_type": "markdown",
   "metadata": {},
   "source": [
    "BooksByAuthor function:\n",
    "\n",
    "- get_books_by_favorite_authors(): This function recommends books based on a user's favorite authors. It takes the username, user manager instance, a DataFrame containing book information, and optional desired columns as input. It first retrieves the user information using the provided username and checks if the user exists and has preferences set. Then, it retrieves the user's favorite authors from the preferences. For each favorite author, it filters the books DataFrame to select only the books authored by that author. If books are found, they are sorted by rating in descending order, and only the top 3 books per author are selected. Finally, it concatenates the recommended books into a single DataFrame and returns it, or returns an empty DataFrame if no books are found;\n",
    "\n",
    "- calculate_precision: Calculates the precision score for recommendations based on how many of the recommended books match the user's preferences. It counts the relevant recommendations and divides them by the total number of recommended titles to determine the precision score;\n",
    "\n",
    "- calculate_recall_completeness: Computes the recall completeness score for recommendations, indicating how many of the user's positive interactions are captured by the recommended books. It counts the relevant recommendations and divides them by the total number of positive interactions to determine the recall completeness score."
   ]
  },
  {
   "cell_type": "code",
   "execution_count": 19,
   "metadata": {},
   "outputs": [],
   "source": [
    "class BooksByFavoriteAuthor:\n",
    "  \n",
    "    def GetBooksByFavoriteAuthors(username, user_manager, books_df, desired_columns=['Title', 'Author', 'Rating', 'Price_EUR', 'URLs']):\n",
    "        \n",
    "        user_info = user_manager.get_user_by_username(username)\n",
    "\n",
    "        if user_info is None:\n",
    "            print(\"User not found.\")\n",
    "            return pd.DataFrame()\n",
    "\n",
    "        if 'preferences' not in user_info:\n",
    "            print(f\"User '{username}' has no preferences set.\")\n",
    "            return pd.DataFrame()\n",
    "\n",
    "        favorite_authors = user_info['preferences'].get('favorite_author', [])\n",
    "\n",
    "        if not favorite_authors:\n",
    "            print(f\"User '{username}' has no favorite authors set.\")\n",
    "            return pd.DataFrame()\n",
    "\n",
    "        recommended_books = []\n",
    "\n",
    "        for author in favorite_authors:\n",
    "            if author in books_df['Author'].unique():\n",
    "                author_books = books_df[books_df['Author'] == author]\n",
    "                if not author_books.empty:\n",
    "                    \n",
    "                    sorted_books = author_books.sort_values(by='Rating', ascending=False)\n",
    "                    \n",
    "                    top_3_books = sorted_books.head(3)[desired_columns]\n",
    "                    recommended_books.append(top_3_books)\n",
    "                else:\n",
    "                    print(f\"No books found for author {author}.\")\n",
    "            else:\n",
    "                print(f\"Invalid author name: {author}\")\n",
    "\n",
    "        if recommended_books:\n",
    "            \n",
    "            df = pd.concat(recommended_books)\n",
    "            \n",
    "            print(f\"Here are some recommendations for {username} based on favorite author: {', '.join(favorite_authors)}\")\n",
    "            return df\n",
    "        else:\n",
    "            print(\"No books found matching the criteria.\")\n",
    "            return pd.DataFrame()\n",
    "\n",
    "    def get_user_info(self, username):\n",
    "            \n",
    "            user_info = self.user_manager.get_user_by_username(username)\n",
    "            return user_info\n",
    "\n",
    "    def calculate_precision(recommendations, user_info):\n",
    "        # Getting the list of recommended books\n",
    "        recommended_titles = recommendations['Title'].tolist()\n",
    "        \n",
    "        # Getting the list of books the user has interacted with positively (based on their preferences)\n",
    "        positive_interactions = []\n",
    "        for key in ['favorite_genre', 'favorite_author', 'favorite_type']:\n",
    "            if key in user_info.get('preferences', {}):\n",
    "                positive_interactions.extend(user_info['preferences'][key])\n",
    "        \n",
    "        # If there are no positive interactions, return a default precision of 0.0\n",
    "        if not positive_interactions:\n",
    "            return 0.0\n",
    "        \n",
    "        # Calculating precision score\n",
    "        precision = 0.0\n",
    "        if recommended_titles:\n",
    "            relevant_recommendations = [title for title in recommended_titles if title in positive_interactions]\n",
    "            precision = len(relevant_recommendations) / len(recommended_titles)\n",
    "        \n",
    "        return precision\n",
    "        \n",
    "    def calculate_recall_completeness(recommendations, user_info):\n",
    "        # Get the list of recommended books\n",
    "        recommended_titles = recommendations['Title'].tolist()\n",
    "        \n",
    "        # Getting the list of books the user has interacted with positively (based on their preferences)\n",
    "        positive_interactions = []\n",
    "        for key in ['favorite_genre', 'favorite_author', 'favorite_type']:\n",
    "            if key in user_info.get('preferences', {}):\n",
    "                positive_interactions.extend(user_info['preferences'][key])\n",
    "        \n",
    "        # If there are no positive interactions, return a default recall completeness of 0.0\n",
    "        if not positive_interactions:\n",
    "            return 0.0\n",
    "        \n",
    "        # Calculating recall completeness score\n",
    "        recall_completeness = 0.0\n",
    "        if positive_interactions:\n",
    "            relevant_recommendations = [title for title in recommended_titles if title in positive_interactions]\n",
    "            recall_completeness = len(relevant_recommendations) / len(positive_interactions)\n",
    "        \n",
    "        return recall_completeness\n"
   ]
  },
  {
   "cell_type": "markdown",
   "metadata": {},
   "source": [
    "- Retrieving personalised book recommendations for registered users based on their favorite authors:"
   ]
  },
  {
   "cell_type": "code",
   "execution_count": 20,
   "metadata": {},
   "outputs": [
    {
     "name": "stdout",
     "output_type": "stream",
     "text": [
      "Here are some recommendations for Aoife based on favorite author: Paramahansa Yogananda, John Marrs\n"
     ]
    },
    {
     "data": {
      "text/html": [
       "<style type=\"text/css\">\n",
       "</style>\n",
       "<table id=\"T_4e94f\">\n",
       "  <thead>\n",
       "    <tr>\n",
       "      <th class=\"blank level0\" >&nbsp;</th>\n",
       "      <th id=\"T_4e94f_level0_col0\" class=\"col_heading level0 col0\" >Title</th>\n",
       "      <th id=\"T_4e94f_level0_col1\" class=\"col_heading level0 col1\" >Author</th>\n",
       "      <th id=\"T_4e94f_level0_col2\" class=\"col_heading level0 col2\" >Rating</th>\n",
       "      <th id=\"T_4e94f_level0_col3\" class=\"col_heading level0 col3\" >Price_EUR</th>\n",
       "      <th id=\"T_4e94f_level0_col4\" class=\"col_heading level0 col4\" >URLs</th>\n",
       "    </tr>\n",
       "  </thead>\n",
       "  <tbody>\n",
       "    <tr>\n",
       "      <th id=\"T_4e94f_level0_row0\" class=\"row_heading level0 row0\" >3426</th>\n",
       "      <td id=\"T_4e94f_row0_col0\" class=\"data row0 col0\" >Autobiography Of A Yogi (Complete Edition)</td>\n",
       "      <td id=\"T_4e94f_row0_col1\" class=\"data row0 col1\" >Paramahansa Yogananda</td>\n",
       "      <td id=\"T_4e94f_row0_col2\" class=\"data row0 col2\" >4.700000</td>\n",
       "      <td id=\"T_4e94f_row0_col3\" class=\"data row0 col3\" >2.440000</td>\n",
       "      <td id=\"T_4e94f_row0_col4\" class=\"data row0 col4\" >https://www.amazon.in/Autobiography-Yogi-Complete-Paramahansa-Yogananda/dp/8190256203/ref=zg_bs_g_1318065031_d_sccl_27/000-0000000-0000000?psc=1</td>\n",
       "    </tr>\n",
       "    <tr>\n",
       "      <th id=\"T_4e94f_level0_row1\" class=\"row_heading level0 row1\" >4843</th>\n",
       "      <td id=\"T_4e94f_row1_col0\" class=\"data row1 col0\" >Autobiography of A Yogi Tamil</td>\n",
       "      <td id=\"T_4e94f_row1_col1\" class=\"data row1 col1\" >Paramahansa Yogananda</td>\n",
       "      <td id=\"T_4e94f_row1_col2\" class=\"data row1 col2\" >4.700000</td>\n",
       "      <td id=\"T_4e94f_row1_col3\" class=\"data row1 col3\" >2.360000</td>\n",
       "      <td id=\"T_4e94f_row1_col4\" class=\"data row1 col4\" >https://www.amazon.in/Autobiography-Yogi-Paramahansa-Yogananda/dp/8194898854/ref=zg_bs_g_10533823031_d_sccl_14/000-0000000-0000000?psc=1</td>\n",
       "    </tr>\n",
       "    <tr>\n",
       "      <th id=\"T_4e94f_level0_row2\" class=\"row_heading level0 row2\" >226</th>\n",
       "      <td id=\"T_4e94f_row2_col0\" class=\"data row2 col0\" >Autobiography Of A Yogi (Complete Edition)</td>\n",
       "      <td id=\"T_4e94f_row2_col1\" class=\"data row2 col1\" >Paramahansa Yogananda</td>\n",
       "      <td id=\"T_4e94f_row2_col2\" class=\"data row2 col2\" >4.700000</td>\n",
       "      <td id=\"T_4e94f_row2_col3\" class=\"data row2 col3\" >2.440000</td>\n",
       "      <td id=\"T_4e94f_row2_col4\" class=\"data row2 col4\" >https://www.amazon.in/Autobiography-Yogi-Complete-Paramahansa-Yogananda/dp/8190256203/ref=zg_bs_g_1318065031_d_sccl_27/000-0000000-0000000?psc=1</td>\n",
       "    </tr>\n",
       "    <tr>\n",
       "      <th id=\"T_4e94f_level0_row3\" class=\"row_heading level0 row3\" >5765</th>\n",
       "      <td id=\"T_4e94f_row3_col0\" class=\"data row3 col0\" >One, The: Now a major Netflix series!</td>\n",
       "      <td id=\"T_4e94f_row3_col1\" class=\"data row3 col1\" >John Marrs</td>\n",
       "      <td id=\"T_4e94f_row3_col2\" class=\"data row3 col2\" >4.300000</td>\n",
       "      <td id=\"T_4e94f_row3_col3\" class=\"data row3 col3\" >3.100000</td>\n",
       "      <td id=\"T_4e94f_row3_col4\" class=\"data row3 col4\" >https://www.amazon.in/One-John-Marrs/dp/1785035622/ref=zg_bs_g_89265412031_d_sccl_12/000-0000000-0000000?psc=1</td>\n",
       "    </tr>\n",
       "  </tbody>\n",
       "</table>\n"
      ],
      "text/plain": [
       "<pandas.io.formats.style.Styler at 0x127e4e010>"
      ]
     },
     "execution_count": 20,
     "metadata": {},
     "output_type": "execute_result"
    }
   ],
   "source": [
    "recommendations = BooksByFavoriteAuthor.GetBooksByFavoriteAuthors('Aoife', user_manager, books_df)\n",
    "styled_recommended_books_by_author = recommendations.style\n",
    "styled_recommended_books_by_author\n"
   ]
  },
  {
   "cell_type": "code",
   "execution_count": 21,
   "metadata": {},
   "outputs": [
    {
     "name": "stdin",
     "output_type": "stream",
     "text": [
      "Enter your username:  Finn\n"
     ]
    },
    {
     "name": "stdout",
     "output_type": "stream",
     "text": [
      "Here are some recommendations for Finn based on favorite author: Aristotle, C.W. Farnsworth\n"
     ]
    },
    {
     "data": {
      "text/html": [
       "<style type=\"text/css\">\n",
       "</style>\n",
       "<table id=\"T_418e4\">\n",
       "  <thead>\n",
       "    <tr>\n",
       "      <th class=\"blank level0\" >&nbsp;</th>\n",
       "      <th id=\"T_418e4_level0_col0\" class=\"col_heading level0 col0\" >Title</th>\n",
       "      <th id=\"T_418e4_level0_col1\" class=\"col_heading level0 col1\" >Author</th>\n",
       "      <th id=\"T_418e4_level0_col2\" class=\"col_heading level0 col2\" >Rating</th>\n",
       "      <th id=\"T_418e4_level0_col3\" class=\"col_heading level0 col3\" >Price_EUR</th>\n",
       "      <th id=\"T_418e4_level0_col4\" class=\"col_heading level0 col4\" >URLs</th>\n",
       "    </tr>\n",
       "  </thead>\n",
       "  <tbody>\n",
       "    <tr>\n",
       "      <th id=\"T_418e4_level0_row0\" class=\"row_heading level0 row0\" >111</th>\n",
       "      <td id=\"T_418e4_row0_col0\" class=\"data row0 col0\" >Poetics (Penguin Classics)</td>\n",
       "      <td id=\"T_418e4_row0_col1\" class=\"data row0 col1\" >Aristotle</td>\n",
       "      <td id=\"T_418e4_row0_col2\" class=\"data row0 col2\" >4.500000</td>\n",
       "      <td id=\"T_418e4_row0_col3\" class=\"data row0 col3\" >2.300000</td>\n",
       "      <td id=\"T_418e4_row0_col4\" class=\"data row0 col4\" >https://www.amazon.in/Poetics-Penguin-Classics-Aristotle/dp/0140446362/ref=zg_bs_g_1318063031_d_sccl_12/000-0000000-0000000?psc=1</td>\n",
       "    </tr>\n",
       "    <tr>\n",
       "      <th id=\"T_418e4_level0_row1\" class=\"row_heading level0 row1\" >3389</th>\n",
       "      <td id=\"T_418e4_row1_col0\" class=\"data row1 col0\" >Politics</td>\n",
       "      <td id=\"T_418e4_row1_col1\" class=\"data row1 col1\" >Aristotle</td>\n",
       "      <td id=\"T_418e4_row1_col2\" class=\"data row1 col2\" >4.500000</td>\n",
       "      <td id=\"T_418e4_row1_col3\" class=\"data row1 col3\" >0.420000</td>\n",
       "      <td id=\"T_418e4_row1_col4\" class=\"data row1 col4\" >https://www.amazon.in/Politics-Aristotle-ebook/dp/B07W79T3SB/ref=zg_bs_g_4149495031_d_sccl_10/000-0000000-0000000?psc=1</td>\n",
       "    </tr>\n",
       "    <tr>\n",
       "      <th id=\"T_418e4_level0_row2\" class=\"row_heading level0 row2\" >3584</th>\n",
       "      <td id=\"T_418e4_row2_col0\" class=\"data row2 col0\" >The Politics</td>\n",
       "      <td id=\"T_418e4_row2_col1\" class=\"data row2 col1\" >Aristotle</td>\n",
       "      <td id=\"T_418e4_row2_col2\" class=\"data row2 col2\" >4.500000</td>\n",
       "      <td id=\"T_418e4_row2_col3\" class=\"data row2 col3\" >1.220000</td>\n",
       "      <td id=\"T_418e4_row2_col4\" class=\"data row2 col4\" >https://www.amazon.in/Politics-Aristotle/dp/9389931266/ref=zg_bs_g_1318159031_d_sccl_5/000-0000000-0000000?psc=1</td>\n",
       "    </tr>\n",
       "    <tr>\n",
       "      <th id=\"T_418e4_level0_row3\" class=\"row_heading level0 row3\" >1817</th>\n",
       "      <td id=\"T_418e4_row3_col0\" class=\"data row3 col0\" >Kiss Now, Lie Later (Rival Love Book 1)</td>\n",
       "      <td id=\"T_418e4_row3_col1\" class=\"data row3 col1\" >C.W. Farnsworth</td>\n",
       "      <td id=\"T_418e4_row3_col2\" class=\"data row3 col2\" >4.400000</td>\n",
       "      <td id=\"T_418e4_row3_col3\" class=\"data row3 col3\" >3.680000</td>\n",
       "      <td id=\"T_418e4_row3_col4\" class=\"data row3 col4\" >https://www.amazon.in/Kiss-Now-Later-C-W-Farnsworth-ebook/dp/B08N5W7JMZ/ref=zg_bs_g_1318103031_d_sccl_18/000-0000000-0000000?psc=1</td>\n",
       "    </tr>\n",
       "    <tr>\n",
       "      <th id=\"T_418e4_level0_row4\" class=\"row_heading level0 row4\" >5833</th>\n",
       "      <td id=\"T_418e4_row4_col0\" class=\"data row4 col0\" >Against All Odds (Holt Hockey Book 2)</td>\n",
       "      <td id=\"T_418e4_row4_col1\" class=\"data row4 col1\" >C.W. Farnsworth</td>\n",
       "      <td id=\"T_418e4_row4_col2\" class=\"data row4 col2\" >4.300000</td>\n",
       "      <td id=\"T_418e4_row4_col3\" class=\"data row4 col3\" >4.640000</td>\n",
       "      <td id=\"T_418e4_row4_col4\" class=\"data row4 col4\" >https://www.amazon.in/Against-Odds-Holt-Hockey-Book-ebook/dp/B0CRMF8Z6Z/ref=zg_bs_g_89265407031_d_sccl_10/000-0000000-0000000?psc=1</td>\n",
       "    </tr>\n",
       "    <tr>\n",
       "      <th id=\"T_418e4_level0_row5\" class=\"row_heading level0 row5\" >5843</th>\n",
       "      <td id=\"T_418e4_row5_col0\" class=\"data row5 col0\" >Famous Last Words: A College Hockey Romance (Holt Hockey Book 1)</td>\n",
       "      <td id=\"T_418e4_row5_col1\" class=\"data row5 col1\" >C.W. Farnsworth</td>\n",
       "      <td id=\"T_418e4_row5_col2\" class=\"data row5 col2\" >4.300000</td>\n",
       "      <td id=\"T_418e4_row5_col3\" class=\"data row5 col3\" >4.640000</td>\n",
       "      <td id=\"T_418e4_row5_col4\" class=\"data row5 col4\" >https://www.amazon.in/Famous-Last-Words-College-Romance-ebook/dp/B0CNWJQ5SM/ref=zg_bs_g_89265407031_d_sccl_20/000-0000000-0000000?psc=1</td>\n",
       "    </tr>\n",
       "  </tbody>\n",
       "</table>\n"
      ],
      "text/plain": [
       "<pandas.io.formats.style.Styler at 0x1267ec810>"
      ]
     },
     "execution_count": 21,
     "metadata": {},
     "output_type": "execute_result"
    }
   ],
   "source": [
    "username = input(\"Enter your username: \").strip()\n",
    "\n",
    "recommendations_by_author_input = BooksByFavoriteAuthor.GetBooksByFavoriteAuthors(username, user_manager, books_df)\n",
    "\n",
    "user_info = recommendations_by_author_input.style\n",
    "\n",
    "user_info"
   ]
  },
  {
   "cell_type": "markdown",
   "metadata": {},
   "source": [
    "BooksByInputAuthor function:\n",
    "\n",
    "- Retrieves all books authored by a specified author and allows the user to filter them by a chosen book type, returning the matching books.\n"
   ]
  },
  {
   "cell_type": "code",
   "execution_count": 22,
   "metadata": {},
   "outputs": [],
   "source": [
    "class BooksByInputAuthor:\n",
    "\n",
    "    def find_books_by_author(books_df, author_name):\n",
    " \n",
    "        author_books = books_df[books_df['Author'] == author_name]\n",
    "\n",
    "        if author_books.empty:\n",
    "            print(f\"No books found written by {author_name}.\")\n",
    "            return None\n",
    "\n",
    "    \n",
    "        available_types = author_books['Type'].unique() \n",
    "        book_type = input(f\"Enter the book type to filter ({', '.join(available_types)}): \")\n",
    "\n",
    "        if book_type in available_types:\n",
    "            filtered_books = author_books[author_books['Type'] == book_type]\n",
    "            if filtered_books.empty:\n",
    "                print(f\"No books found written by {author_name} of type '{book_type}'.\")\n",
    "            else:\n",
    "                print(f\"Books written by {author_name} of type '{book_type}':\")\n",
    "                return filtered_books\n",
    "        else:\n",
    "            print(f\"Invalid book type '{book_type}'. Please try again.\")\n",
    "            return None\n"
   ]
  },
  {
   "cell_type": "code",
   "execution_count": 23,
   "metadata": {},
   "outputs": [
    {
     "name": "stdin",
     "output_type": "stream",
     "text": [
      "Enter the author's name:  Franz Kafka\n",
      "Enter the book type to filter (Paperback, Kindle Edition):  Paperback\n"
     ]
    },
    {
     "name": "stdout",
     "output_type": "stream",
     "text": [
      "Books written by Franz Kafka of type 'Paperback':\n"
     ]
    },
    {
     "data": {
      "text/html": [
       "<style type=\"text/css\">\n",
       "</style>\n",
       "<table id=\"T_c210b\">\n",
       "  <thead>\n",
       "    <tr>\n",
       "      <th class=\"blank level0\" >&nbsp;</th>\n",
       "      <th id=\"T_c210b_level0_col0\" class=\"col_heading level0 col0\" >Unnamed: 0</th>\n",
       "      <th id=\"T_c210b_level0_col1\" class=\"col_heading level0 col1\" >Title</th>\n",
       "      <th id=\"T_c210b_level0_col2\" class=\"col_heading level0 col2\" >Author</th>\n",
       "      <th id=\"T_c210b_level0_col3\" class=\"col_heading level0 col3\" >Main Genre</th>\n",
       "      <th id=\"T_c210b_level0_col4\" class=\"col_heading level0 col4\" >Sub Genre</th>\n",
       "      <th id=\"T_c210b_level0_col5\" class=\"col_heading level0 col5\" >Type</th>\n",
       "      <th id=\"T_c210b_level0_col6\" class=\"col_heading level0 col6\" >Price</th>\n",
       "      <th id=\"T_c210b_level0_col7\" class=\"col_heading level0 col7\" >Rating</th>\n",
       "      <th id=\"T_c210b_level0_col8\" class=\"col_heading level0 col8\" >No. of People rated</th>\n",
       "      <th id=\"T_c210b_level0_col9\" class=\"col_heading level0 col9\" >URLs</th>\n",
       "      <th id=\"T_c210b_level0_col10\" class=\"col_heading level0 col10\" >Price_EUR</th>\n",
       "    </tr>\n",
       "  </thead>\n",
       "  <tbody>\n",
       "    <tr>\n",
       "      <th id=\"T_c210b_level0_row0\" class=\"row_heading level0 row0\" >3017</th>\n",
       "      <td id=\"T_c210b_row0_col0\" class=\"data row0 col0\" >3017</td>\n",
       "      <td id=\"T_c210b_row0_col1\" class=\"data row0 col1\" >METAMORPHOSIS (PB)</td>\n",
       "      <td id=\"T_c210b_row0_col2\" class=\"data row0 col2\" >Franz Kafka</td>\n",
       "      <td id=\"T_c210b_row0_col3\" class=\"data row0 col3\" >Fantasy, Horror & Science Fiction</td>\n",
       "      <td id=\"T_c210b_row0_col4\" class=\"data row0 col4\" >Horror</td>\n",
       "      <td id=\"T_c210b_row0_col5\" class=\"data row0 col5\" >Paperback</td>\n",
       "      <td id=\"T_c210b_row0_col6\" class=\"data row0 col6\" >149.000000</td>\n",
       "      <td id=\"T_c210b_row0_col7\" class=\"data row0 col7\" >4.500000</td>\n",
       "      <td id=\"T_c210b_row0_col8\" class=\"data row0 col8\" >11646.000000</td>\n",
       "      <td id=\"T_c210b_row0_col9\" class=\"data row0 col9\" >https://www.amazon.in/Metamorphosis-Franz-Kafka/dp/9355201060/ref=zg_bs_g_1318165031_d_sccl_18/000-0000000-0000000?psc=1</td>\n",
       "      <td id=\"T_c210b_row0_col10\" class=\"data row0 col10\" >1.670000</td>\n",
       "    </tr>\n",
       "    <tr>\n",
       "      <th id=\"T_c210b_level0_row1\" class=\"row_heading level0 row1\" >3046</th>\n",
       "      <td id=\"T_c210b_row1_col0\" class=\"data row1 col0\" >3046</td>\n",
       "      <td id=\"T_c210b_row1_col1\" class=\"data row1 col1\" >Metamorphosis (Pocket Classics)</td>\n",
       "      <td id=\"T_c210b_row1_col2\" class=\"data row1 col2\" >Franz Kafka</td>\n",
       "      <td id=\"T_c210b_row1_col3\" class=\"data row1 col3\" >Fantasy, Horror & Science Fiction</td>\n",
       "      <td id=\"T_c210b_row1_col4\" class=\"data row1 col4\" >Horror</td>\n",
       "      <td id=\"T_c210b_row1_col5\" class=\"data row1 col5\" >Paperback</td>\n",
       "      <td id=\"T_c210b_row1_col6\" class=\"data row1 col6\" >80.000000</td>\n",
       "      <td id=\"T_c210b_row1_col7\" class=\"data row1 col7\" >5.000000</td>\n",
       "      <td id=\"T_c210b_row1_col8\" class=\"data row1 col8\" >1.000000</td>\n",
       "      <td id=\"T_c210b_row1_col9\" class=\"data row1 col9\" >https://www.amazon.in/Metamorphosis-Pocket-Classics-Franz-Kafka/dp/8119623037/ref=zg_bs_g_1318165031_d_sccl_17/000-0000000-0000000?psc=1</td>\n",
       "      <td id=\"T_c210b_row1_col10\" class=\"data row1 col10\" >0.890000</td>\n",
       "    </tr>\n",
       "    <tr>\n",
       "      <th id=\"T_c210b_level0_row2\" class=\"row_heading level0 row2\" >3551</th>\n",
       "      <td id=\"T_c210b_row2_col0\" class=\"data row2 col0\" >3551</td>\n",
       "      <td id=\"T_c210b_row2_col1\" class=\"data row2 col1\" >Metamorphosis</td>\n",
       "      <td id=\"T_c210b_row2_col2\" class=\"data row2 col2\" >Franz Kafka</td>\n",
       "      <td id=\"T_c210b_row2_col3\" class=\"data row2 col3\" >Literature & Fiction</td>\n",
       "      <td id=\"T_c210b_row2_col4\" class=\"data row2 col4\" >Classic Fiction</td>\n",
       "      <td id=\"T_c210b_row2_col5\" class=\"data row2 col5\" >Paperback</td>\n",
       "      <td id=\"T_c210b_row2_col6\" class=\"data row2 col6\" >89.000000</td>\n",
       "      <td id=\"T_c210b_row2_col7\" class=\"data row2 col7\" >4.500000</td>\n",
       "      <td id=\"T_c210b_row2_col8\" class=\"data row2 col8\" >11646.000000</td>\n",
       "      <td id=\"T_c210b_row2_col9\" class=\"data row2 col9\" >https://www.amazon.in/Metamorphosis-Franz-Kafka/dp/8172345135/ref=zg_bs_g_1318159031_d_sccl_2/000-0000000-0000000?psc=1</td>\n",
       "      <td id=\"T_c210b_row2_col10\" class=\"data row2 col10\" >1.000000</td>\n",
       "    </tr>\n",
       "    <tr>\n",
       "      <th id=\"T_c210b_level0_row3\" class=\"row_heading level0 row3\" >3699</th>\n",
       "      <td id=\"T_c210b_row3_col0\" class=\"data row3 col0\" >3699</td>\n",
       "      <td id=\"T_c210b_row3_col1\" class=\"data row3 col1\" >Letter to the Father/Brief an den Vater: Bilingual Edition (The Schocken Kafka Library)</td>\n",
       "      <td id=\"T_c210b_row3_col2\" class=\"data row3 col2\" >Franz Kafka</td>\n",
       "      <td id=\"T_c210b_row3_col3\" class=\"data row3 col3\" >Literature & Fiction</td>\n",
       "      <td id=\"T_c210b_row3_col4\" class=\"data row3 col4\" >Essays</td>\n",
       "      <td id=\"T_c210b_row3_col5\" class=\"data row3 col5\" >Paperback</td>\n",
       "      <td id=\"T_c210b_row3_col6\" class=\"data row3 col6\" >675.910000</td>\n",
       "      <td id=\"T_c210b_row3_col7\" class=\"data row3 col7\" >4.600000</td>\n",
       "      <td id=\"T_c210b_row3_col8\" class=\"data row3 col8\" >77.000000</td>\n",
       "      <td id=\"T_c210b_row3_col9\" class=\"data row3 col9\" >https://www.amazon.in/Letter-Father-Brief-den-Vater/dp/0805212663/ref=zg_bs_g_1318172031_d_sccl_20/000-0000000-0000000?psc=1</td>\n",
       "      <td id=\"T_c210b_row3_col10\" class=\"data row3 col10\" >7.560000</td>\n",
       "    </tr>\n",
       "  </tbody>\n",
       "</table>\n"
      ],
      "text/plain": [
       "<pandas.io.formats.style.Styler at 0x127f29510>"
      ]
     },
     "execution_count": 23,
     "metadata": {},
     "output_type": "execute_result"
    }
   ],
   "source": [
    "books_df = pd.read_csv(\"Books_df.csv\")\n",
    "\n",
    "author_name = input(\"Enter the author's name: \")\n",
    "\n",
    "author_books = BooksByInputAuthor.find_books_by_author(books_df, author_name)\n",
    "\n",
    "author_books.style\n",
    "\n",
    "\n",
    "#Examples of authors in the dataset:[\"Zoey Draven\", \"John Marrs\", \"Victoria Aveline\", \"Ivy Barrett\", \"Talia Rhea\", \"Bella Matthews\", \"C.W. Farnsworth\", \"Franz Kafka\"]\n",
    "#Examples of book type in the dataset: [\"Paperback\", \"Kindle Edition\", \"Hardcover\"]"
   ]
  },
  {
   "cell_type": "markdown",
   "metadata": {},
   "source": [
    "PriceSort function:\n",
    "\n",
    "- init(self, books_df): Initializes the PriceSort class with a DataFrame containing book information. It converts the 'Price_EUR' column to numeric type, removes rows with NaN values in the 'Price_EUR' column, and sorts the DataFrame by price in ascending order;\n",
    "\n",
    "- find_closest_book(self, target_price, min_rating=4): Performs a binary search on the sorted DataFrame to find the book closest to the target price while also meeting a minimum rating criterion. It returns the book closest to the target price with a rating of at least min_rating;\n",
    "\n",
    "- calculate_precision: Determines the precision of recommendations based on price and rating. If a book is found within the specified price range with a rating meeting or exceeding the minimum, precision is 1.0; otherwise, it's 0.0;\n",
    "\n",
    "- calculate_recall_completeness: Assesses the recall completeness of recommendations regarding price and rating. If a book is found within the specified price range with a rating meeting or exceeding the minimum, recall completeness is 1.0; otherwise, it's 0.0."
   ]
  },
  {
   "cell_type": "code",
   "execution_count": 24,
   "metadata": {},
   "outputs": [],
   "source": [
    "class PriceSort:\n",
    "    \n",
    "  def __init__(self, books_df):\n",
    "       \n",
    "        books_df['Price_EUR'] = pd.to_numeric(books_df['Price_EUR'], errors='coerce')\n",
    "       \n",
    "        books_df = books_df.dropna(subset=['Price_EUR'])\n",
    "        \n",
    "      \n",
    "        self.sorted_books_df = books_df.sort_values(by='Price_EUR')\n",
    "\n",
    "  def find_closest_book(self, target_price, min_rating=4):\n",
    "   \n",
    "    low = 0\n",
    "    high = len(self.sorted_books_df) - 1\n",
    "    closest_book = None \n",
    "\n",
    "    while low <= high:\n",
    "        mid = (low + high) // 2\n",
    "        current_price = self.sorted_books_df.iloc[mid]['Price_EUR']\n",
    "        current_rating = self.sorted_books_df.iloc[mid]['Rating']\n",
    "\n",
    "        \n",
    "        if current_rating >= min_rating:\n",
    "           \n",
    "            if current_price == target_price:\n",
    "                return self.sorted_books_df.iloc[mid]\n",
    "           \n",
    "            elif closest_book is None or abs(current_price - target_price) < abs(closest_book['Price_EUR'] - target_price):\n",
    "                closest_book = self.sorted_books_df.iloc[mid]\n",
    "\n",
    "      \n",
    "        if current_price < target_price:\n",
    "            low = mid + 1\n",
    "        else:\n",
    "            high = mid - 1\n",
    "\n",
    "    return closest_book \n",
    "      \n",
    "\n",
    "  def calculate_precision(self, target_price, min_rating=4):\n",
    "       \n",
    "        closest_book = self.find_closest_book(target_price, min_rating)\n",
    "        if closest_book is not None:\n",
    "            return 1.0  # Since there's only one recommendation, precision is always 1.0 for this case\n",
    "        else:\n",
    "            return 0.0\n",
    "\n",
    "  def calculate_recall_completeness(self, target_price, min_rating=4):\n",
    "        \n",
    "        closest_book = self.find_closest_book(target_price, min_rating)\n",
    "        if closest_book is not None:\n",
    "            return 1.0  # Since there's only one relevant item and it's recommended, recall completeness is 1.0\n",
    "        else:\n",
    "            return 0.0"
   ]
  },
  {
   "cell_type": "markdown",
   "metadata": {},
   "source": [
    "- Retrieving personalised book recommendations for registered users based on target price:"
   ]
  },
  {
   "cell_type": "code",
   "execution_count": 25,
   "metadata": {},
   "outputs": [
    {
     "name": "stdin",
     "output_type": "stream",
     "text": [
      "Enter your target price in Euros:  100\n",
      "Enter minimum rating (optional, defaults to 4):  5\n"
     ]
    },
    {
     "name": "stdout",
     "output_type": "stream",
     "text": [
      "The book closest to your target price of €100.0 with a rating of 5 or over is:\n"
     ]
    },
    {
     "data": {
      "text/html": [
       "<style type=\"text/css\">\n",
       "</style>\n",
       "<table id=\"T_b2f02\">\n",
       "  <thead>\n",
       "    <tr>\n",
       "      <th class=\"blank level0\" >&nbsp;</th>\n",
       "      <th id=\"T_b2f02_level0_col0\" class=\"col_heading level0 col0\" >3968</th>\n",
       "    </tr>\n",
       "  </thead>\n",
       "  <tbody>\n",
       "    <tr>\n",
       "      <th id=\"T_b2f02_level0_row0\" class=\"row_heading level0 row0\" >Title</th>\n",
       "      <td id=\"T_b2f02_row0_col0\" class=\"data row0 col0\" >Design for Critical Care: An Evidence-Based Approach</td>\n",
       "    </tr>\n",
       "    <tr>\n",
       "      <th id=\"T_b2f02_level0_row1\" class=\"row_heading level0 row1\" >Author</th>\n",
       "      <td id=\"T_b2f02_row1_col0\" class=\"data row1 col0\" >D. Kirk Hamilton</td>\n",
       "    </tr>\n",
       "    <tr>\n",
       "      <th id=\"T_b2f02_level0_row2\" class=\"row_heading level0 row2\" >Price_EUR</th>\n",
       "      <td id=\"T_b2f02_row2_col0\" class=\"data row2 col0\" >122.110000</td>\n",
       "    </tr>\n",
       "    <tr>\n",
       "      <th id=\"T_b2f02_level0_row3\" class=\"row_heading level0 row3\" >Rating</th>\n",
       "      <td id=\"T_b2f02_row3_col0\" class=\"data row3 col0\" >5.000000</td>\n",
       "    </tr>\n",
       "    <tr>\n",
       "      <th id=\"T_b2f02_level0_row4\" class=\"row_heading level0 row4\" >URLs</th>\n",
       "      <td id=\"T_b2f02_row4_col0\" class=\"data row4 col0\" >https://www.amazon.in/Design-Critical-Care-Evidence-Based-Approach/dp/1138137375/ref=zg_bs_g_4149550031_d_sccl_19/000-0000000-0000000?psc=1</td>\n",
       "    </tr>\n",
       "  </tbody>\n",
       "</table>\n"
      ],
      "text/plain": [
       "<pandas.io.formats.style.Styler at 0x128160b10>"
      ]
     },
     "metadata": {},
     "output_type": "display_data"
    }
   ],
   "source": [
    "target_price_eur = float(input(\"Enter your target price in Euros: \"))\n",
    "\n",
    "min_rating = int(input(\"Enter minimum rating (optional, defaults to 4): \") or 4)\n",
    "\n",
    "price_sort = PriceSort(books_df.copy()) \n",
    "\n",
    "closest_book = price_sort.find_closest_book(target_price_eur, min_rating)\n",
    "\n",
    "if closest_book is not None:\n",
    "    print(f\"The book closest to your target price of €{target_price_eur} with a rating of {min_rating} or over is:\")\n",
    "    display(pd.DataFrame(closest_book[['Title', 'Author', 'Price_EUR', 'Rating','URLs']]).style)\n",
    "else:\n",
    "    print(f\"No book found within your budget (€{target_price_eur}) and minimum rating of {min_rating}.\")\n"
   ]
  },
  {
   "cell_type": "code",
   "execution_count": null,
   "metadata": {},
   "outputs": [],
   "source": []
  }
 ],
 "metadata": {
  "kernelspec": {
   "display_name": "Python 3 (ipykernel)",
   "language": "python",
   "name": "python3"
  },
  "language_info": {
   "codemirror_mode": {
    "name": "ipython",
    "version": 3
   },
   "file_extension": ".py",
   "mimetype": "text/x-python",
   "name": "python",
   "nbconvert_exporter": "python",
   "pygments_lexer": "ipython3",
   "version": "3.11.7"
  }
 },
 "nbformat": 4,
 "nbformat_minor": 4
}
