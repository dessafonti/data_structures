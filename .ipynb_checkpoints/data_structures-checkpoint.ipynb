{
 "cells": [
  {
   "attachments": {},
   "cell_type": "markdown",
   "metadata": {},
   "source": [
    "Real-World Problem Solving with Algorithms and Data Structures"
   ]
  },
  {
   "cell_type": "code",
   "execution_count": 5,
   "metadata": {},
   "outputs": [],
   "source": [
    "import pandas as pd\n",
    "import ipytest"
   ]
  },
  {
   "cell_type": "code",
   "execution_count": 6,
   "metadata": {},
   "outputs": [],
   "source": [
    "books_df = pd.read_csv(\"Books_df.csv\")"
   ]
  },
  {
   "cell_type": "code",
   "execution_count": 7,
   "metadata": {
    "scrolled": true
   },
   "outputs": [
    {
     "name": "stdout",
     "output_type": "stream",
     "text": [
      "Books DataFrame:\n"
     ]
    },
    {
     "data": {
      "text/html": [
       "<div>\n",
       "<style scoped>\n",
       "    .dataframe tbody tr th:only-of-type {\n",
       "        vertical-align: middle;\n",
       "    }\n",
       "\n",
       "    .dataframe tbody tr th {\n",
       "        vertical-align: top;\n",
       "    }\n",
       "\n",
       "    .dataframe thead th {\n",
       "        text-align: right;\n",
       "    }\n",
       "</style>\n",
       "<table border=\"1\" class=\"dataframe\">\n",
       "  <thead>\n",
       "    <tr style=\"text-align: right;\">\n",
       "      <th></th>\n",
       "      <th>Unnamed: 0</th>\n",
       "      <th>Title</th>\n",
       "      <th>Author</th>\n",
       "      <th>Main Genre</th>\n",
       "      <th>Sub Genre</th>\n",
       "      <th>Type</th>\n",
       "      <th>Price</th>\n",
       "      <th>Rating</th>\n",
       "      <th>No. of People rated</th>\n",
       "      <th>URLs</th>\n",
       "    </tr>\n",
       "  </thead>\n",
       "  <tbody>\n",
       "    <tr>\n",
       "      <th>0</th>\n",
       "      <td>0</td>\n",
       "      <td>The Complete Novel of Sherlock Holmes</td>\n",
       "      <td>Arthur Conan Doyle</td>\n",
       "      <td>Arts, Film &amp; Photography</td>\n",
       "      <td>Cinema &amp; Broadcast</td>\n",
       "      <td>Paperback</td>\n",
       "      <td>₹169.00</td>\n",
       "      <td>4.4</td>\n",
       "      <td>19923.0</td>\n",
       "      <td>https://www.amazon.in/Complete-Novels-Sherlock...</td>\n",
       "    </tr>\n",
       "    <tr>\n",
       "      <th>1</th>\n",
       "      <td>1</td>\n",
       "      <td>Black Holes (L) : The Reith Lectures [Paperbac...</td>\n",
       "      <td>Stephen Hawking</td>\n",
       "      <td>Arts, Film &amp; Photography</td>\n",
       "      <td>Cinema &amp; Broadcast</td>\n",
       "      <td>Paperback</td>\n",
       "      <td>₹99.00</td>\n",
       "      <td>4.5</td>\n",
       "      <td>7686.0</td>\n",
       "      <td>https://www.amazon.in/Black-Holes-Lectures-Ste...</td>\n",
       "    </tr>\n",
       "    <tr>\n",
       "      <th>2</th>\n",
       "      <td>2</td>\n",
       "      <td>The Kite Runner</td>\n",
       "      <td>Khaled Hosseini</td>\n",
       "      <td>Arts, Film &amp; Photography</td>\n",
       "      <td>Cinema &amp; Broadcast</td>\n",
       "      <td>Kindle Edition</td>\n",
       "      <td>₹175.75</td>\n",
       "      <td>4.6</td>\n",
       "      <td>50016.0</td>\n",
       "      <td>https://www.amazon.in/Kite-Runner-Khaled-Hosse...</td>\n",
       "    </tr>\n",
       "    <tr>\n",
       "      <th>3</th>\n",
       "      <td>3</td>\n",
       "      <td>Greenlights: Raucous stories and outlaw wisdom...</td>\n",
       "      <td>Matthew McConaughey</td>\n",
       "      <td>Arts, Film &amp; Photography</td>\n",
       "      <td>Cinema &amp; Broadcast</td>\n",
       "      <td>Paperback</td>\n",
       "      <td>₹389.00</td>\n",
       "      <td>4.6</td>\n",
       "      <td>32040.0</td>\n",
       "      <td>https://www.amazon.in/Greenlights-Raucous-stor...</td>\n",
       "    </tr>\n",
       "    <tr>\n",
       "      <th>4</th>\n",
       "      <td>4</td>\n",
       "      <td>The Science of Storytelling: Why Stories Make ...</td>\n",
       "      <td>Will Storr</td>\n",
       "      <td>Arts, Film &amp; Photography</td>\n",
       "      <td>Cinema &amp; Broadcast</td>\n",
       "      <td>Paperback</td>\n",
       "      <td>₹348.16</td>\n",
       "      <td>4.5</td>\n",
       "      <td>1707.0</td>\n",
       "      <td>https://www.amazon.in/Science-Storytelling-Wil...</td>\n",
       "    </tr>\n",
       "  </tbody>\n",
       "</table>\n",
       "</div>"
      ],
      "text/plain": [
       "   Unnamed: 0                                              Title  \\\n",
       "0           0              The Complete Novel of Sherlock Holmes   \n",
       "1           1  Black Holes (L) : The Reith Lectures [Paperbac...   \n",
       "2           2                                    The Kite Runner   \n",
       "3           3  Greenlights: Raucous stories and outlaw wisdom...   \n",
       "4           4  The Science of Storytelling: Why Stories Make ...   \n",
       "\n",
       "                Author                Main Genre           Sub Genre  \\\n",
       "0   Arthur Conan Doyle  Arts, Film & Photography  Cinema & Broadcast   \n",
       "1      Stephen Hawking  Arts, Film & Photography  Cinema & Broadcast   \n",
       "2      Khaled Hosseini  Arts, Film & Photography  Cinema & Broadcast   \n",
       "3  Matthew McConaughey  Arts, Film & Photography  Cinema & Broadcast   \n",
       "4           Will Storr  Arts, Film & Photography  Cinema & Broadcast   \n",
       "\n",
       "             Type    Price  Rating  No. of People rated  \\\n",
       "0       Paperback  ₹169.00     4.4              19923.0   \n",
       "1       Paperback   ₹99.00     4.5               7686.0   \n",
       "2  Kindle Edition  ₹175.75     4.6              50016.0   \n",
       "3       Paperback  ₹389.00     4.6              32040.0   \n",
       "4       Paperback  ₹348.16     4.5               1707.0   \n",
       "\n",
       "                                                URLs  \n",
       "0  https://www.amazon.in/Complete-Novels-Sherlock...  \n",
       "1  https://www.amazon.in/Black-Holes-Lectures-Ste...  \n",
       "2  https://www.amazon.in/Kite-Runner-Khaled-Hosse...  \n",
       "3  https://www.amazon.in/Greenlights-Raucous-stor...  \n",
       "4  https://www.amazon.in/Science-Storytelling-Wil...  "
      ]
     },
     "execution_count": 7,
     "metadata": {},
     "output_type": "execute_result"
    }
   ],
   "source": [
    "print(\"Books DataFrame:\")\n",
    "books_df.head()"
   ]
  },
  {
   "cell_type": "code",
   "execution_count": 8,
   "metadata": {},
   "outputs": [
    {
     "name": "stdout",
     "output_type": "stream",
     "text": [
      "Books DataFrame with Prices in Euros:\n"
     ]
    },
    {
     "data": {
      "text/html": [
       "<div>\n",
       "<style scoped>\n",
       "    .dataframe tbody tr th:only-of-type {\n",
       "        vertical-align: middle;\n",
       "    }\n",
       "\n",
       "    .dataframe tbody tr th {\n",
       "        vertical-align: top;\n",
       "    }\n",
       "\n",
       "    .dataframe thead th {\n",
       "        text-align: right;\n",
       "    }\n",
       "</style>\n",
       "<table border=\"1\" class=\"dataframe\">\n",
       "  <thead>\n",
       "    <tr style=\"text-align: right;\">\n",
       "      <th></th>\n",
       "      <th>Unnamed: 0</th>\n",
       "      <th>Title</th>\n",
       "      <th>Author</th>\n",
       "      <th>Main Genre</th>\n",
       "      <th>Sub Genre</th>\n",
       "      <th>Type</th>\n",
       "      <th>Price</th>\n",
       "      <th>Rating</th>\n",
       "      <th>No. of People rated</th>\n",
       "      <th>URLs</th>\n",
       "      <th>Price_EUR</th>\n",
       "    </tr>\n",
       "  </thead>\n",
       "  <tbody>\n",
       "    <tr>\n",
       "      <th>0</th>\n",
       "      <td>0</td>\n",
       "      <td>The Complete Novel of Sherlock Holmes</td>\n",
       "      <td>Arthur Conan Doyle</td>\n",
       "      <td>Arts, Film &amp; Photography</td>\n",
       "      <td>Cinema &amp; Broadcast</td>\n",
       "      <td>Paperback</td>\n",
       "      <td>169.00</td>\n",
       "      <td>4.4</td>\n",
       "      <td>19923.0</td>\n",
       "      <td>https://www.amazon.in/Complete-Novels-Sherlock...</td>\n",
       "      <td>1.89</td>\n",
       "    </tr>\n",
       "    <tr>\n",
       "      <th>1</th>\n",
       "      <td>1</td>\n",
       "      <td>Black Holes (L) : The Reith Lectures [Paperbac...</td>\n",
       "      <td>Stephen Hawking</td>\n",
       "      <td>Arts, Film &amp; Photography</td>\n",
       "      <td>Cinema &amp; Broadcast</td>\n",
       "      <td>Paperback</td>\n",
       "      <td>99.00</td>\n",
       "      <td>4.5</td>\n",
       "      <td>7686.0</td>\n",
       "      <td>https://www.amazon.in/Black-Holes-Lectures-Ste...</td>\n",
       "      <td>1.11</td>\n",
       "    </tr>\n",
       "    <tr>\n",
       "      <th>2</th>\n",
       "      <td>2</td>\n",
       "      <td>The Kite Runner</td>\n",
       "      <td>Khaled Hosseini</td>\n",
       "      <td>Arts, Film &amp; Photography</td>\n",
       "      <td>Cinema &amp; Broadcast</td>\n",
       "      <td>Kindle Edition</td>\n",
       "      <td>175.75</td>\n",
       "      <td>4.6</td>\n",
       "      <td>50016.0</td>\n",
       "      <td>https://www.amazon.in/Kite-Runner-Khaled-Hosse...</td>\n",
       "      <td>1.97</td>\n",
       "    </tr>\n",
       "    <tr>\n",
       "      <th>3</th>\n",
       "      <td>3</td>\n",
       "      <td>Greenlights: Raucous stories and outlaw wisdom...</td>\n",
       "      <td>Matthew McConaughey</td>\n",
       "      <td>Arts, Film &amp; Photography</td>\n",
       "      <td>Cinema &amp; Broadcast</td>\n",
       "      <td>Paperback</td>\n",
       "      <td>389.00</td>\n",
       "      <td>4.6</td>\n",
       "      <td>32040.0</td>\n",
       "      <td>https://www.amazon.in/Greenlights-Raucous-stor...</td>\n",
       "      <td>4.35</td>\n",
       "    </tr>\n",
       "    <tr>\n",
       "      <th>4</th>\n",
       "      <td>4</td>\n",
       "      <td>The Science of Storytelling: Why Stories Make ...</td>\n",
       "      <td>Will Storr</td>\n",
       "      <td>Arts, Film &amp; Photography</td>\n",
       "      <td>Cinema &amp; Broadcast</td>\n",
       "      <td>Paperback</td>\n",
       "      <td>348.16</td>\n",
       "      <td>4.5</td>\n",
       "      <td>1707.0</td>\n",
       "      <td>https://www.amazon.in/Science-Storytelling-Wil...</td>\n",
       "      <td>3.89</td>\n",
       "    </tr>\n",
       "  </tbody>\n",
       "</table>\n",
       "</div>"
      ],
      "text/plain": [
       "   Unnamed: 0                                              Title  \\\n",
       "0           0              The Complete Novel of Sherlock Holmes   \n",
       "1           1  Black Holes (L) : The Reith Lectures [Paperbac...   \n",
       "2           2                                    The Kite Runner   \n",
       "3           3  Greenlights: Raucous stories and outlaw wisdom...   \n",
       "4           4  The Science of Storytelling: Why Stories Make ...   \n",
       "\n",
       "                Author                Main Genre           Sub Genre  \\\n",
       "0   Arthur Conan Doyle  Arts, Film & Photography  Cinema & Broadcast   \n",
       "1      Stephen Hawking  Arts, Film & Photography  Cinema & Broadcast   \n",
       "2      Khaled Hosseini  Arts, Film & Photography  Cinema & Broadcast   \n",
       "3  Matthew McConaughey  Arts, Film & Photography  Cinema & Broadcast   \n",
       "4           Will Storr  Arts, Film & Photography  Cinema & Broadcast   \n",
       "\n",
       "             Type   Price  Rating  No. of People rated  \\\n",
       "0       Paperback  169.00     4.4              19923.0   \n",
       "1       Paperback   99.00     4.5               7686.0   \n",
       "2  Kindle Edition  175.75     4.6              50016.0   \n",
       "3       Paperback  389.00     4.6              32040.0   \n",
       "4       Paperback  348.16     4.5               1707.0   \n",
       "\n",
       "                                                URLs  Price_EUR  \n",
       "0  https://www.amazon.in/Complete-Novels-Sherlock...       1.89  \n",
       "1  https://www.amazon.in/Black-Holes-Lectures-Ste...       1.11  \n",
       "2  https://www.amazon.in/Kite-Runner-Khaled-Hosse...       1.97  \n",
       "3  https://www.amazon.in/Greenlights-Raucous-stor...       4.35  \n",
       "4  https://www.amazon.in/Science-Storytelling-Wil...       3.89  "
      ]
     },
     "execution_count": 8,
     "metadata": {},
     "output_type": "execute_result"
    }
   ],
   "source": [
    "exchange_rate_inr_to_eur = 1 / 89.43  # 1 Euro = 89.43 INR\n",
    "\n",
    "# Removing commas and currency symbol from the prices and convert to float\n",
    "books_df['Price'] = books_df['Price'].str.replace(',', '').str.replace('₹', '').astype(float)\n",
    "\n",
    "# Calculating the price in Euros\n",
    "books_df['Price_EUR'] = books_df['Price'] * exchange_rate_inr_to_eur\n",
    "\n",
    "# Rounding the price in Euros to two decimal places\n",
    "books_df['Price_EUR'] = books_df['Price_EUR'].apply(lambda x: round(x, 2))\n",
    "\n",
    "print(\"Books DataFrame with Prices in Euros:\")\n",
    "books_df.head()\n"
   ]
  },
  {
   "cell_type": "markdown",
   "metadata": {},
   "source": [
    "UserManager function:\n",
    "\n",
    "- User registration: register_user method to allow users to register with unique usernames and passwords;\n",
    "- User Login: login_user method verifies user credentials and allows them to log in;\n",
    "- Preference Setting: set_preference method enables users to set their preferences by providing a key-value pair;\n",
    "- Preference Retrieval: get_preferences method retrieves the preferences of a logged-in user;\n",
    "- Testing: testing the registration, login, preference setting, and preference retrieval functionalities with sample users."
   ]
  },
  {
   "cell_type": "code",
   "execution_count": 9,
   "metadata": {},
   "outputs": [],
   "source": [
    "class UserManagement:\n",
    "    def __init__(self):\n",
    "        self.users = {}  # Dictionary to store user information\n",
    "\n",
    "    def register_user(self, username, password):\n",
    "        if username in self.users:\n",
    "            print(\"Username already exists. Please choose a different username.\")\n",
    "        else:\n",
    "            self.users[username] = {'password': password, 'preferences': {}}\n",
    "            print(\"Registration successful!\")\n",
    "\n",
    "    def login_user(self, username, password):\n",
    "        if username in self.users and self.users[username]['password'] == password:\n",
    "            print(\"Login successful!\")\n",
    "            return True\n",
    "        else:\n",
    "            print(\"Invalid username or password. Please try again.\")\n",
    "            return False\n",
    "\n",
    "    def set_preference(self, username, preference_key, preference_value):\n",
    "        if username in self.users:\n",
    "            if 'preferences' not in self.users[username]:\n",
    "                self.users[username]['preferences'] = {}  # Initializing preferences dictionary if it doesn't exist\n",
    "            if preference_key in self.users[username]['preferences']:\n",
    "            # Appending the new preference to the existing list of preferences\n",
    "                self.users[username]['preferences'][preference_key].append(preference_value)\n",
    "            else:\n",
    "            # Creating a new list with the preference value if the preference key doesn't exist\n",
    "                self.users[username]['preferences'][preference_key] = [preference_value]\n",
    "            print(\"Preference set successfully!\")\n",
    "        else:\n",
    "            print(\"User not found. Please login again.\")\n",
    "\n",
    "\n",
    "    def get_preferences(self, username):\n",
    "        if username in self.users and 'preferences' in self.users[username]:\n",
    "            return self.users[username]['preferences']\n",
    "        else:\n",
    "            print(\"User not found or no preferences set.\")\n",
    "            return None"
   ]
  },
  {
   "cell_type": "markdown",
   "metadata": {},
   "source": [
    "Testing UserManager methods:"
   ]
  },
  {
   "cell_type": "code",
   "execution_count": 10,
   "metadata": {},
   "outputs": [
    {
     "name": "stdout",
     "output_type": "stream",
     "text": [
      "\u001b[1m======================================= test session starts ========================================\u001b[0m\n",
      "platform darwin -- Python 3.11.7, pytest-8.1.1, pluggy-1.4.0 -- /Users/andressafont/miniconda3/envs/comp47350py311/bin/python\n",
      "cachedir: .pytest_cache\n",
      "rootdir: /Users/andressafont/Desktop/data structures\n",
      "plugins: cov-5.0.0, nbval-0.11.0, anyio-4.2.0\n",
      "\u001b[1mcollecting ... \u001b[0mcollected 3 items\n",
      "\n",
      "t_f26a03185c7540daba43a1db6d99bc83.py::test_register_user <- ../../../../var/folders/6j/tmdg_xx172xb1xtgxd35y2400000gn/T/ipykernel_6414/3846880177.py \u001b[32mPASSED\u001b[0m\u001b[32m [ 33%]\u001b[0m\n",
      "t_f26a03185c7540daba43a1db6d99bc83.py::test_login_user <- ../../../../var/folders/6j/tmdg_xx172xb1xtgxd35y2400000gn/T/ipykernel_6414/3846880177.py \u001b[32mPASSED\u001b[0m\u001b[32m [ 66%]\u001b[0m\n",
      "t_f26a03185c7540daba43a1db6d99bc83.py::test_set_preference <- ../../../../var/folders/6j/tmdg_xx172xb1xtgxd35y2400000gn/T/ipykernel_6414/3846880177.py \u001b[32mPASSED\u001b[0m\u001b[32m [100%]\u001b[0m\n",
      "\n",
      "\u001b[32m======================================== \u001b[32m\u001b[1m3 passed\u001b[0m\u001b[32m in 0.30s\u001b[0m\u001b[32m =========================================\u001b[0m\n"
     ]
    },
    {
     "data": {
      "text/plain": [
       "<ExitCode.OK: 0>"
      ]
     },
     "execution_count": 10,
     "metadata": {},
     "output_type": "execute_result"
    }
   ],
   "source": [
    "def test_register_user():\n",
    "    user_manager = UserManagement()\n",
    "    user_manager.register_user('test_user', 'test_password')\n",
    "    assert 'test_user' in user_manager.users\n",
    "\n",
    "def test_login_user():\n",
    "    user_manager = UserManagement()\n",
    "    user_manager.register_user('test_user', 'test_password')\n",
    "    assert user_manager.login_user('test_user', 'test_password') == True\n",
    "\n",
    "def test_set_preference():\n",
    "    user_manager = UserManagement()\n",
    "    user_manager.register_user('test_user', 'test_password')\n",
    "    user_manager.set_preference('test_user', 'preference_key', 'preference_value')\n",
    "    assert 'preference_key' in user_manager.get_preferences('test_user')\n",
    "\n",
    "ipytest.run('-vv')\n"
   ]
  },
  {
   "cell_type": "markdown",
   "metadata": {},
   "source": [
    "Creating users:"
   ]
  },
  {
   "cell_type": "code",
   "execution_count": 11,
   "metadata": {},
   "outputs": [
    {
     "name": "stdout",
     "output_type": "stream",
     "text": [
      "Registration successful!\n",
      "Registration successful!\n",
      "Registration successful!\n",
      "Registration successful!\n"
     ]
    }
   ],
   "source": [
    "user_manager = UserManagement()\n",
    "\n",
    "user_manager.register_user('Sean', 'password123')\n",
    "user_manager.register_user('Saoirse', 'password789')\n",
    "user_manager.register_user('Finn', 'password456')\n",
    "user_manager.register_user('Aoife', 'password997')\n"
   ]
  },
  {
   "cell_type": "markdown",
   "metadata": {},
   "source": [
    "Setting some preferences"
   ]
  },
  {
   "cell_type": "code",
   "execution_count": 12,
   "metadata": {},
   "outputs": [
    {
     "name": "stdout",
     "output_type": "stream",
     "text": [
      "Login successful!\n",
      "Preference set successfully!\n",
      "Preference set successfully!\n",
      "Preference set successfully!\n",
      "Preference set successfully!\n"
     ]
    }
   ],
   "source": [
    "if user_manager.login_user('Sean', 'password123'):\n",
    "    # Set preference for the logged-in user\n",
    "    user_manager.set_preference('Sean', 'favorite_genre', 'Science Fiction')\n",
    "    user_manager.set_preference('Sean', 'favorite_author', 'J.K. Rowling')\n",
    "    user_manager.set_preference('Sean', 'favorite_author', 'David Nicholls')\n",
    "    user_manager.set_preference('Sean', 'favorite_type', 'Paperback')\n",
    "    \n"
   ]
  },
  {
   "cell_type": "code",
   "execution_count": 13,
   "metadata": {},
   "outputs": [
    {
     "name": "stdout",
     "output_type": "stream",
     "text": [
      "Login successful!\n",
      "Preference set successfully!\n"
     ]
    }
   ],
   "source": [
    "if user_manager.login_user('Saoirse', 'password789'):\n",
    "    # Set preference for the logged-in user\n",
    "    user_manager.set_preference('Saoirse', 'favorite_genre', 'Arts, Film & Photography')"
   ]
  },
  {
   "cell_type": "code",
   "execution_count": 14,
   "metadata": {},
   "outputs": [
    {
     "name": "stdout",
     "output_type": "stream",
     "text": [
      "Login successful!\n",
      "Preference set successfully!\n"
     ]
    }
   ],
   "source": [
    "if user_manager.login_user('Finn', 'password456'):\n",
    "    # Set preference for the logged-in user\n",
    "    user_manager.set_preference('Finn', 'favorite_genre', 'Cinema & Broadcast')"
   ]
  },
  {
   "cell_type": "code",
   "execution_count": 15,
   "metadata": {},
   "outputs": [
    {
     "name": "stdout",
     "output_type": "stream",
     "text": [
      "Login successful!\n",
      "Preference set successfully!\n"
     ]
    }
   ],
   "source": [
    "if user_manager.login_user('Aoife', 'password997'):\n",
    "    # Set preference for the logged-in user\n",
    "    user_manager.set_preference('Aoife', 'favorite_genre', 'Economics')"
   ]
  },
  {
   "cell_type": "code",
   "execution_count": 16,
   "metadata": {},
   "outputs": [
    {
     "name": "stdout",
     "output_type": "stream",
     "text": [
      "Login successful!\n",
      "Preference set successfully!\n"
     ]
    }
   ],
   "source": [
    "if user_manager.login_user('Aoife', 'password997'):\n",
    "    # Set preference for the logged-in user\n",
    "    user_manager.set_preference('Aoife', 'favorite_genre', 'Cinema & Broadcast')"
   ]
  },
  {
   "cell_type": "markdown",
   "metadata": {},
   "source": [
    "Getting preferences:"
   ]
  },
  {
   "cell_type": "code",
   "execution_count": 17,
   "metadata": {},
   "outputs": [
    {
     "name": "stdout",
     "output_type": "stream",
     "text": [
      "Login successful!\n",
      "Aoife's preferences: {'favorite_genre': ['Economics', 'Cinema & Broadcast']}\n"
     ]
    }
   ],
   "source": [
    "if user_manager.login_user('Aoife', 'password997'):\n",
    "    # Get preferences for the logged-in user\n",
    "    aoife_preferences = user_manager.get_preferences('Aoife')\n",
    "    if aoife_preferences:\n",
    "        print(\"Aoife's preferences:\", aoife_preferences)\n",
    "    else:\n",
    "        print(\"No preferences found for Aoife.\")\n"
   ]
  },
  {
   "cell_type": "markdown",
   "metadata": {},
   "source": [
    "Book recommendations based on genre: "
   ]
  },
  {
   "cell_type": "code",
   "execution_count": 116,
   "metadata": {},
   "outputs": [],
   "source": [
    "class GenreRecommender:\n",
    "    def __init__(self, user_manager, books_df):\n",
    "        self.user_manager = user_manager\n",
    "        self.books_df = books_df\n",
    "\n",
    "    def recommend_books(self, username):\n",
    "        \"\"\"Recommends books based on user's favorite genre from preferences\"\"\"\n",
    "        if self.user_manager.login_user(username, self.user_manager.users[username]['password']):\n",
    "            favorite_genre = self.user_manager.users[username]['preferences'].get('favorite_genre')\n",
    "            if favorite_genre:\n",
    "                filtered_books = self.filter_books_by_genre(favorite_genre)\n",
    "                recommendations = self.get_top_recommendations(filtered_books)\n",
    "                print(f\"Here are some recommendations for {username} based on favorite genre '{favorite_genre}':\")\n",
    "                return recommendations\n",
    "            else:\n",
    "                print(f\"{username} doesn't have a favorite genre set in preferences.\")\n",
    "                return pd.DataFrame()  # Return an empty DataFrame\n",
    "        else:\n",
    "            print(\"Invalid username or password. Please try again.\")\n",
    "            return pd.DataFrame()  # Return an empty DataFrame\n",
    "\n",
    "    def filter_books_by_genre(self, favorite_genre):\n",
    "        if isinstance(favorite_genre, list):\n",
    "            favorite_genre = \", \".join(favorite_genre)\n",
    "        if self.books_df['Main Genre'].dtype != object:\n",
    "            self.books_df['Main Genre'] = self.books_df['Main Genre'].astype(str)\n",
    "        return self.books_df[self.books_df['Main Genre'].str.contains(favorite_genre, case=False)]\n",
    "\n",
    "    def get_top_recommendations(self, filtered_books):\n",
    "        selected_columns = ['Title', 'Author', 'Price_EUR', 'Rating', 'URLs']\n",
    "        sorted_books = filtered_books.sort_values(by='Rating', ascending=False)[selected_columns]\n",
    "        recommendation_count = 3\n",
    "        return sorted_books.head(recommendation_count)\n",
    "\n",
    "  "
   ]
  },
  {
   "cell_type": "code",
   "execution_count": 117,
   "metadata": {},
   "outputs": [
    {
     "name": "stdout",
     "output_type": "stream",
     "text": [
      "Login successful!\n",
      "Here are some recommendations for Saoirse based on favorite genre '['Arts, Film & Photography']':\n"
     ]
    },
    {
     "data": {
      "text/html": [
       "<style type=\"text/css\">\n",
       "</style>\n",
       "<table id=\"T_9c03a\">\n",
       "  <thead>\n",
       "    <tr>\n",
       "      <th class=\"blank level0\" >&nbsp;</th>\n",
       "      <th id=\"T_9c03a_level0_col0\" class=\"col_heading level0 col0\" >Title</th>\n",
       "      <th id=\"T_9c03a_level0_col1\" class=\"col_heading level0 col1\" >Author</th>\n",
       "      <th id=\"T_9c03a_level0_col2\" class=\"col_heading level0 col2\" >Price_EUR</th>\n",
       "      <th id=\"T_9c03a_level0_col3\" class=\"col_heading level0 col3\" >Rating</th>\n",
       "      <th id=\"T_9c03a_level0_col4\" class=\"col_heading level0 col4\" >URLs</th>\n",
       "    </tr>\n",
       "  </thead>\n",
       "  <tbody>\n",
       "    <tr>\n",
       "      <th id=\"T_9c03a_level0_row0\" class=\"row_heading level0 row0\" >132</th>\n",
       "      <td id=\"T_9c03a_row0_col0\" class=\"data row0 col0\" >Funny Jokes for 15 Year Old Teens: The Ultimate Q&A, One-Liner, Dad, Knock-Knock, Riddle, and Tongue Twister Collection! Hilarious and Silly Humor for Teenagers</td>\n",
       "      <td id=\"T_9c03a_row0_col1\" class=\"data row0 col1\" >Cooper The Pooper</td>\n",
       "      <td id=\"T_9c03a_row0_col2\" class=\"data row0 col2\" >1.850000</td>\n",
       "      <td id=\"T_9c03a_row0_col3\" class=\"data row0 col3\" >5.000000</td>\n",
       "      <td id=\"T_9c03a_row0_col4\" class=\"data row0 col4\" >https://www.amazon.in/Funny-Jokes-Year-Old-Teens-ebook/dp/B0CVFKC999/ref=zg_bs_g_1318063031_d_sccl_3/000-0000000-0000000?psc=1</td>\n",
       "    </tr>\n",
       "    <tr>\n",
       "      <th id=\"T_9c03a_level0_row1\" class=\"row_heading level0 row1\" >135</th>\n",
       "      <td id=\"T_9c03a_row1_col0\" class=\"data row1 col0\" >अभिनेता जीवन-एक संघर्ष: Evaluate yourself before you enter in the industry! (Hindi Edition)</td>\n",
       "      <td id=\"T_9c03a_row1_col1\" class=\"data row1 col1\" >Pankaj Gupta</td>\n",
       "      <td id=\"T_9c03a_row1_col2\" class=\"data row1 col2\" >1.110000</td>\n",
       "      <td id=\"T_9c03a_row1_col3\" class=\"data row1 col3\" >5.000000</td>\n",
       "      <td id=\"T_9c03a_row1_col4\" class=\"data row1 col4\" >https://www.amazon.in/%E0%A4%85%E0%A4%AD%E0%A4%BF%E0%A4%A8%E0%A5%87%E0%A4%A4%E0%A4%BE-%E0%A4%9C%E0%A5%80%E0%A4%B5%E0%A4%A8-%E0%A4%8F%E0%A4%95-%E0%A4%B8%E0%A4%82%E0%A4%98%E0%A4%B0%E0%A5%8D%E0%A4%B7-aspiring-actors-ebook/dp/B092TB1XJ4/ref=zg_bs_g_1318063031_d_sccl_6/000-0000000-0000000?psc=1</td>\n",
       "    </tr>\n",
       "    <tr>\n",
       "      <th id=\"T_9c03a_level0_row2\" class=\"row_heading level0 row2\" >120</th>\n",
       "      <td id=\"T_9c03a_row2_col0\" class=\"data row2 col0\" >அசுரனின் காதல் (Tamil Edition)</td>\n",
       "      <td id=\"T_9c03a_row2_col1\" class=\"data row2 col1\" >Ebin Rider</td>\n",
       "      <td id=\"T_9c03a_row2_col2\" class=\"data row2 col2\" >4.470000</td>\n",
       "      <td id=\"T_9c03a_row2_col3\" class=\"data row2 col3\" >5.000000</td>\n",
       "      <td id=\"T_9c03a_row2_col4\" class=\"data row2 col4\" >https://www.amazon.in/%E0%AE%85%E0%AE%9A%E0%AF%81%E0%AE%B0%E0%AE%A9%E0%AE%BF%E0%AE%A9%E0%AF%8D-%E0%AE%95%E0%AE%BE%E0%AE%A4%E0%AE%B2%E0%AF%8D-Tamil-Ebin-Rider-ebook/dp/B0CTFRN16B/ref=zg_bs_g_1318063031_d_sccl_21/000-0000000-0000000?psc=1</td>\n",
       "    </tr>\n",
       "  </tbody>\n",
       "</table>\n"
      ],
      "text/plain": [
       "<pandas.io.formats.style.Styler at 0x120a24410>"
      ]
     },
     "execution_count": 117,
     "metadata": {},
     "output_type": "execute_result"
    }
   ],
   "source": [
    "# Create an instance of GenreRecommender\n",
    "genre_recommender = GenreRecommender(user_manager, books_df)\n",
    "\n",
    "recommendations = genre_recommender.recommend_books('Saoirse')\n",
    "styled_recommendations = recommendations.style\n",
    "styled_recommendations\n"
   ]
  },
  {
   "cell_type": "code",
   "execution_count": 73,
   "metadata": {},
   "outputs": [],
   "source": [
    "class PriceSort:\n",
    "  def __init__(self, books_df):\n",
    "        \"\"\"\n",
    "        Sorts the book dataframe by price in ascending order.\n",
    "        \"\"\"\n",
    "        # Convert Price_EUR column to numeric type\n",
    "        books_df['Price_EUR'] = pd.to_numeric(books_df['Price_EUR'], errors='coerce')\n",
    "        # Remove rows with NaN values in Price_EUR column\n",
    "        books_df = books_df.dropna(subset=['Price_EUR'])\n",
    "        \n",
    "        # Sort the dataframe by price in ascending order\n",
    "        self.sorted_books_df = books_df.sort_values(by='Price_EUR')\n",
    "\n",
    "  def find_closest_book(self, target_price, min_rating=4):\n",
    "    \"\"\"\n",
    "    Uses binary search to find the book closest to the target price with a rating of min_rating or over.\n",
    "    \"\"\"\n",
    "    low = 0\n",
    "    high = len(self.sorted_books_df) - 1\n",
    "    closest_book = None  # Initialize closest book to None\n",
    "\n",
    "    while low <= high:\n",
    "        mid = (low + high) // 2\n",
    "        current_price = self.sorted_books_df.iloc[mid]['Price_EUR']\n",
    "        current_rating = self.sorted_books_df.iloc[mid]['Rating']\n",
    "\n",
    "        # Check if current book meets rating criteria\n",
    "        if current_rating >= min_rating:\n",
    "            # If price matches, return the book\n",
    "            if current_price == target_price:\n",
    "                return self.sorted_books_df.iloc[mid]\n",
    "            # Update closest_book if closer to the target price\n",
    "            elif closest_book is None or abs(current_price - target_price) < abs(closest_book['Price_EUR'] - target_price):\n",
    "                closest_book = self.sorted_books_df.iloc[mid]\n",
    "\n",
    "        # Adjust search range based on price\n",
    "        if current_price < target_price:\n",
    "            low = mid + 1\n",
    "        else:\n",
    "            high = mid - 1\n",
    "\n",
    "    return closest_book  # Return the closest book found\n"
   ]
  },
  {
   "cell_type": "code",
   "execution_count": 59,
   "metadata": {},
   "outputs": [
    {
     "name": "stdin",
     "output_type": "stream",
     "text": [
      "Enter your target price in Euros:  354\n",
      "Enter minimum rating (optional, defaults to 4):  2\n"
     ]
    },
    {
     "name": "stdout",
     "output_type": "stream",
     "text": [
      "The book closest to your target price of €354.0 with a rating of 2 or over is:\n"
     ]
    },
    {
     "data": {
      "text/html": [
       "<style type=\"text/css\">\n",
       "</style>\n",
       "<table id=\"T_dd745\">\n",
       "  <thead>\n",
       "    <tr>\n",
       "      <th class=\"blank level0\" >&nbsp;</th>\n",
       "      <th id=\"T_dd745_level0_col0\" class=\"col_heading level0 col0\" >4198</th>\n",
       "    </tr>\n",
       "  </thead>\n",
       "  <tbody>\n",
       "    <tr>\n",
       "      <th id=\"T_dd745_level0_row0\" class=\"row_heading level0 row0\" >Title</th>\n",
       "      <td id=\"T_dd745_row0_col0\" class=\"data row0 col0\" >BRENNER & RECTOR'S THE KIDNEY 02 VOL SET</td>\n",
       "    </tr>\n",
       "    <tr>\n",
       "      <th id=\"T_dd745_level0_row1\" class=\"row_heading level0 row1\" >Author</th>\n",
       "      <td id=\"T_dd745_row1_col0\" class=\"data row1 col0\" >Alan S. L. Yu MD</td>\n",
       "    </tr>\n",
       "    <tr>\n",
       "      <th id=\"T_dd745_level0_row2\" class=\"row_heading level0 row2\" >Price_EUR</th>\n",
       "      <td id=\"T_dd745_row2_col0\" class=\"data row2 col0\" >327.410000</td>\n",
       "    </tr>\n",
       "    <tr>\n",
       "      <th id=\"T_dd745_level0_row3\" class=\"row_heading level0 row3\" >Rating</th>\n",
       "      <td id=\"T_dd745_row3_col0\" class=\"data row3 col0\" >4.700000</td>\n",
       "    </tr>\n",
       "    <tr>\n",
       "      <th id=\"T_dd745_level0_row4\" class=\"row_heading level0 row4\" >URLs</th>\n",
       "      <td id=\"T_dd745_row4_col0\" class=\"data row4 col0\" >https://www.amazon.in/BRENNER-RECTORS-KIDNEY-VOL-SET/dp/0323532659/ref=zg_bs_g_4149702031_d_sccl_19/000-0000000-0000000?psc=1</td>\n",
       "    </tr>\n",
       "  </tbody>\n",
       "</table>\n"
      ],
      "text/plain": [
       "<pandas.io.formats.style.Styler at 0x12142d010>"
      ]
     },
     "metadata": {},
     "output_type": "display_data"
    }
   ],
   "source": [
    "# Ensure the user enters the target price in Euros\n",
    "target_price_eur = float(input(\"Enter your target price in Euros: \"))\n",
    "min_rating = int(input(\"Enter minimum rating (optional, defaults to 4): \") or 4)\n",
    "\n",
    "# Create an instance of PriceSort\n",
    "price_sort = PriceSort(books_df.copy()) \n",
    "\n",
    "# Find the closest book\n",
    "closest_book = price_sort.find_closest_book(target_price_eur, min_rating)\n",
    "\n",
    "if closest_book is not None:\n",
    "    print(f\"The book closest to your target price of €{target_price_eur} with a rating of {min_rating} or over is:\")\n",
    "    display(pd.DataFrame(closest_book[['Title', 'Author', 'Price_EUR', 'Rating','URLs']]).style)\n",
    "else:\n",
    "    print(f\"No book found within your budget (€{target_price_eur}) and minimum rating of {min_rating}.\")\n"
   ]
  },
  {
   "cell_type": "code",
   "execution_count": 23,
   "metadata": {},
   "outputs": [],
   "source": [
    "import pandas as pd\n",
    "\n",
    "def get_books_by_favorite_authors(username, users, books_database, desired_columns=['Title', 'Author', 'Rating', 'Price_EUR', 'URLs']):\n",
    "    \"\"\"\n",
    "    This function recommends books based on a user's favorite authors, selecting\n",
    "    specified columns for the recommendations and ensuring unique book recommendations.\n",
    "\n",
    "    Args:\n",
    "        username: The username of the user.\n",
    "        users: A dictionary containing user information.\n",
    "        books_database: A Pandas DataFrame containing book information.\n",
    "        desired_columns (list, optional): A list of column names to select\n",
    "            from the recommended books. Defaults to ['Title', 'Author',\n",
    "            'Rating', 'Price_EUR', 'URLs'].\n",
    "\n",
    "    Returns:\n",
    "        A Pandas DataFrame containing recommended books (empty if none found).\n",
    "    \"\"\"\n",
    "\n",
    "    if username not in users:\n",
    "        print(\"User not found.\")\n",
    "        return pd.DataFrame()\n",
    "\n",
    "    if 'preferences' not in users[username]:\n",
    "        print(f\"User '{username}' has no preferences set.\")\n",
    "        return pd.DataFrame()\n",
    "\n",
    "    favorite_authors = users[username]['preferences'].get('favorite_author', [])\n",
    "\n",
    "    if not favorite_authors:\n",
    "        print(f\"User '{username}' has no favorite authors set.\")\n",
    "        return pd.DataFrame()\n",
    "\n",
    "    recommended_books = []\n",
    "\n",
    "    for author in favorite_authors:\n",
    "        author_books = books_database[books_database['Author'] == author]\n",
    "        if not author_books.empty:\n",
    "            # Sort the books by rating in descending order\n",
    "            sorted_books = author_books.sort_values(by='Rating', ascending=False)\n",
    "            # Select only the top 3 books per author\n",
    "            top_3_books = sorted_books.head(3)[desired_columns]\n",
    "            recommended_books.append(top_3_books)\n",
    "        else:\n",
    "            print(f\"No books found for author {author}.\")\n",
    "\n",
    "    if recommended_books:\n",
    "        # Concatenate the list of DataFrames into a single DataFrame\n",
    "        df = pd.concat(recommended_books)\n",
    "        return df\n",
    "    else:\n",
    "        print(\"No books found matching the criteria.\")\n",
    "        return pd.DataFrame()\n"
   ]
  },
  {
   "cell_type": "code",
   "execution_count": 24,
   "metadata": {},
   "outputs": [
    {
     "data": {
      "text/html": [
       "<style type=\"text/css\">\n",
       "</style>\n",
       "<table id=\"T_1f996\">\n",
       "  <thead>\n",
       "    <tr>\n",
       "      <th class=\"blank level0\" >&nbsp;</th>\n",
       "      <th id=\"T_1f996_level0_col0\" class=\"col_heading level0 col0\" >Title</th>\n",
       "      <th id=\"T_1f996_level0_col1\" class=\"col_heading level0 col1\" >Author</th>\n",
       "      <th id=\"T_1f996_level0_col2\" class=\"col_heading level0 col2\" >Rating</th>\n",
       "      <th id=\"T_1f996_level0_col3\" class=\"col_heading level0 col3\" >Price_EUR</th>\n",
       "      <th id=\"T_1f996_level0_col4\" class=\"col_heading level0 col4\" >URLs</th>\n",
       "    </tr>\n",
       "  </thead>\n",
       "  <tbody>\n",
       "    <tr>\n",
       "      <th id=\"T_1f996_level0_row0\" class=\"row_heading level0 row0\" >7742</th>\n",
       "      <td id=\"T_1f996_row0_col0\" class=\"data row0 col0\" >Harry Potter and the Prisoner of Azkaban: MinaLima Edition</td>\n",
       "      <td id=\"T_1f996_row0_col1\" class=\"data row0 col1\" >J.K. Rowling</td>\n",
       "      <td id=\"T_1f996_row0_col2\" class=\"data row0 col2\" >4.900000</td>\n",
       "      <td id=\"T_1f996_row0_col3\" class=\"data row0 col3\" >28.650000</td>\n",
       "      <td id=\"T_1f996_row0_col4\" class=\"data row0 col4\" >https://www.amazon.in/Harry-Potter-Prisoner-Azkaban-MinaLima/dp/1526666324/ref=zg_bs_g_67803449031_d_sccl_15/000-0000000-0000000?psc=1</td>\n",
       "    </tr>\n",
       "    <tr>\n",
       "      <th id=\"T_1f996_level0_row1\" class=\"row_heading level0 row1\" >932</th>\n",
       "      <td id=\"T_1f996_row1_col0\" class=\"data row1 col0\" >Harry Potter and the Prisoner of Azkaban: MinaLima Edition</td>\n",
       "      <td id=\"T_1f996_row1_col1\" class=\"data row1 col1\" >J.K. Rowling</td>\n",
       "      <td id=\"T_1f996_row1_col2\" class=\"data row1 col2\" >4.900000</td>\n",
       "      <td id=\"T_1f996_row1_col3\" class=\"data row1 col3\" >28.650000</td>\n",
       "      <td id=\"T_1f996_row1_col4\" class=\"data row1 col4\" >https://www.amazon.in/Harry-Potter-Prisoner-Azkaban-MinaLima/dp/1526666324/ref=zg_bs_g_67803457031_d_sccl_3/000-0000000-0000000?psc=1</td>\n",
       "    </tr>\n",
       "    <tr>\n",
       "      <th id=\"T_1f996_level0_row2\" class=\"row_heading level0 row2\" >2956</th>\n",
       "      <td id=\"T_1f996_row2_col0\" class=\"data row2 col0\" >Harry Potter and the Half-Blood Prince</td>\n",
       "      <td id=\"T_1f996_row2_col1\" class=\"data row2 col1\" >J.K. Rowling</td>\n",
       "      <td id=\"T_1f996_row2_col2\" class=\"data row2 col2\" >4.800000</td>\n",
       "      <td id=\"T_1f996_row2_col3\" class=\"data row2 col3\" >3.510000</td>\n",
       "      <td id=\"T_1f996_row2_col4\" class=\"data row2 col4\" >https://www.amazon.in/Harry-Potter-Half-Blood-Prince-Rowling-ebook/dp/B019PIOJZE/ref=zg_bs_g_1318163031_d_sccl_7/000-0000000-0000000?psc=1</td>\n",
       "    </tr>\n",
       "    <tr>\n",
       "      <th id=\"T_1f996_level0_row3\" class=\"row_heading level0 row3\" >10</th>\n",
       "      <td id=\"T_1f996_row3_col0\" class=\"data row3 col0\" >One Day</td>\n",
       "      <td id=\"T_1f996_row3_col1\" class=\"data row3 col1\" >David Nicholls</td>\n",
       "      <td id=\"T_1f996_row3_col2\" class=\"data row3 col2\" >4.200000</td>\n",
       "      <td id=\"T_1f996_row3_col3\" class=\"data row3 col3\" >9.970000</td>\n",
       "      <td id=\"T_1f996_row3_col4\" class=\"data row3 col4\" >https://www.amazon.in/One-Day/dp/B079P515NK/ref=zg_bs_g_1318054031_d_sccl_11/000-0000000-0000000?psc=1</td>\n",
       "    </tr>\n",
       "    <tr>\n",
       "      <th id=\"T_1f996_level0_row4\" class=\"row_heading level0 row4\" >4499</th>\n",
       "      <td id=\"T_1f996_row4_col0\" class=\"data row4 col0\" >US (REISSUE)</td>\n",
       "      <td id=\"T_1f996_row4_col1\" class=\"data row4 col1\" >David Nicholls</td>\n",
       "      <td id=\"T_1f996_row4_col2\" class=\"data row4 col2\" >4.000000</td>\n",
       "      <td id=\"T_1f996_row4_col3\" class=\"data row4 col3\" >9.720000</td>\n",
       "      <td id=\"T_1f996_row4_col4\" class=\"data row4 col4\" >https://www.amazon.in/Us-David-Nicholls/dp/0340897015/ref=zg_bs_g_1318187031_d_sccl_20/000-0000000-0000000?psc=1</td>\n",
       "    </tr>\n",
       "    <tr>\n",
       "      <th id=\"T_1f996_level0_row5\" class=\"row_heading level0 row5\" >5377</th>\n",
       "      <td id=\"T_1f996_row5_col0\" class=\"data row5 col0\" >Us: The Booker Prize-longlisted novel from the author of ONE DAY</td>\n",
       "      <td id=\"T_1f996_row5_col1\" class=\"data row5 col1\" >David Nicholls</td>\n",
       "      <td id=\"T_1f996_row5_col2\" class=\"data row5 col2\" >4.000000</td>\n",
       "      <td id=\"T_1f996_row5_col3\" class=\"data row5 col3\" >3.130000</td>\n",
       "      <td id=\"T_1f996_row5_col4\" class=\"data row5 col4\" >https://www.amazon.in/Us-David-Nicholls-ebook/dp/B00IWZNYTE/ref=zg_bs_g_89265414031_d_sccl_1/000-0000000-0000000?psc=1</td>\n",
       "    </tr>\n",
       "  </tbody>\n",
       "</table>\n"
      ],
      "text/plain": [
       "<pandas.io.formats.style.Styler at 0x11e29de10>"
      ]
     },
     "execution_count": 24,
     "metadata": {},
     "output_type": "execute_result"
    }
   ],
   "source": [
    "recommended_books_by_author = get_books_by_favorite_authors('Sean', user_manager.users, books_df)\n",
    "styled_recommended_books_by_author = recommended_books_by_author.style\n",
    "styled_recommended_books_by_author\n"
   ]
  },
  {
   "cell_type": "code",
   "execution_count": null,
   "metadata": {},
   "outputs": [],
   "source": []
  }
 ],
 "metadata": {
  "kernelspec": {
   "display_name": "Python 3 (ipykernel)",
   "language": "python",
   "name": "python3"
  },
  "language_info": {
   "codemirror_mode": {
    "name": "ipython",
    "version": 3
   },
   "file_extension": ".py",
   "mimetype": "text/x-python",
   "name": "python",
   "nbconvert_exporter": "python",
   "pygments_lexer": "ipython3",
   "version": "3.11.7"
  }
 },
 "nbformat": 4,
 "nbformat_minor": 4
}
